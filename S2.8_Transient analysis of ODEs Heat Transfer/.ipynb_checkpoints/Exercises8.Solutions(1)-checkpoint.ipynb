{
 "cells": [
  {
   "cell_type": "code",
   "execution_count": 1,
   "metadata": {},
   "outputs": [],
   "source": [
    "import numpy as np\n",
    "import matplotlib.pyplot as pl\n",
    "import math as mt\n",
    "import time\n",
    "from mpl_toolkits import mplot3d"
   ]
  },
  {
   "cell_type": "code",
   "execution_count": null,
   "metadata": {},
   "outputs": [],
   "source": [
    "# Task A\n",
    "\n",
    "# This script solves the heat conduction equation\n",
    "\n",
    "# set the input data\n",
    "# spatial domain\n",
    "a = 0  # lower boundary\n",
    "b = 0.5 # upper boundary\n",
    "dx = 0.01 # spatial increment\n",
    "# temporal domain\n",
    "tend = 3600 # temporal span\n",
    "dt = 1 # temporal increment\n",
    "\n",
    "# set the physics\n",
    "# boundary conditions (fixed temperature at boundaries)\n",
    "Ta = 50 \n",
    "Tb = 70\n",
    "# initial condition (initial temperature of the bar)\n",
    "T0 = 10 # initial temperature\n",
    "\n",
    "alpha = 1.172e-5 # thermal diffusivity\n",
    "# ================================================\n",
    "\n",
    "\n",
    "# greate the spatial grid points\n",
    "x = np.arange(a,b+dx,dx)\n",
    "Nx = len(x)\n",
    "# create the temporal grid points\n",
    "t = np.arange(0,tend+dt,dt)\n",
    "Nt = len(t)\n",
    "\n",
    "# create the solution matrix\n",
    "T = np.ndarray((Nt,Nx))\n",
    "\n",
    "# set the inital value everywhere along the bar\n",
    "T[0,:] = T0\n",
    "\n",
    "# compute the constant coefficient\n",
    "c = alpha * dt / dx**2\n",
    "\n",
    "# compute the solution incrementally at subsequent time steps\n",
    "for p in range(1,Nt):\n",
    "    # compute at time step p, i.e. t = p * dt\n",
    "    # do it for every node in the spatial grid\n",
    "    # start with the boundaries\n",
    "    T[p,0] = Ta\n",
    "    T[p,Nx-1] = Tb\n",
    "    # do the interior nodes\n",
    "    for i in range(1,Nx-1):\n",
    "        # apply the discretised equation\n",
    "        T[p,i] = c * ( T[p-1,i+1] + T[p-1,i-1] ) + (1 - 2*c) * T[p-1,i]\n",
    "\n",
    "pl.plot(x,T[-1,:])\n",
    "\n",
    "\n"
   ]
  },
  {
   "cell_type": "code",
   "execution_count": 3,
   "metadata": {},
   "outputs": [
    {
     "data": {
      "text/plain": [
       "[<matplotlib.lines.Line2D at 0x11767eb10>]"
      ]
     },
     "execution_count": 3,
     "metadata": {},
     "output_type": "execute_result"
    },
    {
     "data": {
      "image/png": "[encoded data removed]",
      "text/plain": [
       "<Figure size 432x288 with 1 Axes>"
      ]
     },
     "metadata": {
      "needs_background": "light"
     },
     "output_type": "display_data"
    }
   ],
   "source": [
    "# Task B\n",
    "\n",
    "# This script solves the heat conduction equation with mixed boundary conditions\n",
    "\n",
    "\n",
    "# set the input data\n",
    "# spatial domain\n",
    "a = 0  # lower boundary\n",
    "b = 0.5 # upper boundary\n",
    "dx = 0.01 # spatial increment\n",
    "# temporal domain\n",
    "tend = 1200 # temporal span\n",
    "dt = 1 # temporal increment\n",
    "\n",
    "# set the physics\n",
    "# initial condition (initial temperature of the bar)\n",
    "T0 = 10 # initial temperature\n",
    "\n",
    "Tw = 5 # temperature of surrounding water\n",
    "alpha = 1.172e-5 # thermal diffusivity\n",
    "K = 40  # thermal conductivity\n",
    "h = 500 # heat transfer coefficient\n",
    "# ================================================\n",
    "\n",
    "# greate the spatial grid points\n",
    "x = np.arange(a,b+dx,dx)\n",
    "Nx = len(x)\n",
    "# create the temporal grid points\n",
    "t = np.arange(0,tend+dt,dt)\n",
    "Nt = len(t)\n",
    "\n",
    "# create the solution matrix\n",
    "T = np.ndarray((Nt,Nx))\n",
    "\n",
    "# set the inital value everywhere along the bar\n",
    "T[0,:] = T0\n",
    "T[0,mt.ceil(Nx/2)] = 100 # set the sourse at the middle of the bar\n",
    "\n",
    "# compute the constant coefficient\n",
    "c = alpha * dt / dx**2\n",
    "\n",
    "# compute the solution incrementally at subsequent time steps\n",
    "for p in range(1,Nt):\n",
    "    # compute at time step p, i.e. t = p * dt\n",
    "    # do it for every node in the spatial grid\n",
    "    # start with the boundaries\n",
    "    T[p,0] = (h*Tw+K/dx*T[p-1,1]) / (h+K/dx)\n",
    "    T[p,Nx-1] = (h*Tw+K/dx*T[p-1,Nx-2]) / (h+K/dx)\n",
    "    # do the interior nodes\n",
    "    for i in range(1,Nx-1):\n",
    "        # apply the discretised equation\n",
    "        T[p,i] = c * ( T[p-1,i+1] + T[p-1,i-1] ) + (1 - 2*c) * T[p-1,i]\n",
    "\n",
    "    # enforce the source at the central node\n",
    "    T[p,mt.ceil(Nx/2)] = 100\n",
    "\n",
    "\n",
    "#pl.plot(x,T[0,:])\n",
    "pl.plot(x,T[-1,:])\n"
   ]
  },
  {
   "cell_type": "code",
   "execution_count": 13,
   "metadata": {},
   "outputs": [
    {
     "name": "stdout",
     "output_type": "stream",
     "text": [
      "0.46880000000000005\n"
     ]
    },
    {
     "data": {
      "text/plain": [
       "[<matplotlib.lines.Line2D at 0x11ceda390>]"
      ]
     },
     "execution_count": 13,
     "metadata": {},
     "output_type": "execute_result"
    },
    {
     "data": {
      "image/png": "[encoded data removed]",
      "text/plain": [
       "<Figure size 432x288 with 1 Axes>"
      ]
     },
     "metadata": {
      "needs_background": "light"
     },
     "output_type": "display_data"
    }
   ],
   "source": [
    "# Task C\n",
    "\n",
    "# This script solves the heat conduction equation\n",
    "\n",
    "# set the input data\n",
    "# spatial domain\n",
    "a = 0  # lower boundary\n",
    "b = 0.5 # upper boundary\n",
    "dx = 0.001 # spatial increment\n",
    "# temporal domain\n",
    "tend = 3600 # temporal span\n",
    "dt = 0.04 # temporal increment\n",
    "\n",
    "# set the physics\n",
    "# boundary conditions (fixed temperature at boundaries)\n",
    "Ta = 50 \n",
    "Tb = 50\n",
    "# initial condition (initial temperature of the bar)\n",
    "T0 = 10 # initial temperature\n",
    "\n",
    "alpha = 1.172e-5 # thermal diffusivity\n",
    "# ================================================\n",
    "\n",
    "\n",
    "# greate the spatial grid points\n",
    "x = np.arange(a,b+dx,dx)\n",
    "Nx = len(x)\n",
    "# create the temporal grid points\n",
    "t = np.arange(0,tend+dt,dt)\n",
    "Nt = len(t)\n",
    "\n",
    "# create the solution matrix\n",
    "T = np.ndarray((Nt,Nx))\n",
    "\n",
    "# set the inital value everywhere along the bar\n",
    "T[0,:] = T0\n",
    "\n",
    "# compute the constant coefficient\n",
    "c = alpha * dt / dx**2\n",
    "\n",
    "# compute the solution incrementally at subsequent time steps\n",
    "for p in range(1,Nt):\n",
    "    # compute at time step p, i.e. t = p * dt\n",
    "    # do it for every node in the spatial grid\n",
    "    # start with the boundaries\n",
    "    T[p,0] = Ta\n",
    "    T[p,Nx-1] = Tb\n",
    "    # do the interior nodes\n",
    "    for i in range(1,Nx-1):\n",
    "        # apply the discretised equation\n",
    "        T[p,i] = c * ( T[p-1,i+1] + T[p-1,i-1] ) + (1 - 2*c) * T[p-1,i]\n",
    "        \n",
    "Cour = alpha * dt / dx**2\n",
    "print(Cour)\n",
    "\n",
    "pl.plot(x,T[-1,:])"
   ]
  },
  {
   "cell_type": "code",
   "execution_count": 2,
   "metadata": {},
   "outputs": [
    {
     "name": "stdout",
     "output_type": "stream",
     "text": [
      "81.23050294863022\n"
     ]
    },
    {
     "data": {
      "text/plain": [
       "<matplotlib.colorbar.Colorbar at 0x120b71510>"
      ]
     },
     "execution_count": 2,
     "metadata": {},
     "output_type": "execute_result"
    },
    {
     "data": {
      "image/png": "[encoded data removed]",
      "text/plain": [
       "<Figure size 432x288 with 2 Axes>"
      ]
     },
     "metadata": {
      "needs_background": "light"
     },
     "output_type": "display_data"
    }
   ],
   "source": [
    "# Task D\n",
    "# This script solves the spatial 2-D heat conduction equation\n",
    "\n",
    "\n",
    "# set the input data\n",
    "# spatial domain\n",
    "xa = 0\n",
    "xb = 0.4\n",
    "ya = 0\n",
    "yb = 0.3\n",
    "pw = 0.06  # potato size\n",
    "\n",
    "dx = 0.01 # spatial increment\n",
    "dy = dx\n",
    "# temporal domain\n",
    "dt = 1 # temporal increment\n",
    "tend = 9000  # temporal span\n",
    "\n",
    "# set the physics\n",
    "Toven = 25 # initial Temperature of oven\n",
    "Tpot = -15 # initial Temperature of potato\n",
    "Tw = 180 # T of oven walls\n",
    "\n",
    "alphaAir = 1.9e-5 # thermal diffusivity of air\n",
    "alphapot = 1.3e-7 # thermal diffusivity of potato\n",
    "# ================================================\n",
    "\n",
    "\n",
    "# position of the potato\n",
    "xap = (xb-xa)/2 - pw/2\n",
    "xbp = (xb-xa)/2 + pw/2\n",
    "yap = (yb-ya)/2 - pw/2 \n",
    "ybp = (yb-ya)/2 + pw/2\n",
    "\n",
    "\n",
    "# greate the spatial grid points\n",
    "x = np.arange(xa,xb+dx,dx)\n",
    "Nx = len(x)\n",
    "y = np.arange(ya,yb+dy,dy)\n",
    "Ny = len(y)\n",
    "# create the temporal grid points\n",
    "t = np.arange(0,tend+dt,dt)\n",
    "Nt = len(t)\n",
    "\n",
    "# create the solution matrix\n",
    "T = np.ndarray((Nt,Nx,Ny))\n",
    "\n",
    "# I am defining a matix alpha of thermal diffusivity, in case we wish to have different spatial values, \n",
    "# i.e. the diffusivity of the potato where the potato lays.\n",
    "alpha = np.ndarray((Nx,Ny))\n",
    "alpha[:,:] = alphaAir\n",
    "\n",
    "\n",
    "# set the inital value everywhere in the oven\n",
    "T[0,:,:] = Toven\n",
    "# initialise the tempearture of the potato\n",
    "for i in range(0,Nx):\n",
    "    for j in range(0,Ny):\n",
    "        if (xap<=x[i]<=xbp) and (yap<=y[j]<=ybp):\n",
    "            T[0,i,j] = Tpot\n",
    "            alpha[i,j] = alphapot\n",
    "\n",
    "# check the Courant condition\n",
    "Courant = np.max(alpha) * dt/ dx**2\n",
    "\n",
    "# compute the constant coefficient\n",
    "cx = alpha * dt / dx**2\n",
    "cy = alpha * dt / dy**2\n",
    "\n",
    "# compute the solution incrementally at subsequent time steps\n",
    "for p in range(1,Nt):\n",
    "    # compute at time step p, i.e. t = p * dt\n",
    "    # do it for every node in the spatial grid\n",
    "    # start with the boundaries\n",
    "    T[p,0,:] = Tw # N\n",
    "    T[p,Nx-1,:] = Tw # S\n",
    "    T[p,:,0] = Tw # W\n",
    "    T[p,:,Ny-1] = Tw # E\n",
    "    # do the interior nodes\n",
    "    for i in range(1,Nx-1):\n",
    "        for j in range(1,Ny-1):\n",
    "            # apply the discretised equation\n",
    "            T[p,i,j] = cx[i,j]*(T[p-1,i+1,j]+T[p-1,i-1,j]) + \\\n",
    "                       cy[i,j]*(T[p-1,i,j+1]+T[p-1,i,j-1]) + \\\n",
    "                       (1 - 2*cx[i,j] - 2*cy[i,j]) * T[p-1,i,j]\n",
    "\n",
    "\n",
    "\n",
    "print( np.min(T[-1,:,:]) )\n",
    "\n",
    "# plot surface or contour plot\n",
    "(Yg, Xg) = np.meshgrid(y,x)\n",
    "pl.contourf(Xg,Yg,T[-1,:,:])\n",
    "pl.colorbar()\n",
    "\n"
   ]
  },
  {
   "cell_type": "code",
   "execution_count": null,
   "metadata": {},
   "outputs": [],
   "source": []
  }
 ],
 "metadata": {
  "kernelspec": {
   "display_name": "Python 3",
   "language": "python",
   "name": "python3"
  },
  "language_info": {
   "codemirror_mode": {
    "name": "ipython",
    "version": 3
   },
   "file_extension": ".py",
   "mimetype": "text/x-python",
   "name": "python",
   "nbconvert_exporter": "python",
   "pygments_lexer": "ipython3",
   "version": "3.7.6"
  }
 },
 "nbformat": 4,
 "nbformat_minor": 2
}
