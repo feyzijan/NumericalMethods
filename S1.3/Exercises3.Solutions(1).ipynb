{
 "cells": [
  {
   "cell_type": "code",
   "execution_count": null,
   "metadata": {},
   "outputs": [],
   "source": [
    "# A1\n",
    "N = 10\n",
    "# set the range for the counter\n",
    "R = range(1,N+1)\n",
    "# repeat the same action\n",
    "for i in R:\n",
    "    print('I need to comment my scripts. Comments are marked too')"
   ]
  },
  {
   "cell_type": "code",
   "execution_count": null,
   "metadata": {},
   "outputs": [],
   "source": [
    "# A2\n",
    "# input N\n",
    "N = input('Gimme me N: ')\n",
    "N = int(N)\n",
    "# initialise the sum\n",
    "sum = 0\n",
    "# set the range of the counter\n",
    "R = range(1,N+1)\n",
    "for i in R:\n",
    "    # add the current term to the total sum\n",
    "    sum = sum + i**2\n",
    "# print out the result\n",
    "print(sum)"
   ]
  },
  {
   "cell_type": "code",
   "execution_count": null,
   "metadata": {},
   "outputs": [],
   "source": [
    "# A3\n",
    "# import the library for random numbers\n",
    "import random\n",
    "# input N\n",
    "N = input('Gimme me N: ')\n",
    "N = int(N)\n",
    "# initialise the sum\n",
    "sum = 0\n",
    "# set the range of the counter\n",
    "R = range(1,N+1)\n",
    "# repeat throwing the dice\n",
    "for i in R:\n",
    "    # throw the dice, obtaining a random number between 1 and 6\n",
    "    dice = int(random.random()*6+1)\n",
    "    # print the outcome, for convenience\n",
    "    print(dice)\n",
    "    # add the current outcome to the total score\n",
    "    sum = sum + dice\n",
    "# print out the result\n",
    "print(sum)"
   ]
  },
  {
   "cell_type": "code",
   "execution_count": null,
   "metadata": {},
   "outputs": [],
   "source": [
    "# A4\n",
    "# input N\n",
    "N = input('Gimme me N: ')\n",
    "N = int(N)\n",
    "# initialise the product\n",
    "f = 1\n",
    "# set the range of the counter, from n to 1 in decremental steps of 1\n",
    "R = range(N,0,-1)\n",
    "for i in R:\n",
    "    # contribution of the current term to the overall product\n",
    "    f = f * i\n",
    "# print out the result\n",
    "print(f)"
   ]
  },
  {
   "cell_type": "code",
   "execution_count": null,
   "metadata": {},
   "outputs": [],
   "source": [
    "# B1\n",
    "import random\n",
    "# read from the keyboard the name of the first player\n",
    "P1 = input('Name of first player: ')\n",
    "# read from the keyboard the name of the second player\n",
    "P2 = input('Name of second player: ')\n",
    "# throw the dice for the two players\n",
    "dice1 = int(random.random()*6+1)\n",
    "dice2 = int(random.random()*6+1)\n",
    "# print the outcomes for convenience\n",
    "print(dice1, dice2)\n",
    "if dice1 == dice2:\n",
    "    # the match is a draw\n",
    "    text = 'Match is a draw'\n",
    "else:\n",
    "    # the match has a winner: establish who\n",
    "    if dice1 > dice2:\n",
    "          text = 'Player ' + P1 + ' wins player ' + P2\n",
    "    else:\n",
    "          text = 'Player ' + P2 + ' wins player ' + P1\n",
    "# print out the result\n",
    "print(text)"
   ]
  },
  {
   "cell_type": "code",
   "execution_count": null,
   "metadata": {},
   "outputs": [],
   "source": [
    "# B2\n",
    "import random\n",
    "# read from the keyboard the name of the first player\n",
    "P1 = input('Name of first player: ')\n",
    "# read from the keyboard the name of the second player\n",
    "P2 = input('Name of second player: ')\n",
    "# set the number of plays\n",
    "N = 6\n",
    "# set the range of the counter\n",
    "R = range(1,N+1)\n",
    "# initialise the counters for winners\n",
    "W1 = 0\n",
    "W2 = 0\n",
    "for i in R:\n",
    "    # throw the dice for the two players\n",
    "    dice1 = int(random.random()*6+1)\n",
    "    dice2 = int(random.random()*6+1)\n",
    "    # print the outcomes for convenience\n",
    "    print(dice1, dice2)\n",
    "    if dice1 == dice2:\n",
    "        # the match is a draw: do nothing\n",
    "        pass\n",
    "    else:\n",
    "        # the match has a winner: establish who\n",
    "        if dice1 > dice2:\n",
    "            W1 = W1 +1\n",
    "        else:\n",
    "            W2 = W2 + 1\n",
    "# declare the winner            \n",
    "if W1 > W2:\n",
    "    text = 'Player ' + P1 + ' won ' + str(W1) + ' games, player ' + P2 + ' won only ' + str(W2) + ' games.'\n",
    "else:\n",
    "    text = 'Player ' + P2 + ' won ' + str(W2) + ' games, player ' + P1 + ' won only ' + str(W1) + ' games.'\n",
    "print(text)\n",
    "print(W1,W2)"
   ]
  },
  {
   "cell_type": "code",
   "execution_count": 5,
   "metadata": {},
   "outputs": [
    {
     "name": "stdout",
     "output_type": "stream",
     "text": [
      "Your throw (1,2,3): 1\n",
      "1 3\n",
      "Players wins\n"
     ]
    }
   ],
   "source": [
    "# B3\n",
    "import random\n",
    "# Ask the user to input his/her throw, i.e. either R, P or S\n",
    "P = input('Your throw (1,2,3): ')\n",
    "P = int(P)\n",
    "# machine plays\n",
    "M = int(random.random()*3+1)\n",
    "# check if it is a draw\n",
    "if M == P:\n",
    "    # same throw: it's a draw\n",
    "    outcome = 'It is a draw'\n",
    "else:\n",
    "    # compound Boolean condition for the player to win over the machine\n",
    "    if P==1 and M==3 or P==2 and M==1 or P==3 and M==2:\n",
    "        outcome = 'Players wins'\n",
    "    else:\n",
    "        outcome = 'Machine wins'\n",
    "# declare the winner\n",
    "print(P,M)\n",
    "print(outcome)"
   ]
  },
  {
   "cell_type": "code",
   "execution_count": 6,
   "metadata": {},
   "outputs": [
    {
     "name": "stdout",
     "output_type": "stream",
     "text": [
      "3.1528\n"
     ]
    }
   ],
   "source": [
    "# C1\n",
    "import random\n",
    "# set the number of points\n",
    "N = 10000\n",
    "# set the range of the counter\n",
    "R = range(1,N+1)\n",
    "# initialise the number of points within the circle\n",
    "Nc = 0\n",
    "for i in R:\n",
    "    # generates x and y coordinates for a point within the square\n",
    "    x = random.random()\n",
    "    y = random.random()\n",
    "    # establish if this point is within the circle\n",
    "    if (x-0.5)**2 + (y-0.5)**2 < 0.5**2:\n",
    "        # count it \n",
    "        Nc = Nc + 1\n",
    "# find the area\n",
    "A = 4 * Nc / N\n",
    "print(A)"
   ]
  },
  {
   "cell_type": "code",
   "execution_count": null,
   "metadata": {},
   "outputs": [],
   "source": [
    "# C2\n",
    "import matplotlib.pyplot as pl\n",
    "import random\n",
    "# set the number of points\n",
    "N = 10000\n",
    "# set the range of the counter\n",
    "R = range(1,N+1)\n",
    "# initialise the number of points within the circle\n",
    "Nc = 0\n",
    "for i in R:\n",
    "    # generates x and y coordinates for a point within the square\n",
    "    x = random.random()\n",
    "    y = random.random()\n",
    "    # establish if this point is within the circle\n",
    "    if (x-0.5)**2 + (y-0.5)**2 < 0.5**2:\n",
    "        # count it \n",
    "        Nc = Nc + 1\n",
    "        # set the colour in red\n",
    "        Col = 'Red'\n",
    "    else:\n",
    "        # set the colour in blue\n",
    "        Col = 'Blue'\n",
    "    # visualise the point\n",
    "    pl.scatter(x,y,s=1,c=Col)\n",
    "# find the area\n",
    "A = 4 * Nc / N\n",
    "print(A)"
   ]
  },
  {
   "cell_type": "code",
   "execution_count": null,
   "metadata": {},
   "outputs": [],
   "source": [
    "# D1\n",
    "# input the value of N\n",
    "N = input('Gimme N: ')\n",
    "# value is read as String. It needs to be converted into a number\n",
    "N = int(N)\n",
    "# set the range of the counter\n",
    "R = range(2,N+1)\n",
    "# initialise the list of primes\n",
    "Plist = []\n",
    "# traverse all the numbers from 1 to N\n",
    "for i in R:\n",
    "    # examine if i is a prime\n",
    "    # assume that i is a prime\n",
    "    prime = True\n",
    "    # find if there is a number between 2 and i-1 that can divide i\n",
    "    # generate a range from 2 to i-1\n",
    "    Ri = range(2,i)\n",
    "    for j in Ri:\n",
    "        # check if i is divisible by j, by looking at the reminder\n",
    "        if i % j == 0:\n",
    "            # i is divisible by j, hence it is not a prime. Our initial assumption goes banana\n",
    "            prime = False\n",
    "    # if i is a prime add it to the list\n",
    "    if prime:\n",
    "        Plist = Plist + [i]\n",
    "print(Plist)\n",
    "print(len(Plist))"
   ]
  },
  {
   "cell_type": "code",
   "execution_count": null,
   "metadata": {},
   "outputs": [],
   "source": [
    "a = 0\n",
    "c = 1\n",
    "d = 2\n",
    "B =  (a == c or a > c)  or (a != c ) \n",
    "print(B)"
   ]
  },
  {
   "cell_type": "code",
   "execution_count": null,
   "metadata": {},
   "outputs": [],
   "source": [
    "import random\n",
    "N = 100\n",
    "R = range(1,N+1)\n",
    "y = []\n",
    "for i in R:\n",
    "    y = y + [random.random()**2]\n",
    "print(min(y),max(y))"
   ]
  },
  {
   "cell_type": "code",
   "execution_count": null,
   "metadata": {},
   "outputs": [],
   "source": [
    "\n"
   ]
  },
  {
   "cell_type": "code",
   "execution_count": null,
   "metadata": {},
   "outputs": [],
   "source": []
  }
 ],
 "metadata": {
  "kernelspec": {
   "display_name": "Python 3",
   "language": "python",
   "name": "python3"
  },
  "language_info": {
   "codemirror_mode": {
    "name": "ipython",
    "version": 3
   },
   "file_extension": ".py",
   "mimetype": "text/x-python",
   "name": "python",
   "nbconvert_exporter": "python",
   "pygments_lexer": "ipython3",
   "version": "3.7.6"
  }
 },
 "nbformat": 4,
 "nbformat_minor": 2
}
