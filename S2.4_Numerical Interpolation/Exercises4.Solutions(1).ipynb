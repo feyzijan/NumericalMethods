{
 "cells": [
  {
   "cell_type": "code",
   "execution_count": 4,
   "metadata": {},
   "outputs": [],
   "source": [
    "import numpy as np\n",
    "import matplotlib.pyplot as pl\n"
   ]
  },
  {
   "cell_type": "code",
   "execution_count": 10,
   "metadata": {},
   "outputs": [],
   "source": [
    "def func(x):\n",
    "    y = 1 / (1+25*x**2)\n",
    "    #y = np.sin(x)\n",
    "\n",
    "    return y\n"
   ]
  },
  {
   "cell_type": "code",
   "execution_count": 13,
   "metadata": {},
   "outputs": [
    {
     "name": "stdout",
     "output_type": "stream",
     "text": [
      "19.999999999999993\n"
     ]
    }
   ],
   "source": [
    "# Langrangian polynomial\n",
    "# compute the Lagrangian polynomials j, given nodes xn at a given point xp\n",
    "def Lagrangian(j,xn,xp):\n",
    "    # establish the number of nodes\n",
    "    n = len(xn)\n",
    "    # the order of the polynomial will then be n-1\n",
    "    \n",
    "    # set the initial value of the polynomial to 1\n",
    "    L = 1\n",
    "    # range of k is from 0 to n-1 (the order of the polynomial)\n",
    "    for k in range(0,n):\n",
    "        # exclude the case k == j\n",
    "        if k != j:\n",
    "            L *= (xp-xn[k]) / (xn[j]-xn[k])\n",
    "    return L\n",
    "print(Lagrangian(j,xn,xp))"
   ]
  },
  {
   "cell_type": "code",
   "execution_count": 12,
   "metadata": {},
   "outputs": [
    {
     "data": {
      "image/png": "[encoded data removed]",
      "text/plain": [
       "<Figure size 432x288 with 1 Axes>"
      ]
     },
     "metadata": {
      "needs_background": "light"
     },
     "output_type": "display_data"
    },
    {
     "data": {
      "image/png": "[encoded data removed]",
      "text/plain": [
       "<Figure size 432x288 with 1 Axes>"
      ]
     },
     "metadata": {
      "needs_background": "light"
     },
     "output_type": "display_data"
    }
   ],
   "source": [
    "# Lagrangian interpolation\n",
    "\n",
    "# the the nodal information, i.e. the list of known nodes xn and values yn\n",
    "a = 1 # lower interval\n",
    "b = 2 # upper interval\n",
    "N = 4 # number of nodes\n",
    "xn = np.linspace(a,b,N)\n",
    "\n",
    "yn = func(xn)\n",
    "\n",
    "\n",
    "# set the domain of interpolation\n",
    "x = np.linspace(0,3,50)\n",
    "y = []\n",
    "\n",
    "# establish the order of the interpolating polynomial, N-1\n",
    "n = N - 1\n",
    "# interpolate for all the values of x in the interpolating range\n",
    "for xp in x:\n",
    "    # evaluate pn(xp)\n",
    "    yp = 0\n",
    "    # use Langrangian polynomial up to n, included\n",
    "    for j in range(0,n+1):\n",
    "        yp += yn[j] * Lagrangian(j,xn,xp)\n",
    "    # add the curren value of yp to the list of y\n",
    "    y += [yp]\n",
    "\n",
    "# convert list into array\n",
    "y = np.array(y)   \n",
    "# plot polynomial in the interpolating range\n",
    "pl.plot(x,y,c='Red')\n",
    "# plot the initial nodal info only\n",
    "pl.scatter(xn,yn,c='Blue')\n",
    "# plot the actual function\n",
    "pl.plot(x,func(x),c='Green')\n",
    "pl.show()\n",
    "\n",
    "# compare against slides in class\n",
    "# plot polynomial in the interpolating range\n",
    "pl.plot(x,y,c='Red')\n",
    "\n",
    "p1 = 0.06783 * x + 0.7736\n",
    "p2 = -0.4884 * x**2 + 1.533 * x -0.2032\n",
    "p3 = -0.01212 * x**3 -0.43245 * x**2 + 1.4502 * x -0.1641\n",
    "\n",
    "pl.scatter(x,p3,c='Green')\n",
    "pl.show()"
   ]
  },
  {
   "cell_type": "code",
   "execution_count": 6,
   "metadata": {},
   "outputs": [
    {
     "name": "stdout",
     "output_type": "stream",
     "text": [
      "1 -0.006579409572089747\n",
      "2 0.0002760054513267166\n",
      "3 0.00011031509465401351\n",
      "4 -1.2372989128692224e-05\n",
      "5 -1.3557637258340693e-06\n",
      "6 3.07606906040786e-07\n",
      "7 5.825987581253855e-09\n",
      "8 -5.5307138591143e-09\n",
      "9 2.1649787171340584e-10\n",
      "10 7.486749761809186e-11\n",
      "11 -7.34208180364071e-12\n",
      "12 -7.003356228274527e-13\n",
      "13 1.3930523401484152e-13\n",
      "14 2.258609965721803e-15\n"
     ]
    },
    {
     "name": "stderr",
     "output_type": "stream",
     "text": [
      "<ipython-input-6-d99155d302fc>:22: RuntimeWarning: invalid value encountered in log\n",
      "  pl.scatter(i+1,np.log(error))\n"
     ]
    },
    {
     "data": {
      "image/png": "[encoded data removed]",
      "text/plain": [
       "<Figure size 432x288 with 1 Axes>"
      ]
     },
     "metadata": {
      "needs_background": "light"
     },
     "output_type": "display_data"
    }
   ],
   "source": [
    "# error analysis\n",
    "\n",
    "a = 1 # lower interval\n",
    "b = 2 # upper interval\n",
    "xp = np.pi/2\n",
    "y = []\n",
    "for Nx in range(2,17):\n",
    "    xn = np.linspace(a,b,Nx)\n",
    "    yn = func(xn)\n",
    "    n = len(xn) - 1\n",
    "    # interpolate for xp\n",
    "    yp = 0\n",
    "    # use Langrangian polynomial up to n, included\n",
    "    for j in range(0,n+1):\n",
    "        yp += yn[j] * Lagrangian(j,xn,xp)\n",
    "    y += [yp]\n",
    "# compute the basic error\n",
    "y = np.array(y)\n",
    "for i in range(0,14):\n",
    "    error = y[i+1] - y[i]\n",
    "    print(i+1,error)\n",
    "    pl.scatter(i+1,np.log(error))"
   ]
  },
  {
   "cell_type": "code",
   "execution_count": 1,
   "metadata": {},
   "outputs": [],
   "source": [
    "import numpy as np\n",
    "\n",
    "def NewtDivDiff(xn,yn):\n",
    "    # recursive form\n",
    "    \n",
    "    # determine number of points\n",
    "    N = len(xn)\n",
    "    # set the order: 1 node -> f0; 2 nodes -> f1, etc.\n",
    "    N = N - 1\n",
    "\n",
    "    if N == 0:\n",
    "        # f is the point itself\n",
    "        f = yn[0]\n",
    "    else:\n",
    "        # f is defined recursively as (slide 64):\n",
    "        # f = ( f[x0,...x(n-1)] - f[x1,...xn] ) / ( x0 - xn)\n",
    "        f = ( NewtDivDiff(xn[:-1],yn[:-1]) - NewtDivDiff(xn[1:],yn[1:]) ) / ( xn[0] - xn[-1] )\n",
    "    return f\n",
    "\n",
    "\n",
    "def NewtDivDiffIt(xn,yn):\n",
    "    # iterative form\n",
    "    \n",
    "    # determine number of points\n",
    "    N = len(xn)\n",
    "    # set the order: 1 node -> f0; 2 nodes -> f1, etc.\n",
    "    n = N - 1\n",
    "    f = np.copy(yn)\n",
    "    for j in range(0,n):\n",
    "        for i in range(0,n-j):\n",
    "            f[i] = (f[i+1]-f[i]) / (xn[i+j+1]-xn[i])\n",
    "             \n",
    "    return f[0]\n",
    "\n"
   ]
  },
  {
   "cell_type": "code",
   "execution_count": 30,
   "metadata": {},
   "outputs": [
    {
     "data": {
      "image/png": "[encoded data removed]",
      "text/plain": [
       "<Figure size 432x288 with 1 Axes>"
      ]
     },
     "metadata": {
      "needs_background": "light"
     },
     "output_type": "display_data"
    }
   ],
   "source": [
    "import matplotlib.pyplot as pl\n",
    "\n",
    "# main\n",
    "a = -1 # lower interval\n",
    "b = 1 # upper interval\n",
    "Nx = 6 # number of nodes\n",
    "xn = np.linspace(a,b,Nx)\n",
    "yn = func(xn)\n",
    "# determine order\n",
    "k = Nx - 1\n",
    "\n",
    "\n",
    "# set the domain of interpolation\n",
    "x = np.linspace(-1,1,50)\n",
    "y = []\n",
    "\n",
    "for xp in x:\n",
    "    # determine pn at x = xp\n",
    "    yp = yn[0]\n",
    "    for i in range(0,k):\n",
    "        prod = 1\n",
    "        for j in range(0,i+1):\n",
    "            prod *= (xp-xn[j])\n",
    "\n",
    "        yp += prod * NewtDivDiff(xn[0:i+2],yn[0:i+2])\n",
    "\n",
    "    y += [yp]\n",
    "\n",
    "# convert list into array\n",
    "y = np.array(y)   \n",
    "# plot polynomial in the interpolating range\n",
    "pl.plot(x,y,c='Red')\n",
    "# plot the initial nodal info only\n",
    "pl.scatter(xn,yn,c='Blue')\n",
    "# plot the actual function\n",
    "pl.plot(x,func(x),c='Green')\n",
    "pl.show()"
   ]
  },
  {
   "cell_type": "code",
   "execution_count": 23,
   "metadata": {},
   "outputs": [],
   "source": [
    "def MyGauss(A,b):\n",
    "    \n",
    "    # number of equations\n",
    "    n = len(b)\n",
    "    \n",
    "    # eliminate the unknowns, from first to (n-1)th unknown, to form an upper triangular matrix\n",
    "    for i in range(0,n-1):\n",
    "        # eliminate the i-th unknown from the (i+1)th row downwards\n",
    "        # i.e. set the zeros in column i.\n",
    "        for j in range(i+1,n):\n",
    "            # eliminate on row j\n",
    "\n",
    "            # A(i,i) is the pivot coefficient\n",
    "            p = A[j,i] / A[i,i]\n",
    "        \n",
    "            # compute the new elements of row j in matrix A\n",
    "            # use slicing\n",
    "            #A[j,:] = A[j,:] - p * A[i,:]\n",
    "            # or, alternatively, loop for every cell of row j\n",
    "            #for k in range(i,n):\n",
    "            #    A[j,k] = A[j,k] - p * A[i,k]\n",
    "            A[j,:] = A[j,:] - p * A[i,:]\n",
    "\n",
    "            # compute the new element of row j in vector b\n",
    "            b[j] = b[j] - p * b[i]\n",
    "    \n",
    "    \n",
    "    # evauate, by back substitution the solution\n",
    "    # start from the last unknown and go upward till the first unknown\n",
    "    x = np.zeros(n)\n",
    "    for i in range(n-1,-1,-1):\n",
    "        # contribution from b (right hand side of the equation)\n",
    "        x[i] = b[i] / A[i,i]\n",
    "        # contribution from the other (already evaluated) unknowns\n",
    "        # (within the left hand side of the equation)\n",
    "        for k in range(i+1,n):\n",
    "            x[i] = x[i] - A[i,k] * x[k] / A[i,i]\n",
    "\n",
    "    return x"
   ]
  },
  {
   "cell_type": "code",
   "execution_count": 31,
   "metadata": {},
   "outputs": [
    {
     "data": {
      "image/png": "[encoded data removed]",
      "text/plain": [
       "<Figure size 432x288 with 1 Axes>"
      ]
     },
     "metadata": {
      "needs_background": "light"
     },
     "output_type": "display_data"
    }
   ],
   "source": [
    "##????\n",
    "\n",
    "import numpy as np\n",
    "import matplotlib.pyplot as pl\n",
    "# spline\n",
    "\n",
    "\n",
    "# set the nodal info\n",
    "a = -1 # lower interval\n",
    "b = 1 # upper interval\n",
    "Nx = 13 # number of nodes\n",
    "xn = np.linspace(a,b,Nx)\n",
    "yn = func(xn)\n",
    "\n",
    "bclower = 0.0740\n",
    "bcupper = -0.0740\n",
    "\n",
    "# set the domain of interpolation\n",
    "x = np.linspace(a,b,50)\n",
    "y = np.ndarray(len(x))\n",
    "\n",
    "\n",
    "# determine cubic coefficients aj, bj, cj, dj\n",
    "# there need to be ns = Nx - 1 cubic splines\n",
    "ns = Nx - 1\n",
    "aj = np.ndarray(ns)\n",
    "bj = np.ndarray(ns)\n",
    "cj = np.ndarray(ns)\n",
    "dj = np.ndarray(ns)\n",
    "\n",
    "# form the matrix A (of unknown)\n",
    "A = np.zeros((Nx,Nx))\n",
    "b = np.zeros(Nx)\n",
    "\n",
    "A[0,0] = 1\n",
    "b[0] = bclower\n",
    "A[-1,-1] = 1\n",
    "b[-1] = bcupper\n",
    "for j in range(1,ns):\n",
    "    A[j,j-1] = 1 / (xn[j]-xn[j-1])\n",
    "    A[j,j] = 2 / (xn[j]-xn[j-1]) + 2 / (xn[j+1]-xn[j])\n",
    "    A[j,j+1] = 1 / (xn[j+1]-xn[j])\n",
    "    \n",
    "    b[j] = 3 * ( (yn[j]-yn[j-1]) / (xn[j]-xn[j-1])**2 + (yn[j+1]-yn[j]) / (xn[j+1]-xn[j])**2 )\n",
    "\n",
    "# invert the matrix\n",
    "#v = np.linalg.inv(A).dot(b)\n",
    "v = MyGauss(A,b)\n",
    "# determine the coefficients\n",
    "for j in range(0,ns):\n",
    "    aj[j] = yn[j]\n",
    "    bj[j] = v[j]\n",
    "    cj[j] = 3*(yn[j+1]-yn[j])/(xn[j+1]-xn[j])**2 - (v[j+1]+2*v[j])/(xn[j+1]-xn[j])\n",
    "    dj[j] = -2*(yn[j+1]-yn[j])/(xn[j+1]-xn[j])**3 + (v[j+1]+v[j])/(xn[j+1]-xn[j])**2\n",
    "    \n",
    "# interpolate with spline\n",
    "for j in range(0,ns):\n",
    "    y[(xn[j]<=x) & (x<=xn[j+1])] = aj[j] + bj[j]*(x[(xn[j]<=x) & (x<=xn[j+1])]-xn[j]) +  \\\n",
    "          cj[j]*(x[(xn[j]<=x) & (x<=xn[j+1])]-xn[j])**2 + dj[j]*(x[(xn[j]<=x) & (x<=xn[j+1])]-xn[j])**3\n",
    "    \n",
    "\n",
    "# plot polynomial in the interpolating range\n",
    "pl.plot(x,y,c='Red')\n",
    "# plot the initial nodal info only\n",
    "pl.scatter(xn,yn,c='Blue')\n",
    "# plot the actual function\n",
    "pl.plot(x,func(x),c='Green')\n",
    "pl.show()"
   ]
  },
  {
   "cell_type": "code",
   "execution_count": null,
   "metadata": {},
   "outputs": [],
   "source": []
  },
  {
   "cell_type": "code",
   "execution_count": null,
   "metadata": {},
   "outputs": [],
   "source": []
  }
 ],
 "metadata": {
  "kernelspec": {
   "display_name": "Python 3",
   "language": "python",
   "name": "python3"
  },
  "language_info": {
   "codemirror_mode": {
    "name": "ipython",
    "version": 3
   },
   "file_extension": ".py",
   "mimetype": "text/x-python",
   "name": "python",
   "nbconvert_exporter": "python",
   "pygments_lexer": "ipython3",
   "version": "3.7.6"
  }
 },
 "nbformat": 4,
 "nbformat_minor": 2
}
