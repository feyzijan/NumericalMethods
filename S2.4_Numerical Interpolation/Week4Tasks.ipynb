{
 "cells": [
  {
   "cell_type": "code",
   "execution_count": 2,
   "metadata": {},
   "outputs": [],
   "source": [
    "import numpy as np\n",
    "import matplotlib.pyplot as pp"
   ]
  },
  {
   "cell_type": "code",
   "execution_count": 3,
   "metadata": {},
   "outputs": [
    {
     "data": {
      "text/plain": [
       "1.0"
      ]
     },
     "execution_count": 3,
     "metadata": {},
     "output_type": "execute_result"
    }
   ],
   "source": [
    "#Task A.1 : Lagrangian function\n",
    "\n",
    "# Function that computes the lagrangian polynomial j at a given point xp with given nodes xn\n",
    "\n",
    "\n",
    "\n",
    "xn = np.array((1,2,3,4))\n",
    "j = 2\n",
    "xp = float(xn[2]) ## x = 3\n",
    "\n",
    "def Lagrangian (j,xp,xn):\n",
    "    l = 1\n",
    "    for k in range(0, len(xn)):\n",
    "        if (k != (j)):\n",
    "            l *= (xp - xn[k]) / (xn[j] - xn[k])\n",
    "                \n",
    "    return l\n",
    "                    \n",
    "\n",
    "                                 \n",
    "Lagrangian(j,xp,xn)"
   ]
  },
  {
   "cell_type": "code",
   "execution_count": 3,
   "metadata": {},
   "outputs": [
    {
     "data": {
      "text/plain": [
       "[<matplotlib.lines.Line2D at 0x158a8392d88>]"
      ]
     },
     "execution_count": 3,
     "metadata": {},
     "output_type": "execute_result"
    },
    {
     "data": {
      "image/png": "[encoded data removed]",
      "text/plain": [
       "<Figure size 432x288 with 1 Axes>"
      ]
     },
     "metadata": {
      "needs_background": "light"
     },
     "output_type": "display_data"
    }
   ],
   "source": [
    "# Task A.2: Interpolation with Lagrange polynomicals\n",
    "\n",
    "step = 0.05\n",
    "xn = np.arange(0, 3 + step, step)\n",
    "yn = np.sin(xn)\n",
    "\n",
    "\n",
    "\n",
    "## Linear interpolation\n",
    "xna = np.linspace(1,2,2)\n",
    "p = np.zeros(len(yn)) \n",
    "l = 1\n",
    "\n",
    "for i in range(0,len(yn)):\n",
    "    p[i] = np.sin(xna[0]) * Lagrangian(0,xn[i],xna) + np.sin(xna[1]) * Lagrangian(1,xn[i],xna)\n",
    "    \n",
    "\n",
    "    \n",
    "    \n",
    "pp.show()\n",
    "pp.plot(xn,p, color=\"blue\")\n",
    "\n",
    "## Quadratic interpolation\n",
    "xnb = np.linspace(1,2,3)\n",
    "p = np.zeros(len(yn)) \n",
    "l = 1\n",
    "\n",
    "for i in range(0,len(yn)):\n",
    "    p[i] = np.sin(xnb[0]) * Lagrangian(0,xn[i],xnb) + np.sin(xnb[1]) * Lagrangian(1,xn[i],xnb) + np.sin(xnb[2]) * Lagrangian(2,xn[i],xnb)\n",
    "    \n",
    "    \n",
    "pp.plot(xn,p, color=\"red\")\n",
    "\n",
    "## Cubic interpolation\n",
    "xnc = np.linspace(1,2,4)\n",
    "p = np.zeros(len(yn)) \n",
    "l = 1\n",
    "\n",
    "for i in range(0,len(yn)):\n",
    "    p[i] = np.sin(xnc[0]) * Lagrangian(0,xn[i],xnc) + np.sin(xnc[1]) * Lagrangian(1,xn[i],xnc) + np.sin(xnc[2]) * Lagrangian(2,xn[i],xnc) + np.sin(xnc[3]) * Lagrangian(3,xn[i],xnc)\n",
    "    \n",
    "pp.plot(xn,p, color=\"green\")    \n",
    "    \n",
    "\n",
    "    \n",
    "pp.plot(xn,yn, color=\"magenta\")        \n",
    "\n",
    "    \n",
    "\n",
    "\n"
   ]
  },
  {
   "cell_type": "code",
   "execution_count": 4,
   "metadata": {},
   "outputs": [
    {
     "name": "stdout",
     "output_type": "stream",
     "text": [
      "0.1198139312287847\n",
      "0.00015128593304059024\n",
      "0.00022986176651362822\n"
     ]
    }
   ],
   "source": [
    "# Error analysis\n",
    "\n",
    "\n",
    "t = np.sin(np.pi/2)\n",
    "p1 = np.sin(xna[0]) * Lagrangian(0,(np.pi/2),xna) + np.sin(xna[1]) * Lagrangian(1,(np.pi/2),xna)\n",
    "p2 = np.sin(xnb[0]) * Lagrangian(0,(np.pi/2),xnb) + np.sin(xnb[1]) * Lagrangian(1,(np.pi/2),xnb) + np.sin(xnb[2]) * Lagrangian(2,(np.pi/2),xnb)\n",
    "p3 = np.sin(xnc[0]) * Lagrangian(0,(np.pi/2),xnc) + np.sin(xnc[1]) * Lagrangian(1,(np.pi/2),xnc) + np.sin(xnc[2]) * Lagrangian(2,(np.pi/2),xnc) + np.sin(xnc[3]) * Lagrangian(3,(np.pi/2),xnc)\n",
    "\n",
    "e1 = t - p1\n",
    "e2 = t - p2\n",
    "e3 = t - p3\n",
    "\n",
    "print(e1)\n",
    "print(e2)\n",
    "print(e3)\n",
    "\n",
    "# Interestingly the quadratic interpolation is more accurate than the cubic one\n"
   ]
  },
  {
   "cell_type": "code",
   "execution_count": 5,
   "metadata": {},
   "outputs": [
    {
     "data": {
      "text/plain": [
       "1.5707963267948966"
      ]
     },
     "execution_count": 5,
     "metadata": {},
     "output_type": "execute_result"
    }
   ],
   "source": [
    "(np.pi/2)"
   ]
  },
  {
   "cell_type": "markdown",
   "metadata": {},
   "source": [
    "# Task B: Newton interpolation"
   ]
  },
  {
   "cell_type": "markdown",
   "metadata": {},
   "source": [
    "Write a function, NewtDivDiff, to compute the value of the Newton’s Divided\n",
    "Difference 𝑓[𝑥0\n",
    ", 𝑥1\n",
    ", 𝑥2\n",
    ",… , 𝑥𝑁]. The function receives the two lists of nodal\n",
    "points xn and yn and returns the corresponding scalar value. (If you write the\n",
    "function in a recursive form it will be much shorter, as defined in slide 63)."
   ]
  },
  {
   "cell_type": "code",
   "execution_count": 6,
   "metadata": {},
   "outputs": [],
   "source": [
    "# This might be working or not\n",
    "def NewtDivDiff(xn,yn):\n",
    "    a = len(xn)\n",
    "    if (a>2):\n",
    "#         print(len(xn))\n",
    "#         print(xn)\n",
    "        result = NewtDivDiff(xn[1:],yn[1:]) - NewtDivDiff(xn[:-1],yn[:-1])\n",
    "    else:\n",
    "        result = (yn[1]-yn[0])/(xn[1]-xn[0])\n",
    "    return result\n",
    "\n",
    "\n",
    "    \n",
    "count = 0  \n",
    "xn = np.linspace(0,10, 11)\n",
    "yn = np.linspace(0,50, 11)"
   ]
  },
  {
   "cell_type": "code",
   "execution_count": 7,
   "metadata": {},
   "outputs": [
    {
     "name": "stdout",
     "output_type": "stream",
     "text": [
      "0.0\n"
     ]
    }
   ],
   "source": [
    "a = NewtDivDiff(xn,yn)\n",
    "\n",
    "print(a)\n"
   ]
  },
  {
   "cell_type": "markdown",
   "metadata": {},
   "source": [
    "2. Write a script to interpolate, with Newton's method, the function\n",
    "𝑓(𝑥) = sin (𝑥) over the range x = [0:3] with step 0.05, given the nodal values\n",
    "at:\n"
   ]
  },
  {
   "cell_type": "code",
   "execution_count": 9,
   "metadata": {},
   "outputs": [
    {
     "name": "stdout",
     "output_type": "stream",
     "text": [
      "0.0678264420177852\n",
      "-0.48844312314906135\n",
      "-0.00775118144271425\n"
     ]
    }
   ],
   "source": [
    "xn = np.arange(0,3.05,0.05)\n",
    "yn = np.sin(xn)\n",
    "\n",
    "\n",
    "\n",
    "xn1 = np.linspace(1,2,2)\n",
    "xn2 = np.linspace(1,2,3)\n",
    "xn3 = np.linspace(1,2,4)\n",
    "\n",
    "yn1 = np.sin(xn1)\n",
    "yn2 = np.sin(xn2)\n",
    "yn3 = np.sin(xn3)\n",
    "\n",
    "a1 = NewtDivDiff(xn1, yn1)\n",
    "a2 = NewtDivDiff(xn2, yn2)\n",
    "a3 = NewtDivDiff(xn3, yn3)\n",
    "\n",
    "\n",
    "print(a1)\n",
    "print(a2)\n",
    "print(a3)"
   ]
  },
  {
   "cell_type": "markdown",
   "metadata": {},
   "source": []
  },
  {
   "cell_type": "code",
   "execution_count": null,
   "metadata": {},
   "outputs": [],
   "source": []
  },
  {
   "cell_type": "code",
   "execution_count": null,
   "metadata": {},
   "outputs": [],
   "source": []
  }
 ],
 "metadata": {
  "kernelspec": {
   "display_name": "Python 3",
   "language": "python",
   "name": "python3"
  },
  "language_info": {
   "codemirror_mode": {
    "name": "ipython",
    "version": 3
   },
   "file_extension": ".py",
   "mimetype": "text/x-python",
   "name": "python",
   "nbconvert_exporter": "python",
   "pygments_lexer": "ipython3",
   "version": "3.7.6"
  }
 },
 "nbformat": 4,
 "nbformat_minor": 4
}
