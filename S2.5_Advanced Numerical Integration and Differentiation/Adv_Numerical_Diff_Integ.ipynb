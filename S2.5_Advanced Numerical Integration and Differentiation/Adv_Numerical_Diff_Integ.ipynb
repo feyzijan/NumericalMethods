{
 "cells": [
  {
   "cell_type": "markdown",
   "metadata": {},
   "source": [
    "- Numerical Differentiation and Integration\n"
   ]
  },
  {
   "cell_type": "code",
   "execution_count": 1,
   "metadata": {},
   "outputs": [],
   "source": [
    "import math\n",
    "import numpy as np\n",
    "import scipy.interpolate\n",
    "import itertools as it\n",
    "import matplotlib.pyplot as pp"
   ]
  },
  {
   "cell_type": "markdown",
   "metadata": {},
   "source": [
    "# Task A: Simpson Integration\n",
    "![](2022-11-04-21-23-38.png)"
   ]
  },
  {
   "cell_type": "code",
   "execution_count": 2,
   "metadata": {},
   "outputs": [],
   "source": [
    "def simpsons(a,b,c,h):\n",
    "    i = h*(1/3*a+4/3*b+1/3*c)\n",
    "    return i"
   ]
  },
  {
   "cell_type": "code",
   "execution_count": 3,
   "metadata": {},
   "outputs": [],
   "source": [
    "def my_function(x):\n",
    "    ## my function is currently a sin\n",
    "    return math.sin(x)\n",
    "    "
   ]
  },
  {
   "cell_type": "code",
   "execution_count": 4,
   "metadata": {},
   "outputs": [],
   "source": [
    "## the limits of the interval and function is passed into our simpsons function\n",
    "## the default starting value for the subinterval number is n=2 subintervals, m = 1 cubic approximations\n",
    "## if desired accuracy is not achieved the function will call itself with double the prevoious value of n \n",
    "\n",
    "def compound_simpsons(A, B,function, a, n=2):\n",
    "    #check that n is even , else add 1\n",
    "    if (n%2 !=0):\n",
    "        n += 1\n",
    "    # determine the spacing\n",
    "    h =  (B-A)/n \n",
    "    xnodes = np.arange(A,B+h,h) # create array of xnodes\n",
    "    ynodes = []\n",
    "    for i in range (0, len(xnodes)):\n",
    "        ynodes += [function(xnodes[i])] # create and fill list of ynodes\n",
    "        \n",
    "    #initialize result and add the first and last ynodes\n",
    "    result = 0\n",
    "    result += ynodes[0] + ynodes[-1]\n",
    "    \n",
    "    # add 4*odd numbered y values\n",
    "    for i in range(1,len(ynodes)-1,2):\n",
    "        result += 4*ynodes[i]\n",
    "        \n",
    "    ## add 2* even numbered nodes to the result\n",
    "    for i in range(2,len(ynodes)-2,2):\n",
    "        result += 2*ynodes[i]\n",
    "        \n",
    "    # Multiply result by h/3 and return\n",
    "    result *= h/3\n",
    "    \n",
    "    \n",
    "#     true_value = compound_simpsons(A,B,function, 9, n= 98)\n",
    "    \n",
    "#     error = result - true_value\n",
    "#     print(error)\n",
    "    return result\n",
    "\n",
    "#     if (abs(error) >= a):\n",
    "#         print(\"Error is  {}\".format(error))\n",
    "#         compound_simpsons(A,B,function,a, n = 2*n)\n",
    "#     else:\n",
    "#         return result\n",
    "        \n",
    "        \n",
    "    \n",
    "    \n",
    "## must add accuracy checking mechanism\n",
    "## But how to determine real value?\n",
    "    ## maybe calculate true value with 9999999 subintervals and compare to our value"
   ]
  },
  {
   "cell_type": "code",
   "execution_count": 5,
   "metadata": {},
   "outputs": [
    {
     "data": {
      "text/plain": [
       "2.0001095173150043"
      ]
     },
     "execution_count": 5,
     "metadata": {},
     "output_type": "execute_result"
    }
   ],
   "source": [
    "compound_simpsons(0,math.pi,my_function, 1,9)"
   ]
  },
  {
   "cell_type": "markdown",
   "metadata": {},
   "source": [
    "# Task B: K-th order derivative\n",
    "![](2022-11-04-21-24-10.png)\n"
   ]
  },
  {
   "cell_type": "code",
   "execution_count": 7,
   "metadata": {},
   "outputs": [],
   "source": [
    "# use the forward method, k = order\n",
    "def Derivative(k, nodes):\n",
    "    n = len(nodes)\n",
    "    if ( n <= k ):\n",
    "        return 0\n",
    "    h = nodes[1]- nodes[0]\n",
    "    delta = 0\n",
    "    for i in range (0,k):\n",
    "        delta += len(list(it.combinations(np.arange(0,k,1),i))) * (-1)**i * nodes[0+k-i]\n",
    "    result = delta/(h**k)\n",
    "    return result\n",
    "        \n",
    "## Need some values to test this"
   ]
  },
  {
   "cell_type": "code",
   "execution_count": 8,
   "metadata": {},
   "outputs": [
    {
     "data": {
      "text/plain": [
       "1.0"
      ]
     },
     "execution_count": 8,
     "metadata": {},
     "output_type": "execute_result"
    }
   ],
   "source": [
    "Derivative(3,[1,2,3,4,5,6,7,8,9])"
   ]
  },
  {
   "cell_type": "markdown",
   "metadata": {},
   "source": [
    "# Task C: Smoothing derivatives with polynomial interpolation\n",
    "![](2022-11-04-21-24-29.png)"
   ]
  },
  {
   "cell_type": "code",
   "execution_count": 9,
   "metadata": {},
   "outputs": [
    {
     "data": {
      "text/plain": [
       "array([0.00000000e+00, 3.42020143e-01, 6.42787610e-01, 8.66025404e-01,\n",
       "       9.84807753e-01, 9.84807753e-01, 8.66025404e-01, 6.42787610e-01,\n",
       "       3.42020143e-01, 1.22464680e-16])"
      ]
     },
     "execution_count": 9,
     "metadata": {},
     "output_type": "execute_result"
    }
   ],
   "source": [
    "x = np.linspace(0,np.pi,10)\n",
    "y = np.sin(x)\n",
    "y"
   ]
  },
  {
   "cell_type": "code",
   "execution_count": 10,
   "metadata": {},
   "outputs": [],
   "source": [
    "dy = Derivative(5,y)\n",
    "dy\n",
    "\n",
    "\n",
    "## create a list with the third derivatives at each point\n",
    "dlist = []\n",
    "for i in range(0,len(y)):\n",
    "    ylist= y[0:i]\n",
    "    dlist = dlist + [Derivative(5,ylist)]"
   ]
  },
  {
   "cell_type": "code",
   "execution_count": 11,
   "metadata": {},
   "outputs": [
    {
     "data": {
      "text/plain": [
       "[<matplotlib.lines.Line2D at 0x2b44741fc10>]"
      ]
     },
     "execution_count": 11,
     "metadata": {},
     "output_type": "execute_result"
    },
    {
     "data": {
      "image/png": "[encoded data removed]",
      "text/plain": [
       "<Figure size 640x480 with 1 Axes>"
      ]
     },
     "metadata": {},
     "output_type": "display_data"
    }
   ],
   "source": [
    "pp.plot(x,y)\n",
    "pp.plot(x,dlist, color=\"red\")"
   ]
  },
  {
   "cell_type": "code",
   "execution_count": 12,
   "metadata": {},
   "outputs": [
    {
     "data": {
      "text/plain": [
       "[<matplotlib.lines.Line2D at 0x2b447490370>]"
      ]
     },
     "execution_count": 12,
     "metadata": {},
     "output_type": "execute_result"
    },
    {
     "data": {
      "image/png": "[encoded data removed]",
      "text/plain": [
       "<Figure size 640x480 with 1 Axes>"
      ]
     },
     "metadata": {},
     "output_type": "display_data"
    }
   ],
   "source": [
    "l = scipy.interpolate.lagrange(x,y)\n",
    "\n",
    "xnew = np.linspace(0,np.pi,100)\n",
    "ynew = np.zeros(100)\n",
    "\n",
    "for i in range (0,len(xnew)):\n",
    "    temp = 0\n",
    "    for j in range (0,len(x)):\n",
    "        temp += np.sin(xnew[i])*l[j]\n",
    "    ynew[i] = temp\n",
    "    \n",
    "\n",
    "pp.plot(xnew,ynew)\n",
    "\n",
    "dnew = []\n",
    "for i in range(0,len(ynew)):\n",
    "    ylist= ynew[0:i]\n",
    "    dnew = dnew + [Derivative(5,ylist)]\n",
    "\n",
    "\n",
    "\n",
    "pp.plot(xnew,dnew, color=\"red\")"
   ]
  }
 ],
 "metadata": {
  "kernelspec": {
   "display_name": "Python 3.8.13 ('base')",
   "language": "python",
   "name": "python3"
  },
  "language_info": {
   "codemirror_mode": {
    "name": "ipython",
    "version": 3
   },
   "file_extension": ".py",
   "mimetype": "text/x-python",
   "name": "python",
   "nbconvert_exporter": "python",
   "pygments_lexer": "ipython3",
   "version": "3.8.13"
  },
  "vscode": {
   "interpreter": {
    "hash": "ad2bdc8ecc057115af97d19610ffacc2b4e99fae6737bb82f5d7fb13d2f2c186"
   }
  }
 },
 "nbformat": 4,
 "nbformat_minor": 4
}
