{
 "cells": [
  {
   "cell_type": "code",
   "execution_count": 1,
   "metadata": {},
   "outputs": [],
   "source": [
    "import numpy as np\n",
    "def f(x): \n",
    "    y = np.sin(x)\n",
    "    return y"
   ]
  },
  {
   "cell_type": "code",
   "execution_count": 3,
   "metadata": {},
   "outputs": [],
   "source": [
    "# Simpson\n",
    "def Simpson(h,yn):\n",
    "    # number of nodal pointa\n",
    "    N = len(yn)\n",
    "    # initialise sum\n",
    "    S = 0\n",
    "    # loop every two points, and use the three points for Simpson rule\n",
    "    # current point yn[i] and successive two points yn[i+1], yn[i+2]\n",
    "    for i in range(0,N-2,2):\n",
    "        S += h/3 * ( yn[i] + 4*yn[i+1] + yn[i+2] )\n",
    "    return S"
   ]
  },
  {
   "cell_type": "code",
   "execution_count": 4,
   "metadata": {},
   "outputs": [
    {
     "name": "stdout",
     "output_type": "stream",
     "text": [
      "160.0\n"
     ]
    }
   ],
   "source": [
    "y1 = [2,4,6,8,10,12,14,16,18]\n",
    "print(Simpson(2,y1))"
   ]
  },
  {
   "cell_type": "code",
   "execution_count": 5,
   "metadata": {},
   "outputs": [
    {
     "name": "stdout",
     "output_type": "stream",
     "text": [
      "1.6542353517615564\n",
      "1.6536436208636118\n"
     ]
    }
   ],
   "source": [
    "# create some nodal points\n",
    "xn = np.linspace(0,4,9)\n",
    "yn = f(xn)\n",
    "# estabish the step\n",
    "h = xn[1] - xn[0]\n",
    "# compute integral with Simpson rule\n",
    "S = Simpson(h,yn)\n",
    "print(S)\n",
    "# analytical solution\n",
    "print(-np.cos(4)+1)\n",
    "\n",
    "    "
   ]
  },
  {
   "cell_type": "code",
   "execution_count": 6,
   "metadata": {},
   "outputs": [
    {
     "name": "stdout",
     "output_type": "stream",
     "text": [
      "Integral:  1.6536458679402304\n",
      "Number of nodes reached:  33\n",
      "Error achieved:  2.2605374561557314e-06\n"
     ]
    }
   ],
   "source": [
    "# adaptive Simpson\n",
    "\n",
    "# set a desired tolerance\n",
    "tol = 1.0e-5\n",
    "# set the domain of integration\n",
    "a = 0\n",
    "b = 4\n",
    "\n",
    "# start with minimal number of sub intervals: one\n",
    "# M is number of subintervals\n",
    "M = 1\n",
    "# determine the the nodal points for the present interval\n",
    "xn = np.linspace(a,b,M+1)\n",
    "yn = f(xn)\n",
    "# determine the size of the interval\n",
    "h = xn[1] - xn[0]\n",
    "# compute integral with Simpson rule\n",
    "S = Simpson(h,yn)\n",
    "# set a fake error larger than the tolerance, to enter the while loop\n",
    "err = tol * 10\n",
    "# keep reducing the interval size if tolerance not reached\n",
    "while err >= tol:\n",
    "    # half the size of subintervals\n",
    "    M = 2 * M\n",
    "    # determine the the nodal points for the present intervals\n",
    "    xn = np.linspace(a,b,M+1)   \n",
    "    yn = f(xn)\n",
    "    # determine the size of the intervals\n",
    "    h = xn[1] - xn[0]\n",
    "    # compute integral with Simpson rule\n",
    "    Shalf = Simpson(h,yn)\n",
    "    # compute the error, between present half size and previous size\n",
    "    err = 1/15*np.abs(Shalf - S)\n",
    "    # set current size as previous\n",
    "    S = Shalf\n",
    "\n",
    "    \n",
    "print('Integral: ',S)\n",
    "print('Number of nodes reached: ',M+1)\n",
    "print('Error achieved: ',err)"
   ]
  },
  {
   "cell_type": "code",
   "execution_count": 6,
   "metadata": {},
   "outputs": [],
   "source": [
    "# Binomial coefficient\n",
    "def Fact(n):\n",
    "    f = 1\n",
    "    for i in range(1,n+1):\n",
    "        f *= i\n",
    "    return f\n",
    "\n",
    "def BinCoeff(n,k):\n",
    "    # as defined in the formula\n",
    "    B = Fact(n)/(Fact(k)*Fact(n-k))\n",
    "    return B\n",
    "    "
   ]
  },
  {
   "cell_type": "code",
   "execution_count": 7,
   "metadata": {},
   "outputs": [
    {
     "name": "stdout",
     "output_type": "stream",
     "text": [
      "56.0\n"
     ]
    }
   ],
   "source": [
    "print(BinCoeff(8,3))"
   ]
  },
  {
   "cell_type": "code",
   "execution_count": 15,
   "metadata": {},
   "outputs": [],
   "source": [
    "# k-th derivative with forward scheme\n",
    "def Derivative(yn,h,k):\n",
    "    # yn: the nodal points\n",
    "    # h: the size of intervals\n",
    "    # k: order of derivative\n",
    "    \n",
    "    # number of nodes\n",
    "    N = len(yn)\n",
    "    # set derivative array with N-k nodes: remember that for every order we loose a node\n",
    "    dyn = np.ndarray(N-k)\n",
    "    # loop over the nodes where we need to compute the derivative\n",
    "    for n in range(0,N-k):\n",
    "        # computing derivative for node n\n",
    "        # set the derivative for node n to zero\n",
    "        dyn[n] = 0\n",
    "        # apply the formula for forward scheme\n",
    "        for i in range(0,k+1):\n",
    "            dyn[n] += (-1)**i*BinCoeff(k,i)*yn[n+k-i] \n",
    "        # multiply by factor 1/h**k\n",
    "        dyn[n] = dyn[n] / h**k\n",
    "    return dyn\n",
    "          "
   ]
  },
  {
   "cell_type": "code",
   "execution_count": 16,
   "metadata": {},
   "outputs": [],
   "source": [
    "def DerivativeB(yn,h,k):\n",
    "    # yn: the nodal points\n",
    "    # h: the size of intervals\n",
    "    # k: order of derivative\n",
    "    \n",
    "    # number of nodes\n",
    "    N = len(yn)\n",
    "    # set derivative array with N-k nodes: remember that for every order we loose a node\n",
    "    dyn = np.ndarray(N-k)\n",
    "    # loop over the nodes where we need to compute the derivative\n",
    "    for n in range(k,N):\n",
    "        # computing derivative for node n\n",
    "        # set the derivative for node n to zero\n",
    "        dyn[n-k] = 0\n",
    "        # apply the formula for forward scheme\n",
    "        for i in range(0,k+1):\n",
    "            dyn[n-k] += (-1)**i*BinCoeff(k,i)*yn[n-i] \n",
    "        # multiply by factor 1/h**k\n",
    "        dyn[n-k] = dyn[n-k] / h**k\n",
    "    return dyn"
   ]
  },
  {
   "cell_type": "code",
   "execution_count": 17,
   "metadata": {},
   "outputs": [
    {
     "data": {
      "text/plain": [
       "[<matplotlib.lines.Line2D at 0x1dbcd067848>]"
      ]
     },
     "execution_count": 17,
     "metadata": {},
     "output_type": "execute_result"
    },
    {
     "data": {
      "image/png": "[encoded data removed]",
      "text/plain": [
       "<Figure size 432x288 with 1 Axes>"
      ]
     },
     "metadata": {
      "needs_background": "light"
     },
     "output_type": "display_data"
    }
   ],
   "source": [
    "import matplotlib.pyplot as pl\n",
    "xn = np.linspace(0,2*np.pi,100)\n",
    "yn = np.sin(xn)\n",
    "# oder of the derivative\n",
    "k = 4\n",
    "h = xn[1] - xn[0]\n",
    "dyn = Derivative(yn,h,k)\n",
    "pl.scatter(xn,yn,c='Blue')\n",
    "pl.plot(xn[:-k],dyn,c='Red')"
   ]
  },
  {
   "cell_type": "code",
   "execution_count": 11,
   "metadata": {},
   "outputs": [],
   "source": [
    "# Langrangian polynomial\n",
    "# compute the Lagrangian polynomials j, given nodes xn at a given point xp\n",
    "def Lagrangian(j,xn,xp):\n",
    "    # establish the number of nodes\n",
    "    n = len(xn)\n",
    "    # the order of the polynomial will then be n-1\n",
    "    \n",
    "    # set the initial value of the polynomial to 1\n",
    "    L = 1\n",
    "    # range of k is from 0 to n-1 (the order of the polynomial)\n",
    "    for k in range(0,n):\n",
    "        # exclude the case k == j\n",
    "        if k != j:\n",
    "            L *= (xp-xn[k]) / (xn[j]-xn[k])\n",
    "    return L\n",
    "\n",
    "def LagrInterp(xn,yn,x):\n",
    "    N = len(xn)\n",
    "    y = []\n",
    "    # establish the order of the interpolating polynomial, N-1\n",
    "    n = N - 1\n",
    "    # interpolate for all the values of x in the interpolating range\n",
    "    for xp in x:\n",
    "        # evaluate pn(xp)\n",
    "        yp = 0\n",
    "        # use Langrangian polynomial up to n, included\n",
    "        for j in range(0,n+1):\n",
    "            yp += yn[j] * Lagrangian(j,xn,xp)\n",
    "        # add the curren value of yp to the list of y\n",
    "        y += [yp]\n",
    "    # convert list into array\n",
    "    y = np.array(y)\n",
    "    return y"
   ]
  },
  {
   "cell_type": "code",
   "execution_count": 12,
   "metadata": {},
   "outputs": [
    {
     "data": {
      "text/plain": [
       "[<matplotlib.lines.Line2D at 0x1dbccfc6dc8>]"
      ]
     },
     "execution_count": 12,
     "metadata": {},
     "output_type": "execute_result"
    },
    {
     "data": {
      "image/png": "[encoded data removed]",
      "text/plain": [
       "<Figure size 432x288 with 1 Axes>"
      ]
     },
     "metadata": {
      "needs_background": "light"
     },
     "output_type": "display_data"
    }
   ],
   "source": [
    "# combine interpolation and differentation\n",
    "a = 0 # lower interval\n",
    "b = 2*np.pi # upper interval\n",
    "N = 10 # number of nodes\n",
    "xn = np.linspace(a,b,N)\n",
    "yn = np.sin(xn)\n",
    "\n",
    "# set the domain of interpolation\n",
    "x = np.linspace(a,b,N*10)\n",
    "y = LagrInterp(xn,yn,x)\n",
    "\n",
    "k = 4\n",
    "h = x[1] - x[0]\n",
    "dy = Derivative(y,h,k)\n",
    "pl.scatter(xn,yn,c='Blue')\n",
    "pl.plot(x[:-k],dy,c='Red')"
   ]
  },
  {
   "cell_type": "code",
   "execution_count": 13,
   "metadata": {},
   "outputs": [],
   "source": [
    "# Gauss-Legendre quadrature nodes and weights\n",
    "t = [0, \\\n",
    "     (1/np.sqrt(3), -1/np.sqrt(3)), \\\n",
    "     (0, np.sqrt(3/5), -np.sqrt(3/5)), \\\n",
    "     (np.sqrt(3/7-2/7*np.sqrt(6/5)), -np.sqrt(3/7-2/7*np.sqrt(6/5)), \\\n",
    "            np.sqrt(3/7+2/7*np.sqrt(6/5)), -np.sqrt(3/7+2/7*np.sqrt(6/5))), \\\n",
    "     (0, 1/3*np.sqrt(5-2*np.sqrt(10/7)), -1/3*np.sqrt(5-2*np.sqrt(10/7)), \\\n",
    "     1/3*np.sqrt(5+2*np.sqrt(10/7)), -1/3*np.sqrt(5+2*np.sqrt(10/7)))]\n",
    "\n",
    "w = [2, \\\n",
    "     (1, 1), \\\n",
    "     (8/9, 5/9, 5/9), \\\n",
    "     ((18+np.sqrt(30))/36, (18+np.sqrt(30))/36, (18-np.sqrt(30))/36, (18-np.sqrt(30))/36), \\\n",
    "     (128/225, (322+13*np.sqrt(70))/900, (322+13*np.sqrt(70))/900, \\\n",
    "      (322-13*np.sqrt(70))/900, (322-13*np.sqrt(70))/900)]\n",
    "\n"
   ]
  },
  {
   "cell_type": "code",
   "execution_count": 14,
   "metadata": {},
   "outputs": [
    {
     "name": "stdout",
     "output_type": "stream",
     "text": [
      "1.6536450057432497\n"
     ]
    }
   ],
   "source": [
    "# Gauss-Legendre quadrature (integration)\n",
    "n = 5\n",
    "a = 0\n",
    "b = 4\n",
    "\n",
    "S = 0\n",
    "for i in range(0,n):\n",
    "    x = 0.5*(a*(1-t[n-1][i])+b*(t[n-1][i]+1))\n",
    "    S += f(x) * w[n-1][i]\n",
    "    \n",
    "S = (b-a)/2*S\n",
    "\n",
    "print(S)"
   ]
  },
  {
   "cell_type": "code",
   "execution_count": null,
   "metadata": {},
   "outputs": [],
   "source": []
  },
  {
   "cell_type": "code",
   "execution_count": null,
   "metadata": {},
   "outputs": [],
   "source": []
  }
 ],
 "metadata": {
  "kernelspec": {
   "display_name": "Python 3",
   "language": "python",
   "name": "python3"
  },
  "language_info": {
   "codemirror_mode": {
    "name": "ipython",
    "version": 3
   },
   "file_extension": ".py",
   "mimetype": "text/x-python",
   "name": "python",
   "nbconvert_exporter": "python",
   "pygments_lexer": "ipython3",
   "version": "3.8.3"
  }
 },
 "nbformat": 4,
 "nbformat_minor": 2
}
