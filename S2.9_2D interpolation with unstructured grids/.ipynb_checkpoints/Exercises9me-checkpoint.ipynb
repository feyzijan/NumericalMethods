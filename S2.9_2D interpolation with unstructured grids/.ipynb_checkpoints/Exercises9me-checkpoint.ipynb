{
 "cells": [
  {
   "cell_type": "code",
   "execution_count": 2,
   "metadata": {},
   "outputs": [],
   "source": [
    "import numpy as np\n",
    "import matplotlib.pyplot as pp\n",
    "import math\n",
    "\n"
   ]
  },
  {
   "cell_type": "markdown",
   "metadata": {},
   "source": [
    "## Task A: Interpolation over a triangle: nearest neighbour method"
   ]
  },
  {
   "cell_type": "code",
   "execution_count": 10,
   "metadata": {},
   "outputs": [],
   "source": [
    "def TrNN(r,f,rp):\n",
    "    w1 = 1/math.sqrt((r[0][0] - rp[0])**2 + (r[0][1] - rp[1])**2)\n",
    "    w2 = 1/math.sqrt((r[1][0] - rp[0])**2 + (r[1][1] - rp[1])**2)\n",
    "    w3 = 1/math.sqrt((r[2][0] - rp[0])**2 + (r[2][1] - rp[1])**2)\n",
    "    \n",
    "    fp = (w1*f[0] + w2*f[1] + w3*f[2]) / (w1+w2+w3)\n",
    "    \n",
    "    return fp\n",
    "    \n",
    "    \n",
    "    \n",
    "    \n",
    "    \n",
    "    \n",
    "    \n",
    "    \n",
    "    \n",
    "    "
   ]
  },
  {
   "cell_type": "code",
   "execution_count": 24,
   "metadata": {},
   "outputs": [
    {
     "name": "stdout",
     "output_type": "stream",
     "text": [
      "0.4283745086941787\n"
     ]
    },
    {
     "data": {
      "text/plain": [
       "<matplotlib.collections.PathCollection at 0x1d4959d5f48>"
      ]
     },
     "execution_count": 24,
     "metadata": {},
     "output_type": "execute_result"
    },
    {
     "data": {
      "image/png": "[encoded data removed]",
      "text/plain": [
       "<Figure size 432x288 with 1 Axes>"
      ]
     },
     "metadata": {
      "needs_background": "light"
     },
     "output_type": "display_data"
    }
   ],
   "source": [
    "x1 = 0\n",
    "y1 = 0\n",
    "x2 = 1\n",
    "y2 = 0\n",
    "x3 = 0.5\n",
    "y3 = 0.87\n",
    "r = [[x1,y1],[x2,y2],[x3,y3]]\n",
    "\n",
    "f1 = -2\n",
    "f2 = 2\n",
    "f3 = 1\n",
    "f = [f1,f2,f3]\n",
    "\n",
    "x4 = 0.5\n",
    "y4 = 0.43\n",
    "\n",
    "rp = [x4,y4]\n",
    "\n",
    "\n",
    "print(TrNN(r,f,rp))\n",
    "\n",
    "\n",
    "pp.scatter(x1,y1)\n",
    "pp.scatter(x2,y2)\n",
    "pp.scatter(x3,y3)\n",
    "pp.scatter(x4,y4, color=\"red\")\n",
    "\n"
   ]
  },
  {
   "cell_type": "markdown",
   "metadata": {},
   "source": [
    "## Task B: Interpolation over a triangle: barycentric coordinates"
   ]
  },
  {
   "cell_type": "code",
   "execution_count": 120,
   "metadata": {},
   "outputs": [],
   "source": [
    "def TrBaryc(r,f,rp):\n",
    "    l1 = ((r[1][1]-r[2][1]) * (rp[0]-r[2][0]) + (r[2][0]-r[1][0])*(rp[1]-r[2][1])) / ((r[1][1]-r[2][1]) * (r[0][0]-r[2][0]) + (r[2][0]-r[1][0])*(rp[1]-r[2][1]))\n",
    "    l2 = ((r[2][1]-r[0][1]) * (rp[0]-r[2][0]) + (r[0][0]-r[2][0])*(rp[1]-r[2][1])) / ((r[1][1]-r[2][1]) * (r[0][0]-r[2][0]) + (r[2][0]-r[1][0])*(rp[1]-r[2][1]))\n",
    "    l3 = 1-l2-l1\n",
    "    \n",
    "    fp = l1*f[0] + l2*f[1] + l3*f[2]\n",
    "    #print(l1 +l2 +l3)\n",
    "    \n",
    "    return fp\n",
    "    "
   ]
  },
  {
   "cell_type": "code",
   "execution_count": 113,
   "metadata": {},
   "outputs": [
    {
     "name": "stdout",
     "output_type": "stream",
     "text": [
      "1.0\n",
      "0.3282442748091603\n"
     ]
    },
    {
     "data": {
      "text/plain": [
       "<matplotlib.collections.PathCollection at 0x1d49a554388>"
      ]
     },
     "execution_count": 113,
     "metadata": {},
     "output_type": "execute_result"
    },
    {
     "data": {
      "image/png": "[encoded data removed]",
      "text/plain": [
       "<Figure size 432x288 with 1 Axes>"
      ]
     },
     "metadata": {
      "needs_background": "light"
     },
     "output_type": "display_data"
    }
   ],
   "source": [
    "x1 = 0\n",
    "y1 = 0\n",
    "x2 = 1\n",
    "y2 = 0\n",
    "x3 = 0.5\n",
    "y3 = 0.87\n",
    "r = [[x1,y1],[x2,y2],[x3,y3]]\n",
    "\n",
    "f1 = -2\n",
    "f2 = 2\n",
    "f3 = 1\n",
    "f = [f1,f2,f3]\n",
    "\n",
    "x4 = 0.5\n",
    "y4 = 0.43\n",
    "\n",
    "rp = [x4,y4]\n",
    "\n",
    "\n",
    "print(TrBaryc(r,f,rp))\n",
    "\n",
    "\n",
    "pp.scatter(x1,y1)\n",
    "pp.scatter(x2,y2)\n",
    "pp.scatter(x3,y3)\n",
    "pp.scatter(x4,y4, color=\"red\")"
   ]
  },
  {
   "cell_type": "markdown",
   "metadata": {},
   "source": [
    "## Task C: Interpolation over a triangulated mesh and mesh refinement"
   ]
  },
  {
   "cell_type": "code",
   "execution_count": 115,
   "metadata": {},
   "outputs": [
    {
     "data": {
      "image/png": "[encoded data removed]",
      "text/plain": [
       "<Figure size 432x288 with 1 Axes>"
      ]
     },
     "metadata": {
      "needs_background": "light"
     },
     "output_type": "display_data"
    }
   ],
   "source": [
    "# generate points in a circle\n",
    "def PointsInCircum(r,n=100):\n",
    "    n -=1\n",
    "    pi = math.pi\n",
    "    return [(math.cos(2*pi/n*x)*r,math.sin(2*pi/n*x)*r) for x in range(0,n+1)]\n",
    "\n",
    "\n",
    "# define N and radius\n",
    "N = 50 \n",
    "r = 5\n",
    "\n",
    "points = PointsInCircum(5,N)\n",
    "points = points + [(0,0)] # add centerpoint\n",
    "\n",
    "\n",
    "#plot circle points\n",
    "for i in range(0,len(points)):\n",
    "    pp.scatter(points[i][0], points[i][1])\n",
    "    \n",
    "pp.title(\"Circle\")\n",
    "    \n",
    "# assign values for each point  \n",
    "f = [(360/N*i) for i in range (0,N+1)]\n"
   ]
  },
  {
   "cell_type": "code",
   "execution_count": 116,
   "metadata": {},
   "outputs": [],
   "source": [
    "cornerlist = [(i,i+1,N) for i in range(0,49) ]\n",
    "cornerlist = cornerlist + [(N-1,0,N)]\n",
    "#cornerlist"
   ]
  },
  {
   "cell_type": "code",
   "execution_count": 117,
   "metadata": {},
   "outputs": [],
   "source": [
    "newNodes = []\n",
    "\n",
    "for i in range(0,len(cornerlist)):\n",
    "    p0, p1, p2 = cornerlist[i][0],cornerlist[i][1],cornerlist[i][2] \n",
    "    x0, x1, x2 = points[p0][0], points[p1][0], points[p2][0]\n",
    "    y0, y1, y2 = points[p0][1], points[p1][1], points[p2][1]\n",
    "    xnew = (x0 + x1 + x2)/3\n",
    "    ynew = (y0 + y1 + y2)/3\n",
    "    newNodes = newNodes + [(xnew,ynew)]\n",
    "    \n"
   ]
  },
  {
   "cell_type": "code",
   "execution_count": 118,
   "metadata": {},
   "outputs": [
    {
     "data": {
      "image/png": "[encoded data removed]",
      "text/plain": [
       "<Figure size 432x288 with 1 Axes>"
      ]
     },
     "metadata": {
      "needs_background": "light"
     },
     "output_type": "display_data"
    }
   ],
   "source": [
    "for i in range(0,len(newNodes)):\n",
    "    pp.scatter(points[i][0], points[i][1], marker=\".\",color='g')\n",
    "    pp.scatter(newNodes[i][0], newNodes[i][1],marker=\".\",color='r')\n",
    "pp.scatter(points[50][0], points[50][1],marker=\".\",color='g', linewidth=1)\n",
    "pp.grid()\n",
    "\n"
   ]
  },
  {
   "cell_type": "code",
   "execution_count": 121,
   "metadata": {},
   "outputs": [
    {
     "name": "stdout",
     "output_type": "stream",
     "text": [
      "5.05703840411919\n",
      "128.42602632729765\n",
      "187.1464368491027\n",
      "219.6319299213644\n",
      "238.7187150494339\n",
      "249.7410425654851\n",
      "255.10873990232926\n",
      "255.78050833638468\n",
      "251.72465760227647\n",
      "241.85019522380583\n",
      "223.29877251297827\n",
      "189.11813732338402\n",
      "119.61551995326775\n",
      "-66.50612283232994\n",
      "-1543.9881437025465\n",
      "1213.4587313880606\n",
      "741.7068753596476\n",
      "630.206890476698\n",
      "591.8895354193972\n",
      "588.5795664957678\n",
      "620.572337288718\n",
      "732.5398146982168\n",
      "1429.9270859538199\n",
      "-378.93346583966536\n",
      "115.19999999999956\n",
      "219.7933155739776\n",
      "263.2811242709105\n",
      "286.0827148775662\n",
      "299.4350191562496\n",
      "307.63082717052407\n",
      "312.6000126693764\n",
      "315.26093078518306\n",
      "315.9927968441007\n",
      "314.7807797026558\n",
      "311.15545190246183\n",
      "303.8213893515575\n",
      "289.3487616568508\n",
      "256.3857328614857\n",
      "136.23734466789404\n",
      "1225.6800226019586\n",
      "504.4339863588116\n",
      "440.1646768733189\n",
      "417.57310594426144\n",
      "407.4796087238101\n",
      "403.82710750894216\n",
      "406.49142417685664\n",
      "426.4451509123984\n",
      "-269.367463331153\n",
      "338.4\n"
     ]
    }
   ],
   "source": [
    "for i in range(0,N-1):\n",
    "    # point at which we want the value\n",
    "    rp = newNodes[i]\n",
    "    # coordinates of corners to input\n",
    "    p0, p1, p2 = cornerlist[i][0],cornerlist[i][1],cornerlist[i][2] \n",
    "    x0, x1, x2 = points[p0][0], points[p1][0], points[p2][0]\n",
    "    y0, y1, y2 = points[p0][1], points[p1][1], points[p2][1]\n",
    "    # values of the points\n",
    "    fpoints = [f[p0], f[p1], f[p2]]\n",
    "    rpoints = [[x0,y0],[x1,y1],[x2,y2]]\n",
    "    value = TrBaryc(rpoints,fpoints,rp)\n",
    "    print(value)"
   ]
  },
  {
   "cell_type": "code",
   "execution_count": 97,
   "metadata": {},
   "outputs": [
    {
     "data": {
      "text/plain": [
       "(3.3333333333333335, -4.082155997157844e-16)"
      ]
     },
     "execution_count": 97,
     "metadata": {},
     "output_type": "execute_result"
    }
   ],
   "source": []
  },
  {
   "cell_type": "code",
   "execution_count": null,
   "metadata": {},
   "outputs": [],
   "source": []
  }
 ],
 "metadata": {
  "kernelspec": {
   "display_name": "Python 3",
   "language": "python",
   "name": "python3"
  },
  "language_info": {
   "codemirror_mode": {
    "name": "ipython",
    "version": 3
   },
   "file_extension": ".py",
   "mimetype": "text/x-python",
   "name": "python",
   "nbconvert_exporter": "python",
   "pygments_lexer": "ipython3",
   "version": "3.7.6"
  }
 },
 "nbformat": 4,
 "nbformat_minor": 4
}
