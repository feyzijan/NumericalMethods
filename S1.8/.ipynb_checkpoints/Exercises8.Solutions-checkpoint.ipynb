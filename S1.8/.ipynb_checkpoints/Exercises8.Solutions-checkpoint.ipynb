{
 "cells": [
  {
   "cell_type": "markdown",
   "metadata": {},
   "source": [
    "# Task A"
   ]
  },
  {
   "cell_type": "code",
   "execution_count": 1,
   "metadata": {},
   "outputs": [
    {
     "name": "stdout",
     "output_type": "stream",
     "text": [
      "-108\n"
     ]
    }
   ],
   "source": [
    "def MatVec(A,b):\n",
    "    # this function computes the matrix vector multiplication between A and b\n",
    "    # c = A . b    \n",
    "\n",
    "    # check if dimensions are compatible\n",
    "    N = len(A) # number of rows\n",
    "    M = len(A[0]) # number of columns\n",
    "    # number of columns of A must equal the length of b\n",
    "    if M == len(b):\n",
    "        # dimensions are compatible: do the multiplication\n",
    "        c = []\n",
    "        RN = range(0,N)\n",
    "        RM = range(0,M)\n",
    "        for i in RN:\n",
    "            # compute c(i)\n",
    "            sum = 0\n",
    "            for j in RM:\n",
    "                sum += A[i][j] * b[j]\n",
    "            c += [sum]\n",
    "    else:\n",
    "        # dimensions are not compatible, return the value of zero\n",
    "        c = 0\n",
    "        \n",
    "    return c\n",
    "\n",
    "# main\n",
    "# read and form matrix A\n",
    "f = open('Q1A.txt','r')\n",
    "t = f.readlines()\n",
    "f.close()\n",
    "A = []\n",
    "c = 0\n",
    "for i in range(0,200):\n",
    "    row = []\n",
    "    for j in range(0,400):\n",
    "        row += [int(t[c].rstrip())]\n",
    "        c += 1\n",
    "    A += [row]\n",
    "\n",
    "# read and form matrix A\n",
    "f = open('Q1b.txt','r')\n",
    "t = f.readlines()\n",
    "f.close()\n",
    "b = []\n",
    "c = 0\n",
    "for j in range(0,400):\n",
    "    b += [int(t[c].rstrip())]\n",
    "    c += 1\n",
    "\n",
    "c = MatVec(A,b)\n",
    "print(c[193])"
   ]
  },
  {
   "cell_type": "markdown",
   "metadata": {},
   "source": [
    "# Task B"
   ]
  },
  {
   "cell_type": "code",
   "execution_count": null,
   "metadata": {},
   "outputs": [],
   "source": [
    "# this script generates a square matrix with a chess board configuration\n",
    "N = 8\n",
    "\n",
    "RN = range(0,N)\n",
    "A = []\n",
    "for i in RN:\n",
    "    # generate a row\n",
    "    row = []\n",
    "    for j in RN:\n",
    "        if (i+j)%2 == 0:\n",
    "            row += [1]\n",
    "        else:\n",
    "            row += [0]\n",
    "    # append this row\n",
    "    A += [row]\n",
    "\n",
    "for row in A:\n",
    "    print(row)\n",
    "    \n",
    "# save the matrix\n",
    "f = open('ChessBoard.txt','w')\n",
    "f.write(str(N)+'\\n')\n",
    "f.write(str(N)+'\\n')\n",
    "for row in A:\n",
    "    for col in row:\n",
    "        f.write(str(col)+'\\n')\n",
    "f.close()"
   ]
  },
  {
   "cell_type": "markdown",
   "metadata": {},
   "source": [
    "# Task C"
   ]
  },
  {
   "cell_type": "code",
   "execution_count": 35,
   "metadata": {},
   "outputs": [
    {
     "name": "stdout",
     "output_type": "stream",
     "text": [
      "Black King found in: (7,7)\n",
      "You are safe\n"
     ]
    }
   ],
   "source": [
    "# load a game\n",
    "f = open('ChessC.txt','r')\n",
    "temp = f.readlines()\n",
    "f.close()\n",
    "# form the chess board matrix from the data in file\n",
    "N = 8\n",
    "RN = range(0,N)\n",
    "Game = []\n",
    "line = 2 # start from line 2, as lines 0 and 1 contains N = 8\n",
    "for i in RN:\n",
    "    row = []\n",
    "    for j in RN:\n",
    "        row += [int(temp[line].rstrip())]\n",
    "        line += 1\n",
    "    Game += [row]\n",
    "\n",
    "# Search for the Black King.\n",
    "# There must be one, otherwise the game would be over.\n",
    "found = False\n",
    "i = 0\n",
    "while (not found) and i < N:\n",
    "    j = 0\n",
    "    while (not found) and j < N:\n",
    "        if Game[i][j] == 1:\n",
    "            found = True;\n",
    "        else:\n",
    "            j += 1\n",
    "    i += 1\n",
    "\n",
    "i = i-1\n",
    "# The Black King is in position i,j.\n",
    "print('Black King found in: ('+str(i)+','+str(j)+')')\n",
    "\n",
    "# Check for checkmates in adjacent cells\n",
    "checkmate = False\n",
    "\n",
    "# Set the positions of the surrounding cells.\n",
    "# Consider also if the Black King (i,j) is at the border or \n",
    "# at one corner of the board\n",
    "ib = max(i-1,0)  # line before (i,j)\n",
    "jb = max(j-1,0)  # column before (i,j)\n",
    "ia = min(i+1,N-1)  # line after (i,j)\n",
    "ja = min(j+1,N-1)  # column after (i,j)\n",
    "\n",
    "# check cells north of (i,j)\n",
    "if Game[ib][jb] < 0 or Game[ib][j] < 0 or Game[ib][ja] < 0:\n",
    "    checkmate = True\n",
    "\n",
    "# check cells south of (i,j)\n",
    "if Game[ia][jb] < 0 or Game[ia][j] < 0 or Game[ia][ja] < 0:\n",
    "    checkmate = True\n",
    "\n",
    "# check cells east and west of (i,j)\n",
    "if Game[i][jb] < 0 or Game[i][ja] < 0:\n",
    "    checkmate = True\n",
    "\n",
    "# print out the alert\n",
    "if checkmate:\n",
    "    print('Warning! Checkmate in action')\n",
    "else:\n",
    "    print('You are safe')\n",
    "    \n"
   ]
  },
  {
   "cell_type": "markdown",
   "metadata": {},
   "source": [
    "# Task D"
   ]
  },
  {
   "cell_type": "code",
   "execution_count": 33,
   "metadata": {},
   "outputs": [
    {
     "name": "stdout",
     "output_type": "stream",
     "text": [
      "43\n"
     ]
    }
   ],
   "source": [
    "def Transpose(A):\n",
    "    # find size of A\n",
    "    M = len(A) # number of rows\n",
    "    N = len(A[0]) # number of column\n",
    "    RM = range(0,M)\n",
    "    RN = range(0,N)\n",
    "    T = []\n",
    "    for i in RN:\n",
    "        row = []\n",
    "        for j in RM:\n",
    "            row += [A[j][i]]\n",
    "        T += [row]\n",
    "    return T\n",
    "            \n",
    "# main\n",
    "# read and form matrix A\n",
    "f = open('Trans.txt','r')\n",
    "t = f.readlines()\n",
    "f.close()\n",
    "M = int(t[0].rstrip())\n",
    "N = int(t[1].rstrip())\n",
    "A = []\n",
    "c = 2\n",
    "for i in range(0,M):\n",
    "    row = []\n",
    "    for j in range(0,N):\n",
    "        row += [int(t[c].rstrip())]\n",
    "        c += 1\n",
    "    A += [row]\n",
    "\n",
    "T = Transpose(A)\n",
    "print(T[11][25])"
   ]
  },
  {
   "cell_type": "code",
   "execution_count": null,
   "metadata": {},
   "outputs": [],
   "source": []
  }
 ],
 "metadata": {
  "kernelspec": {
   "display_name": "Python 3",
   "language": "python",
   "name": "python3"
  },
  "language_info": {
   "codemirror_mode": {
    "name": "ipython",
    "version": 3
   },
   "file_extension": ".py",
   "mimetype": "text/x-python",
   "name": "python",
   "nbconvert_exporter": "python",
   "pygments_lexer": "ipython3",
   "version": "3.7.6"
  }
 },
 "nbformat": 4,
 "nbformat_minor": 2
}
