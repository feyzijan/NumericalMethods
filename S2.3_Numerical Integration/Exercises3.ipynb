{
 "cells": [
  {
   "cell_type": "code",
   "execution_count": 1,
   "metadata": {},
   "outputs": [],
   "source": [
    "import numpy as np\n",
    "import math as mt\n",
    "import matplotlib.pyplot as pp\n"
   ]
  },
  {
   "cell_type": "code",
   "execution_count": 111,
   "metadata": {},
   "outputs": [
    {
     "data": {
      "text/plain": [
       "0.03910951594954015"
      ]
     },
     "execution_count": 111,
     "metadata": {},
     "output_type": "execute_result"
    }
   ],
   "source": [
    "# Task A.1\n",
    "# Initiliase function\n",
    "def f(x):\n",
    "    y =  1/np.sqrt((x**20.10) + (2020))\n",
    "    return y\n",
    "    \n",
    "                     \n",
    "                   \n",
    "# determine intervals and nodes                   \n",
    "a = 0\n",
    "b = 1.75\n",
    "dx = 1.75/5\n",
    "\n",
    "# Initialise x and y values as arrays\n",
    "x = np.arange(a,b+dx,dx)\n",
    "y = f(x)\n",
    "\n",
    "\n",
    " \n",
    "# Trapezoid function\n",
    "def trapzeqd(x,y):\n",
    "    dx = x[2] - x[1] # Determine dx\n",
    "    I = 0 # initiliase sum\n",
    "    I = dx * np.sum(y[1:-1]) + dx* y[-1] + dx * y[0] # trapexium rule formula \n",
    "    return I\n",
    "    \n",
    "\n",
    "trapzeqd(x,y)    \n",
    "    \n",
    "\n",
    "    "
   ]
  },
  {
   "cell_type": "code",
   "execution_count": 112,
   "metadata": {},
   "outputs": [
    {
     "name": "stdout",
     "output_type": "stream",
     "text": [
      "[ 0.04638613  0.44499416  4.44994159 44.49941595]\n",
      "[   10   100  1000 10000]\n"
     ]
    },
    {
     "data": {
      "text/plain": [
       "[<matplotlib.lines.Line2D at 0x20760b27370>]"
      ]
     },
     "execution_count": 112,
     "metadata": {},
     "output_type": "execute_result"
    },
    {
     "data": {
      "image/png": "[encoded data removed]",
      "text/plain": [
       "<Figure size 432x288 with 1 Axes>"
      ]
     },
     "metadata": {
      "needs_background": "light"
     },
     "output_type": "display_data"
    }
   ],
   "source": [
    "#Task A.2\n",
    "Ib = np.empty((4))\n",
    "bb = np.array((10,100,1000,10000))\n",
    "\n",
    "\n",
    "\n",
    "\n",
    "\n",
    "for i in range(0,4):\n",
    "    a = 0\n",
    "    b = 10**(i+1)\n",
    "    dx = b/5\n",
    "    x = np.arange(a,b+dx,dx)\n",
    "    y = f(x)\n",
    "    Ib[i] = trapzeqd(x,y)\n",
    "    \n",
    "    \n",
    "\n",
    "print(Ib)\n",
    "print(bb)\n",
    "\n",
    "pp.plot(bv,Iv)\n",
    "    \n",
    "    \n",
    "    \n",
    "    \n",
    "\n"
   ]
  },
  {
   "cell_type": "code",
   "execution_count": 113,
   "metadata": {},
   "outputs": [
    {
     "name": "stdout",
     "output_type": "stream",
     "text": [
      "[0.04065602 0.04065602 0.04065602 0.04065602]\n",
      "[   10   100  1000 10000]\n"
     ]
    },
    {
     "data": {
      "text/plain": [
       "[<matplotlib.lines.Line2D at 0x20760d30700>]"
      ]
     },
     "execution_count": 113,
     "metadata": {},
     "output_type": "execute_result"
    },
    {
     "data": {
      "image/png": "[encoded data removed]",
      "text/plain": [
       "<Figure size 432x288 with 1 Axes>"
      ]
     },
     "metadata": {
      "needs_background": "light"
     },
     "output_type": "display_data"
    }
   ],
   "source": [
    "# Task A.3\n",
    "\n",
    "Ic = np.empty((4))\n",
    "bc = np.array((10,100,1000,10000))\n",
    "\n",
    "\n",
    "\n",
    "\n",
    "\n",
    "for i in range(0,4):\n",
    "    a = 0\n",
    "    b = 10**(i+1)\n",
    "    dx = 0.5\n",
    "    x = np.arange(a,b+dx,dx)\n",
    "    y = f(x)\n",
    "    Ic[i] = trapzeqd(x,y)\n",
    "    \n",
    "    \n",
    "\n",
    "print(Ic)\n",
    "print(bc)\n",
    "\n",
    "pp.plot(bc,Ic)\n",
    "    \n",
    "    \n",
    "\n",
    "\n",
    "\n"
   ]
  },
  {
   "cell_type": "code",
   "execution_count": 114,
   "metadata": {},
   "outputs": [
    {
     "data": {
      "text/plain": [
       "0.054497132034535566"
      ]
     },
     "execution_count": 114,
     "metadata": {},
     "output_type": "execute_result"
    }
   ],
   "source": [
    "# Task B: Recompute Task A with the new function\n",
    "\n",
    "\n",
    "# 1\n",
    "def g(x):\n",
    "    y = 1/np.sqrt(x**1.10 + (2020))\n",
    "    return y\n",
    "\n",
    "\n",
    "                \n",
    "# determine intervals and nodes                   \n",
    "a = 0\n",
    "b = 1.75\n",
    "dx = 1.75/5\n",
    "\n",
    "# Initialise x and y values as arrays\n",
    "x = np.arange(a,b+dx,dx)\n",
    "y = g(x)\n",
    "\n",
    " \n",
    "\n",
    "trapzeqd(x,y)    \n"
   ]
  },
  {
   "cell_type": "code",
   "execution_count": 115,
   "metadata": {},
   "outputs": [
    {
     "name": "stdout",
     "output_type": "stream",
     "text": [
      "[  0.26659742   2.62160145  22.43985342 129.9835315 ]\n",
      "[   10   100  1000 10000]\n"
     ]
    },
    {
     "data": {
      "text/plain": [
       "[<matplotlib.lines.Line2D at 0x20760dfe850>]"
      ]
     },
     "execution_count": 115,
     "metadata": {},
     "output_type": "execute_result"
    },
    {
     "data": {
      "image/png": "[encoded data removed]",
      "text/plain": [
       "<Figure size 432x288 with 1 Axes>"
      ]
     },
     "metadata": {
      "needs_background": "light"
     },
     "output_type": "display_data"
    }
   ],
   "source": [
    "# 2\n",
    "\n",
    "\n",
    "Ib = np.empty((4))\n",
    "bb = np.array((10,100,1000,10000))\n",
    "\n",
    "\n",
    "\n",
    "for i in range(0,4):\n",
    "    a = 0\n",
    "    b = 10**(i+1)\n",
    "    dx = b/5\n",
    "    x = np.arange(a,b+dx,dx)\n",
    "    y = g(x)\n",
    "    Ib[i] = trapzeqd(x,y)\n",
    "    \n",
    "    \n",
    "\n",
    "print(Ib)\n",
    "print(bb)\n",
    "\n",
    "pp.plot(bv,Iv)\n",
    " \n"
   ]
  },
  {
   "cell_type": "code",
   "execution_count": 116,
   "metadata": {},
   "outputs": [
    {
     "name": "stdout",
     "output_type": "stream",
     "text": [
      "[ 0.23327546  2.19585583 18.63500309 98.81359204]\n",
      "[   10   100  1000 10000]\n"
     ]
    },
    {
     "data": {
      "text/plain": [
       "[<matplotlib.lines.Line2D at 0x20760e548b0>]"
      ]
     },
     "execution_count": 116,
     "metadata": {},
     "output_type": "execute_result"
    },
    {
     "data": {
      "image/png": "[encoded data removed]",
      "text/plain": [
       "<Figure size 432x288 with 1 Axes>"
      ]
     },
     "metadata": {
      "needs_background": "light"
     },
     "output_type": "display_data"
    }
   ],
   "source": [
    "#3\n",
    "\n",
    "Ic = np.empty((4))\n",
    "bc = np.array((10,100,1000,10000))\n",
    "\n",
    "\n",
    "\n",
    "\n",
    "\n",
    "for i in range(0,4):\n",
    "    a = 0\n",
    "    b = 10**(i+1)\n",
    "    dx = 0.5\n",
    "    x = np.arange(a,b+dx,dx)\n",
    "    y = g(x)\n",
    "    Ic[i] = trapzeqd(x,y)\n",
    "    \n",
    "    \n",
    "\n",
    "print(Ic)\n",
    "print(bc)\n",
    "\n",
    "pp.plot(bc,Ic)\n",
    "    "
   ]
  },
  {
   "cell_type": "code",
   "execution_count": 117,
   "metadata": {},
   "outputs": [],
   "source": [
    " # Note: For diverging functions the choice of nodes for the trapezium rule greatly Matters"
   ]
  },
  {
   "cell_type": "markdown",
   "metadata": {},
   "source": [
    "# Task C\n",
    "\n",
    "\n",
    "#### Function must apply the trapexium rule for x values that might not be equidistant\n"
   ]
  },
  {
   "cell_type": "code",
   "execution_count": 118,
   "metadata": {},
   "outputs": [],
   "source": [
    "def trapz(x,y):\n",
    "    \n",
    "    I = 0 # initiliase sum\n",
    "    I += (x[-1]-x[-2])* y[-1] + (x[1]-x[0]) * y[1] # add the first and last terms\n",
    "    \n",
    "    \n",
    "    N = len(x)\n",
    "    for i in range(1,N-1):\n",
    "        I += (x[i]-x[i-1]) * y[i]\n",
    "    \n",
    "    return I"
   ]
  },
  {
   "cell_type": "code",
   "execution_count": 119,
   "metadata": {},
   "outputs": [
    {
     "data": {
      "text/plain": [
       "0.02447355908133397"
      ]
     },
     "execution_count": 119,
     "metadata": {},
     "output_type": "execute_result"
    }
   ],
   "source": [
    "def f(x):\n",
    "    y =  1/np.sqrt((x**20.10) + (2020))\n",
    "    return y\n",
    "\n",
    "x0 = np.array((0, 0.1, 0.4, 0.5, 0.8, 1.0))\n",
    "y0 = f(x0)\n",
    "\n",
    "\n",
    "trapz(x0,y0)"
   ]
  },
  {
   "cell_type": "markdown",
   "metadata": {},
   "source": [
    "# Task 4\n",
    "Plot the thames \n",
    "Compute the surface in km^2\n"
   ]
  },
  {
   "cell_type": "code",
   "execution_count": 26,
   "metadata": {},
   "outputs": [
    {
     "name": "stdout",
     "output_type": "stream",
     "text": [
      "72\n"
     ]
    },
    {
     "data": {
      "text/plain": [
       "[<matplotlib.lines.Line2D at 0x280cfa32d30>]"
      ]
     },
     "execution_count": 26,
     "metadata": {},
     "output_type": "execute_result"
    },
    {
     "data": {
      "image/png": "[encoded data removed]",
      "text/plain": [
       "<Figure size 432x288 with 1 Axes>"
      ]
     },
     "metadata": {
      "needs_background": "light"
     },
     "output_type": "display_data"
    }
   ],
   "source": [
    "\n",
    "\n",
    "def readCoordinates(name):\n",
    "        f = open(name, \"r\")\n",
    "        a = f.readlines()\n",
    "        f.close()\n",
    "        an = []\n",
    "        \n",
    "        \n",
    "        for item in a :\n",
    "            an = an + [float(item)]\n",
    "        \n",
    "        return an\n",
    "    \n",
    "    \n",
    "    \n",
    "xn = readCoordinates(\"xn.txt\")\n",
    "yn = readCoordinates(\"yn.txt\")\n",
    "xs = readCoordinates(\"xs.txt\")\n",
    "ys = readCoordinates(\"ys.txt\")\n",
    "\n",
    "\n",
    "print(len(xn))\n",
    "\n",
    "\n",
    "\n",
    "n = np.empty((72,2))\n",
    "for i in range(0,72):    \n",
    "        n[i,0] = xn[i]\n",
    "        n[i,1] = yn[i]\n",
    "        \n",
    "s = np.empty((72,2))\n",
    "for i in range(0,72):\n",
    "    s[i,0] = xs[i]\n",
    "    s[i,1] = ys[i]\n",
    "    \n",
    "    \n",
    "    \n",
    "    \n",
    "pp.plot(xn,yn,color=\"blue\", scalex=1000)\n",
    "pp.plot(xs,ys, color =\"red\", scalex=1000)"
   ]
  },
  {
   "cell_type": "code",
   "execution_count": 33,
   "metadata": {},
   "outputs": [
    {
     "name": "stdout",
     "output_type": "stream",
     "text": [
      "11.490669403832033\n"
     ]
    }
   ],
   "source": [
    "\n",
    "\n",
    "# Calculate the area by using the trapezium rule, then convert to km^2\n",
    "\n",
    "\n",
    "Area = (trapz(xn,yn) - trapz(xs,ys))/10**6\n",
    "print(Area)"
   ]
  },
  {
   "cell_type": "code",
   "execution_count": null,
   "metadata": {},
   "outputs": [],
   "source": []
  },
  {
   "cell_type": "code",
   "execution_count": null,
   "metadata": {},
   "outputs": [],
   "source": []
  },
  {
   "cell_type": "code",
   "execution_count": null,
   "metadata": {},
   "outputs": [],
   "source": []
  }
 ],
 "metadata": {
  "kernelspec": {
   "display_name": "Python 3",
   "language": "python",
   "name": "python3"
  },
  "language_info": {
   "codemirror_mode": {
    "name": "ipython",
    "version": 3
   },
   "file_extension": ".py",
   "mimetype": "text/x-python",
   "name": "python",
   "nbconvert_exporter": "python",
   "pygments_lexer": "ipython3",
   "version": "3.7.6"
  }
 },
 "nbformat": 4,
 "nbformat_minor": 4
}
