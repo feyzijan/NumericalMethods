{
 "cells": [
  {
   "cell_type": "markdown",
   "metadata": {},
   "source": [
    "# Q1"
   ]
  },
  {
   "cell_type": "code",
   "execution_count": 1,
   "metadata": {},
   "outputs": [
    {
     "name": "stdout",
     "output_type": "stream",
     "text": [
      "[2, 1, 9, 4, 6, 7]\n"
     ]
    }
   ],
   "source": [
    "def LastLine(A):\n",
    "    #List = A[len(A)-1]\n",
    "    List = A[-1]\n",
    "    return List\n",
    "\n",
    "#\n",
    "A = [[1,2,3,4,5,6],[6,0,3,4,2,1],[2,1,9,4,6,7]]\n",
    "L = LastLine(A)    \n",
    "print(L)"
   ]
  },
  {
   "cell_type": "markdown",
   "metadata": {},
   "source": [
    "# Q2"
   ]
  },
  {
   "cell_type": "code",
   "execution_count": 25,
   "metadata": {},
   "outputs": [
    {
     "name": "stdout",
     "output_type": "stream",
     "text": [
      "40\n"
     ]
    }
   ],
   "source": [
    "def Sum(N):\n",
    "    if N == 2:\n",
    "        S = 1\n",
    "    else:\n",
    "        S = 3**(N-2) + Sum(N-1)\n",
    "    return S\n",
    "\n",
    "#\n",
    "a = Sum(5)\n",
    "print(a)"
   ]
  },
  {
   "cell_type": "markdown",
   "metadata": {},
   "source": [
    "# Q3 "
   ]
  },
  {
   "cell_type": "code",
   "execution_count": 26,
   "metadata": {},
   "outputs": [
    {
     "name": "stdout",
     "output_type": "stream",
     "text": [
      "[6, 5, 4, 3, 2, 1]\n"
     ]
    }
   ],
   "source": [
    "def Flipping(a):\n",
    "    N = len(a)\n",
    "    RN = range(0,N//2)\n",
    "    for i in RN:\n",
    "        (a[i],a[N-i-1]) = (a[N-i-1],a[i])   \n",
    "    return a\n",
    "#\n",
    "a = [1,2,3,4,5,6]\n",
    "Mirror(a)\n",
    "print(a)"
   ]
  },
  {
   "cell_type": "markdown",
   "metadata": {},
   "source": [
    "# Script 1"
   ]
  },
  {
   "cell_type": "code",
   "execution_count": 28,
   "metadata": {},
   "outputs": [
    {
     "name": "stdout",
     "output_type": "stream",
     "text": [
      "[91, 47, 119]\n",
      "[47, 66, 74]\n",
      "[119, 74, 187]\n"
     ]
    }
   ],
   "source": [
    "def AAT(A):\n",
    "    M = len(A) # n rows\n",
    "    N = len(A[0]) # n columns\n",
    "    RM = range(0,M)\n",
    "    RN = range(0,N)\n",
    "    C = []\n",
    "    for i in RM:\n",
    "        # forming row i\n",
    "        row = []\n",
    "        for j in RM:\n",
    "            # forming C(i,j)\n",
    "            S = 0\n",
    "            for k in RN:\n",
    "                # the term to add is A[i][k] * T[k][j]\n",
    "                # but T[k][j] = A[j][k]\n",
    "                S += A[i][k]*A[j][k]\n",
    "            row += [S]\n",
    "        C += [row]\n",
    "    return C\n",
    "\n",
    "#\n",
    "A = [[1,2,3,4,5,6],[6,0,3,4,2,1],[2,1,9,4,6,7]]\n",
    "C = AAT(A)\n",
    "for row in C:\n",
    "    print(row)"
   ]
  },
  {
   "cell_type": "markdown",
   "metadata": {},
   "source": [
    "# Script 2"
   ]
  },
  {
   "cell_type": "code",
   "execution_count": 2,
   "metadata": {},
   "outputs": [
    {
     "name": "stdout",
     "output_type": "stream",
     "text": [
      "48.41500663218389 52.39063156806673\n"
     ]
    },
    {
     "data": {
      "image/png": "[encoded data removed]",
      "text/plain": [
       "<Figure size 432x288 with 1 Axes>"
      ]
     },
     "metadata": {
      "needs_background": "light"
     },
     "output_type": "display_data"
    }
   ],
   "source": [
    "import math as mt\n",
    "import random as rn\n",
    "import matplotlib.pyplot as pl\n",
    "# generate the brick\n",
    "# generate y coordinate (only one, as the brick is horizontal)\n",
    "y = rn.random()*2.0\n",
    "# generate x coordinates:\n",
    "# generate teh left extreme of the brick, xl, between 0 and 1.8: allow for the length of the brick\n",
    "xl = rn.random()*1.8\n",
    "# determine the other extreme of the brick, xr\n",
    "xr = xl + 0.2\n",
    "# plot the brick and the two boundary trajectories\n",
    "pl.plot([xl,xr],[y,y])\n",
    "#pl.plot([0,xl],[0,y],'r')\n",
    "#pl.plot([0,xr],[0,y],'r')\n",
    "pl.axis([0,2,0,2])\n",
    "\n",
    "#\n",
    "# determine the angles of the two boundary trajectories\n",
    "ml = mt.atan(y/xl)\n",
    "mr = mt.atan(y/xr)\n",
    "mhalf = (ml + mr) / 2\n",
    "xhalf = y / mt.tan(mhalf)\n",
    "# plot the half-way trajectory\n",
    "pl.plot([0,xhalf],[0,y],'b')\n",
    "\n",
    "# print boundary angles, in degree\n",
    "ml = ml * 180 / mt.pi\n",
    "mr = mr * 180 / mt.pi\n",
    "print(mr,ml)"
   ]
  },
  {
   "cell_type": "markdown",
   "metadata": {},
   "source": [
    "# Script 3 Pre"
   ]
  },
  {
   "cell_type": "code",
   "execution_count": 4,
   "metadata": {},
   "outputs": [],
   "source": [
    "import random as rn\n",
    "Nat = ['UK','Spain','US','France','Japan','China','Singapore','Kenya','Brasil','Mexico']\n",
    "f = open('Companies.txt','r')\n",
    "comp = f.readlines()\n",
    "f.close()\n",
    "f = open('Prices.txt','r')\n",
    "price = f.readlines()\n",
    "f.close()\n",
    "\n",
    "#\n",
    "f = open('FTSE100.txt','w')\n",
    "RN = range(0,100)\n",
    "for i in RN:\n",
    "    f.write(comp[i])\n",
    "#    f.write(Nat[int(rn.random()*10)]+'\\n')\n",
    "    f.write(price[i])\n",
    "    f.write(str( int(rn.random()*5000+5000) )+'\\n')\n",
    "f.close()    "
   ]
  },
  {
   "cell_type": "code",
   "execution_count": null,
   "metadata": {},
   "outputs": [],
   "source": []
  },
  {
   "cell_type": "markdown",
   "metadata": {},
   "source": [
    "# Script 3"
   ]
  },
  {
   "cell_type": "code",
   "execution_count": 5,
   "metadata": {},
   "outputs": [
    {
     "name": "stdout",
     "output_type": "stream",
     "text": [
      "('Paddy Power Betfair PLC', 7352.5, 6216)\n",
      "('DCC PLC', 6687.5, 9482)\n",
      "('Randgold Resources Ltd', 5878.0, 5917)\n",
      "('Reckitt Benckiser Group PLC', 5660.0, 8288)\n",
      "('Ferguson PLC', 5332.0, 5309)\n",
      "('Intertek Group PLC', 4965.5, 6128)\n",
      "('AstraZeneca PLC', 4865.25, 7873)\n",
      "('Carnival PLC', 4734.0, 9544)\n",
      "('Next PLC', 4675.0, 9403)\n",
      "('Croda International PLC', 4579.0, 7487)\n",
      "('InterContinental Hotels Gro...', 4486.0, 6202)\n",
      "('London Stock Exchange Group...', 4091.0, 7549)\n",
      "('British American Tobacco PLC', 3926.5, 7261)\n",
      "('Berkeley Group Holdings (Th...', 3814.5, 7654)\n",
      "('Unilever PLC', 3752.5, 9714)\n",
      "('Whitbread PLC', 3689.0, 8422)\n",
      "('Rio Tinto PLC', 3650.75, 7093)\n",
      "('NMC Health PLC', 3406.0, 6597)\n",
      "('Schroders PLC', 3386.5, 5447)\n",
      "('Johnson Matthey PLC', 3160.0, 8712)\n",
      "('Shire PLC', 3061.0, 9921)\n",
      "('Smurfit Kappa Group PLC', 2967.0, 7483)\n",
      "('Persimmon PLC', 2543.0, 6680)\n",
      "('Associated British Foods PLC', 2460.0, 6207)\n",
      "('Coca-Cola HBC AG', 2453.5, 8302)\n",
      "('CRH PLC', 2432.0, 6157)\n",
      "('Diageo PLC', 2401.75, 7854)\n",
      "('Imperial Brands PLC', 2339.75, 5290)\n",
      "('Royal Dutch Shell PLC', 2229.75, 8419)\n",
      "('Bunzl PLC', 2043.5, 9845)\n",
      "('Ashtead Group PLC', 1956.75, 9947)\n",
      "('Mondi PLC', 1920.75, 8508)\n",
      "('Prudential PLC', 1896.5, 9552)\n",
      "('Admiral Group PLC', 1893.75, 7945)\n",
      "('Hargreaves Lansdown PLC', 1743.0, 6892)\n",
      "('Severn Trent PLC', 1728.25, 6763)\n",
      "('Anglo American PLC', 1695.5, 7777)\n",
      "('Burberry Group PLC', 1678.25, 9165)\n",
      "('easyJet PLC', 1648.5, 7887)\n",
      "('Experian PLC', 1604.75, 9069)\n",
      "('Smiths Group PLC', 1544.0, 8822)\n",
      "('TUI AG', 1541.0, 6583)\n",
      "('Compass Group PLC', 1525.25, 8110)\n",
      "('RELX PLC', 1469.75, 7585)\n",
      "('BHP Billiton PLC', 1398.0, 7971)\n",
      "('Sky PLC', 1315.75, 8437)\n",
      "('Smith & Nephew PLC', 1311.75, 5997)\n",
      "('GlaxoSmithKline PLC', 1296.9, 7225)\n",
      "('SSE PLC', 1225.0, 8447)\n",
      "('Halma PLC', 1175.5, 7425)\n",
      "('Fresnillo PLC', 1167.25, 7527)\n",
      "('WPP PLC', 1129.75, 9231)\n",
      "(\"St James's Place PLC\", 1126.0, 6289)\n",
      "('Antofagasta PLC', 952.0, 5691)\n",
      "('Land Securities Group PLC', 935.45, 9745)\n",
      "('Micro Focus International PLC', 914.6, 9535)\n",
      "('Rolls-Royce Holdings PLC', 890.7, 9111)\n",
      "('3i Group PLC', 890.0, 7821)\n",
      "('Pearson PLC', 767.6, 5025)\n",
      "('National Grid PLC', 761.3, 6511)\n",
      "('Standard Chartered PLC', 748.6, 5830)\n",
      "('Informa PLC', 719.2, 8675)\n",
      "('Just Eat PLC', 706.6, 7705)\n",
      "('HSBC Holdings PLC', 695.85, 9339)\n",
      "('United Utilities Group PLC', 680.2, 8542)\n",
      "('Sage Group (The) PLC', 665.5, 9879)\n",
      "('British Land Co PLC', 646.5, 8426)\n",
      "('RSA Insurance Group PLC', 635.0, 7700)\n",
      "('International Consolidated ...', 622.4, 5404)\n",
      "('Segro PLC', 611.6, 6646)\n",
      "('BAE Systems PLC', 583.5, 5484)\n",
      "('Mediclinic International PLC', 574.4, 5446)\n",
      "('Barratt Developments PLC', 534.7, 6454)\n",
      "('Royal Mail PLC', 522.8, 6084)\n",
      "('Aviva PLC', 513.7, 9574)\n",
      "('Smith (DS) PLC', 485.75, 7529)\n",
      "('BP PLC', 463.05, 5892)\n",
      "('Scottish Mortgage Investmen...', 457.6, 5243)\n",
      "('GKN PLC', 426.3, 9927)\n",
      "('EVRAZ PLC', 419.85, 9245)\n",
      "('Direct Line Insurance Group...', 390.5, 8196)\n",
      "('Standard Life Aberdeen PLC', 375.25, 7342)\n",
      "('Glencore PLC', 366.5, 7481)\n",
      "('Kingfisher PLC', 313.25, 7673)\n",
      "('Marks & Spencer Group PLC', 270.5, 7635)\n",
      "('Rentokil Initial PLC', 269.05, 6080)\n",
      "('Legal & General Group PLC', 262.95, 5736)\n",
      "('Royal Bank of Scotland Grou...', 262.6, 5987)\n",
      "('Old Mutual PLC', 247.05, 5691)\n",
      "('G4S PLC', 243.55, 9990)\n",
      "('Sainsbury (J) PLC', 231.25, 8473)\n",
      "('BT Group PLC', 222.95, 5910)\n",
      "('Barclays PLC', 214.92, 7084)\n",
      "('Morrison (Wm) Supermarkets PLC', 208.65, 6906)\n",
      "('Tesco PLC', 206.65, 8699)\n",
      "('Vodafone Group PLC', 197.17, 6345)\n",
      "('Taylor Wimpey PLC', 186.22, 6422)\n",
      "('ITV PLC', 144.42, 7070)\n",
      "('Centrica PLC', 133.4, 6601)\n",
      "('Lloyds Banking Group PLC', 67.93, 6318)\n",
      "1.32992095196\n"
     ]
    }
   ],
   "source": [
    "# read the file\n",
    "f = open('FTSE100.txt','r')\n",
    "t = f.readlines()\n",
    "f.close()\n",
    "N = 100\n",
    "RN = range(0,N)\n",
    "# organise data in a list of tuples\n",
    "FTSE = [] # list of companies\n",
    "c = 0\n",
    "for i in RN:\n",
    "    FTSE += [( t[c].rstrip() , float(t[c+1].rstrip()) , int(t[c+2].rstrip()) )]\n",
    "    c += 3\n",
    "#\n",
    "# sort the list in descending order by share price\n",
    "for i in RN:\n",
    "    Rj = range(i+1,N)\n",
    "    for j in Rj:\n",
    "        if FTSE[i][1] < FTSE[j][1]:\n",
    "            # swap these two companies\n",
    "            (FTSE[i], FTSE[j]) = (FTSE[j], FTSE[i])\n",
    "for item in FTSE:\n",
    "    print(item)\n",
    "# \n",
    "# compute the overall value of the FTSE companies\n",
    "S = 0\n",
    "for i in RN:\n",
    "    S += FTSE[i][1]*FTSE[i][2]\n",
    "# convert in billion dollars\n",
    "S = S / 1.0e9\n",
    "print(S)"
   ]
  },
  {
   "cell_type": "code",
   "execution_count": null,
   "metadata": {},
   "outputs": [],
   "source": []
  }
 ],
 "metadata": {
  "kernelspec": {
   "display_name": "Python 3",
   "language": "python",
   "name": "python3"
  },
  "language_info": {
   "codemirror_mode": {
    "name": "ipython",
    "version": 3
   },
   "file_extension": ".py",
   "mimetype": "text/x-python",
   "name": "python",
   "nbconvert_exporter": "python",
   "pygments_lexer": "ipython3",
   "version": "3.7.0"
  }
 },
 "nbformat": 4,
 "nbformat_minor": 2
}
