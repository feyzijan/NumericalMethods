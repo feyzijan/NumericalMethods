{
 "cells": [
  {
   "cell_type": "markdown",
   "metadata": {},
   "source": [
    "# Q1"
   ]
  },
  {
   "cell_type": "code",
   "execution_count": null,
   "metadata": {},
   "outputs": [],
   "source": [
    "def Swap(a,b):\n",
    "    return (b,a)\n",
    "\n",
    "# \n",
    "a = 2\n",
    "b = 3\n",
    "print(a,b)\n",
    "(a,b) = Swap(a,b)\n",
    "print(a,b)"
   ]
  },
  {
   "cell_type": "markdown",
   "metadata": {},
   "source": [
    "# Q2"
   ]
  },
  {
   "cell_type": "code",
   "execution_count": null,
   "metadata": {},
   "outputs": [],
   "source": [
    "def Trace(A):\n",
    "    N = len(A)\n",
    "    T = 0\n",
    "    for i in range(0,N):\n",
    "        T += A[i][i]\n",
    "    return T\n",
    "\n",
    "A = [[1,2,3,4,5,6],[6,0,3,4,2,1],[2,1,9,4,6,7],[3,0,8,4,6,5],[1,5,4,3,3,1],[6,1,4,4,3,2]]\n",
    "for row in A:\n",
    "    print(row)\n",
    "T = Trace(A)\n",
    "print(T)"
   ]
  },
  {
   "cell_type": "markdown",
   "metadata": {},
   "source": [
    "# Q3"
   ]
  },
  {
   "cell_type": "code",
   "execution_count": null,
   "metadata": {},
   "outputs": [],
   "source": [
    "def Twins(N):\n",
    "    if N == 1:\n",
    "        S = -1\n",
    "    else:\n",
    "        S = (-1)**N*N + Twins(N-1)\n",
    "    return S\n",
    "\n",
    "# \n",
    "a = Twins(7)\n",
    "print(a)"
   ]
  },
  {
   "cell_type": "markdown",
   "metadata": {},
   "source": [
    "# Script 1"
   ]
  },
  {
   "cell_type": "code",
   "execution_count": 107,
   "metadata": {},
   "outputs": [
    {
     "name": "stdout",
     "output_type": "stream",
     "text": [
      "[1, 2, 3, 4, 5, 6]\n",
      "[6, 0, 3, 4, 2, 1]\n",
      "[2, 1, 9, 4, 6, 7]\n",
      "[3, 0, 8, 4, 6, 5]\n",
      "[1, 5, 4, 3, 3, 1]\n",
      "[6, 1, 4, 4, 3, 2]\n",
      "\n",
      "\n",
      "[0, 0, 27, 16, 15, 12]\n",
      "[6, 0, 27, 16, 6, 2]\n",
      "[2, 0, 0, 16, 18, 14]\n",
      "[3, 0, 72, 0, 18, 10]\n",
      "[1, 0, 36, 12, 0, 2]\n",
      "[6, 0, 36, 16, 9, 0]\n"
     ]
    }
   ],
   "source": [
    "def Decompose(A):\n",
    "    N = len(A)\n",
    "    RN = range(0,N)   \n",
    "    # NO NEED to compute firstly the three matrices C, D, E\n",
    "    # compute T directly\n",
    "    T = []\n",
    "    for i in RN:\n",
    "        row = []\n",
    "        for j in RN:\n",
    "            Sum = 0\n",
    "            for k in RN:\n",
    "                # if we had the matrices C, D and E we would have done\n",
    "                #Sum += C[i][k]*D[k][j]+E[i][k]*D[k][j]\n",
    "                # however the values of C[i][k], D[k][j] and E[i][k] would be zero ....\n",
    "                c = 0\n",
    "                d = 0\n",
    "                e = 0\n",
    "                # ... unless:\n",
    "                if k == j: # we are on the diagonal for D\n",
    "                    d = A[k][j]\n",
    "                if i > k: # we are in the lower triangle for C\n",
    "                    c = A[i][k]\n",
    "                if i < k: # we are in the upper triangle for E\n",
    "                    e = A[i][k]\n",
    "                # in which cases: they would be the value in the corresponding position of A\n",
    "                \n",
    "                Sum += c*d+e*d\n",
    "            row += [Sum]\n",
    "        T += [row]\n",
    "    return T\n",
    "\n",
    "#\n",
    "A = [[1,2,3,4,5,6],[6,0,3,4,2,1],[2,1,9,4,6,7],[3,0,8,4,6,5],[1,5,4,3,3,1],[6,1,4,4,3,2]]\n",
    "for row in A:\n",
    "    print(row)\n",
    "print()\n",
    "T = Decompose(A)\n",
    "print()\n",
    "for row in T:\n",
    "    print(row)"
   ]
  },
  {
   "cell_type": "markdown",
   "metadata": {},
   "source": [
    "# Script 2"
   ]
  },
  {
   "cell_type": "code",
   "execution_count": 3,
   "metadata": {},
   "outputs": [
    {
     "name": "stdout",
     "output_type": "stream",
     "text": [
      "number of bounces: 9\n"
     ]
    },
    {
     "data": {
      "image/png": "[encoded data removed]",
      "text/plain": [
       "<Figure size 432x288 with 1 Axes>"
      ]
     },
     "metadata": {
      "needs_background": "light"
     },
     "output_type": "display_data"
    }
   ],
   "source": [
    "import math as mt\n",
    "import matplotlib.pyplot as pl\n",
    "\n",
    "# first step\n",
    "L = 2\n",
    "D = 0.4\n",
    "theta = -60\n",
    "\n",
    "\n",
    "theta = theta * mt.pi / 180\n",
    "# find the length of the path\n",
    "R = abs(0.5*D/mt.sin(theta))\n",
    "# initial point\n",
    "x = [0]\n",
    "y = [0]\n",
    "# first step\n",
    "x += [R*mt.cos(theta) ]\n",
    "y += [R*mt.sin(theta)]\n",
    "bc = 1 # count the bouncing\n",
    "while x[bc] < L:\n",
    "    theta = - theta # alternate theta for up and downs\n",
    "    x += [ x[bc]+2*R*mt.cos(theta) ]\n",
    "    y += [ R*mt.sin(theta) ] \n",
    "    bc += 1\n",
    "\n",
    "pl.plot(x,y)\n",
    "pl.axis([0,L,-D/2,D/2])\n",
    "pl.grid()\n",
    "print('number of bounces: '+str(bc-1))\n"
   ]
  },
  {
   "cell_type": "markdown",
   "metadata": {},
   "source": [
    "# Script 3 prep"
   ]
  },
  {
   "cell_type": "code",
   "execution_count": 72,
   "metadata": {},
   "outputs": [],
   "source": [
    "import random as rn\n",
    "x = []\n",
    "N = 400\n",
    "RN = range(0,N)\n",
    "for i in RN:\n",
    "    x += [rn.random()*10-3]\n",
    "\n",
    "# sort \n",
    "for i in RN:\n",
    "    Rj = range(i+1,N)\n",
    "    for j in Rj:\n",
    "        if x[i] > x[j]:\n",
    "            (x[i],x[j]) = (x[j],x[i])\n",
    "\n",
    "f = open('xaxis.txt','w')\n",
    "for xp in x:\n",
    "    f.write(str(xp)[:8]+'\\n')\n",
    "f.close()"
   ]
  },
  {
   "cell_type": "markdown",
   "metadata": {},
   "source": [
    "# Script 3"
   ]
  },
  {
   "cell_type": "code",
   "execution_count": 2,
   "metadata": {},
   "outputs": [
    {
     "data": {
      "text/plain": [
       "<matplotlib.collections.PathCollection at 0x12104b908>"
      ]
     },
     "execution_count": 2,
     "metadata": {},
     "output_type": "execute_result"
    },
    {
     "data": {
      "image/png": "[encoded data removed]",
      "text/plain": [
       "<Figure size 432x288 with 1 Axes>"
      ]
     },
     "metadata": {
      "needs_background": "light"
     },
     "output_type": "display_data"
    }
   ],
   "source": [
    "import math as mt\n",
    "import matplotlib.pyplot as pl\n",
    "# read in the file\n",
    "f = open('xaxis.txt','r')\n",
    "t = f.readlines()\n",
    "f.close()\n",
    "# extract the data\n",
    "x = []\n",
    "for item in t:\n",
    "    x += [float(item.rstrip())]\n",
    "# \n",
    "# evaluate the series\n",
    "N = 10\n",
    "y = []\n",
    "for xp in x:\n",
    "    yp = 0\n",
    "    for n in range(0,N+1):\n",
    "        yp += (-1)**n * xp**(2*n) / mt.factorial(2*n+1)\n",
    "    y += [yp]\n",
    "pl.scatter(x,y,s=1)\n",
    "pl.grid()\n",
    "# compute the derivative\n",
    "Nx = len(x)\n",
    "Rx = range(1,Nx-1)\n",
    "dy = []\n",
    "for i in Rx:\n",
    "    dy += [(y[i+1]-y[i-1])/(x[i+1]-x[i-1])]\n",
    "    \n",
    "pl.scatter(x[1:Nx-1],dy,s=1)    "
   ]
  },
  {
   "cell_type": "code",
   "execution_count": null,
   "metadata": {},
   "outputs": [],
   "source": []
  },
  {
   "cell_type": "code",
   "execution_count": null,
   "metadata": {},
   "outputs": [],
   "source": []
  }
 ],
 "metadata": {
  "kernelspec": {
   "display_name": "Python 3",
   "language": "python",
   "name": "python3"
  },
  "language_info": {
   "codemirror_mode": {
    "name": "ipython",
    "version": 3
   },
   "file_extension": ".py",
   "mimetype": "text/x-python",
   "name": "python",
   "nbconvert_exporter": "python",
   "pygments_lexer": "ipython3",
   "version": "3.7.0"
  }
 },
 "nbformat": 4,
 "nbformat_minor": 2
}
