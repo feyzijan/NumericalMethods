{
 "cells": [
  {
   "cell_type": "code",
   "execution_count": null,
   "metadata": {},
   "outputs": [],
   "source": [
    "# In this section I am importing all the libraries I will need\n",
    "\n",
    "\n",
    "\n",
    "# In this section I am setting the domain of solution and the discretised grid\n",
    "\n",
    "\n",
    "\n",
    "# In this section I am defining arrays I would need (if neeeded)\n",
    "\n",
    "\n",
    "\n",
    "# In this section I am setting the boundary conditions/initial values\n",
    "\n",
    "\n",
    "\n",
    "\n",
    "# In this section I am implementing the numerical method\n",
    "\n",
    "\n",
    "\n",
    "\n",
    "# In this section I am showing the results\n",
    "\n",
    "\n",
    "\n",
    "# In this section I am celebrating\n",
    "print('CW done: I deserve a good mark')\n",
    "\n"
   ]
  }
 ],
 "metadata": {
  "kernelspec": {
   "display_name": "Python 3",
   "language": "python",
   "name": "python3"
  },
  "language_info": {
   "codemirror_mode": {
    "name": "ipython",
    "version": 3
   },
   "file_extension": ".py",
   "mimetype": "text/x-python",
   "name": "python",
   "nbconvert_exporter": "python",
   "pygments_lexer": "ipython3",
   "version": "3.8.3"
  }
 },
 "nbformat": 4,
 "nbformat_minor": 2
}
