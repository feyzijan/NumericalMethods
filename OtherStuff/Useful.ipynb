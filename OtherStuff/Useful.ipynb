{
 "cells": [
  {
   "cell_type": "code",
   "execution_count": 2,
   "metadata": {},
   "outputs": [],
   "source": [
    "import numpy as np\n",
    "import matplotlib.pyplot as pp\n",
    "import math \n"
   ]
  },
  {
   "cell_type": "markdown",
   "metadata": {},
   "source": [
    "## Gauss\n"
   ]
  },
  {
   "cell_type": "code",
   "execution_count": 3,
   "metadata": {},
   "outputs": [
    {
     "data": {
      "text/plain": [
       "array([[ 9.],\n",
       "       [-7.],\n",
       "       [-1.],\n",
       "       [ 5.]])"
      ]
     },
     "execution_count": 3,
     "metadata": {},
     "output_type": "execute_result"
    }
   ],
   "source": [
    "A = np.array([[8, -2, 1, 3],\n",
    "    [1, -5, 2, 1],\n",
    "    [-1, 2, 7, 2],\n",
    "    [2, -1, 3, 8],])\n",
    "\n",
    "b = np.array([[9],\n",
    "    [-7],\n",
    "    [-1],\n",
    "    [5],])\n",
    "\n",
    "A.astype(float)\n",
    "b.astype(float)\n",
    "\n",
    "MyGauss(A, b)"
   ]
  },
  {
   "cell_type": "code",
   "execution_count": 4,
   "metadata": {},
   "outputs": [],
   "source": [
    "def MyGauss(Am, bv):\n",
    "    #get the dimension of the matrix\n",
    "    \n",
    "    \n",
    "    # convert the matrices to float typed matrices\n",
    "    A = np.copy(Am).astype(np.float32)\n",
    "    b = np.copy(bv).astype(np.float32)\n",
    "    n = len(A)\n",
    "\n",
    "    print(A)\n",
    "    print(b)\n",
    "    \n",
    "    # use pivots to eliminate Xn from the other rows\n",
    "    for i in range(0, n-1):# i goes from first column to the column before the last\n",
    "        for j in range(i+1,n):\n",
    "            ratio = A[j,i]/A[i,i]\n",
    "            print(A[j,i], A[i,i])\n",
    "            A[j] = A[j] - (ratio * A[i])\n",
    "            b[j] = b[j] - (ratio * b[i])                        \n",
    "    \n",
    "    print(\"\")\n",
    "    print(\"Final A:\") \n",
    "    print(A)\n",
    "    print(\"Final B\")\n",
    "    print(b)\n",
    "    \n",
    "    \n",
    "    x = np.zeros((n,1))\n",
    "    \n",
    "    for k in range(n-1,-1,-1): # say i start with k = 3 , i.e. 4th row\n",
    "        xv = b[k]/A[k,k] # xvalue = b[3]/A[3,3]\n",
    "        for l in range(k+1,n): # so 4 to 4\n",
    "            xv -= A[k,l]/A[k,k]* x[l] # subtract all upper x values \n",
    "        x[k] = xv\n",
    "    \n",
    "    print(\"x values are: \")\n",
    "    print(x)\n",
    "    \n"
   ]
  },
  {
   "cell_type": "markdown",
   "metadata": {},
   "source": [
    "## Integration"
   ]
  },
  {
   "cell_type": "code",
   "execution_count": null,
   "metadata": {},
   "outputs": [],
   "source": [
    "Trapezium\n",
    "# function trapzeqd: compute numerical integration with trapezium rule with equidistant nodes\n",
    "def trapzeqd(x,y):\n",
    "    # get the interval h: distance between any two consecutives nodes\n",
    "    h = x[1] - x[0]\n",
    "    # get the number of intervals\n",
    "    N = len(x) - 1  # obviously x and y must have same length\n",
    "    \n",
    "    # compute the integral\n",
    "    \n",
    "    # compute the sum for the intermediate points\n",
    "    S = 0\n",
    "    for n in range(1,N):\n",
    "        S += y[n]  # add the current calue of y\n",
    "\n",
    "    # an alternative approach, with slicing and the function np.sum(), the integral can be computed within one line\n",
    "    I = h * (y[0]/2 + np.sum(y[1:-1]) + y[-1]/2 )\n",
    "    \n",
    "    return I\n",
    "\n",
    "\n",
    "# define the function f \n",
    "def f(x):\n",
    "    y = 1/np.sqrt(x**20.10+2020)\n",
    "    #y = np.sin(x)\n",
    "    return y"
   ]
  },
  {
   "cell_type": "code",
   "execution_count": 6,
   "metadata": {},
   "outputs": [
    {
     "name": "stdout",
     "output_type": "stream",
     "text": [
      "0.034390153187415375\n"
     ]
    }
   ],
   "source": [
    "# define the function f \n",
    "def f(x):\n",
    "    y = 1/np.sqrt(x**20.10+2020)\n",
    "    #y = np.sin(x)\n",
    "    return y\n",
    "\n",
    "\n",
    "# lower boundary\n",
    "a = 0\n",
    "# upper boundary\n",
    "b = 1.75\n",
    "# number of equidistant intervals\n",
    "N = 5\n",
    "\n",
    "# generates the nodes\n",
    "x = np.linspace(a,b,N+1) # remember, with linespace we have to provide the number of nodes and not intervals\n",
    "# compute points for f(x) at nodes x\n",
    "y = f(x)\n",
    "\n",
    "# compute the integral by invoking the function trapzeqd\n",
    "I = trapzeqd(x,y)\n",
    "print(I)"
   ]
  },
  {
   "cell_type": "markdown",
   "metadata": {},
   "source": [
    "## Non Equidistant trap\n"
   ]
  },
  {
   "cell_type": "code",
   "execution_count": 8,
   "metadata": {},
   "outputs": [],
   "source": [
    "def trapz(x,y):\n",
    "    \n",
    "    I = 0 # initiliase sum\n",
    "    I += (x[-1]-x[-2])* y[-1] + (x[1]-x[0]) * y[1] # add the first and last terms\n",
    "    \n",
    "    \n",
    "    N = len(x)\n",
    "    for i in range(1,N-1):\n",
    "        I += (x[i]-x[i-1]) * y[i]\n",
    "    \n",
    "    return I"
   ]
  },
  {
   "cell_type": "markdown",
   "metadata": {},
   "source": [
    "## Lagragian"
   ]
  },
  {
   "cell_type": "code",
   "execution_count": 13,
   "metadata": {},
   "outputs": [],
   "source": [
    "# Langrangian polynomial\n",
    "# compute the Lagrangian polynomials j, given nodes xn at a given point xp\n",
    "def Lagrangian(j,xn,xp):\n",
    "    # establish the number of nodes\n",
    "    n = len(xn)\n",
    "    # the order of the polynomial will then be n-1\n",
    "    \n",
    "    # set the initial value of the polynomial to 1\n",
    "    L = 1\n",
    "    # range of k is from 0 to n-1 (the order of the polynomial)\n",
    "    for k in range(0,n):\n",
    "        # exclude the case k == j\n",
    "        if k != j:\n",
    "            L *= (xp-xn[k]) / (xn[j]-xn[k])\n",
    "    return L\n"
   ]
  },
  {
   "cell_type": "code",
   "execution_count": 21,
   "metadata": {},
   "outputs": [
    {
     "name": "stdout",
     "output_type": "stream",
     "text": [
      "4\n"
     ]
    },
    {
     "ename": "NameError",
     "evalue": "name 'func' is not defined",
     "output_type": "error",
     "traceback": [
      "\u001b[1;31m---------------------------------------------------------------------------\u001b[0m",
      "\u001b[1;31mNameError\u001b[0m                                 Traceback (most recent call last)",
      "\u001b[1;32m<ipython-input-21-07fd8a4ab880>\u001b[0m in \u001b[0;36m<module>\u001b[1;34m\u001b[0m\n\u001b[0;32m      7\u001b[0m \u001b[0mxn\u001b[0m \u001b[1;33m=\u001b[0m \u001b[0mnp\u001b[0m\u001b[1;33m.\u001b[0m\u001b[0mlinspace\u001b[0m\u001b[1;33m(\u001b[0m\u001b[0ma\u001b[0m\u001b[1;33m,\u001b[0m\u001b[0mb\u001b[0m\u001b[1;33m,\u001b[0m\u001b[0mN\u001b[0m\u001b[1;33m)\u001b[0m\u001b[1;33m\u001b[0m\u001b[1;33m\u001b[0m\u001b[0m\n\u001b[0;32m      8\u001b[0m \u001b[0mprint\u001b[0m\u001b[1;33m(\u001b[0m\u001b[0mlen\u001b[0m\u001b[1;33m(\u001b[0m\u001b[0mxn\u001b[0m\u001b[1;33m)\u001b[0m\u001b[1;33m)\u001b[0m\u001b[1;33m\u001b[0m\u001b[1;33m\u001b[0m\u001b[0m\n\u001b[1;32m----> 9\u001b[1;33m \u001b[0myn\u001b[0m \u001b[1;33m=\u001b[0m \u001b[0mfunc\u001b[0m\u001b[1;33m(\u001b[0m\u001b[0mxn\u001b[0m\u001b[1;33m)\u001b[0m\u001b[1;33m\u001b[0m\u001b[1;33m\u001b[0m\u001b[0m\n\u001b[0m\u001b[0;32m     10\u001b[0m \u001b[1;33m\u001b[0m\u001b[0m\n\u001b[0;32m     11\u001b[0m \u001b[1;33m\u001b[0m\u001b[0m\n",
      "\u001b[1;31mNameError\u001b[0m: name 'func' is not defined"
     ]
    }
   ],
   "source": [
    "# Lagrangian interpolation\n",
    "\n",
    "# the the nodal information, i.e. the list of known nodes xn and values yn\n",
    "a = 1 # lower interval\n",
    "b = 2 # upper interval\n",
    "N = 4 # number of nodes\n",
    "xn = np.linspace(a,b,N)\n",
    "print(len(xn))\n",
    "yn = func(xn)\n",
    "\n",
    "\n",
    "# set the domain of interpolation\n",
    "x = np.linspace(0,3,50)\n",
    "y = []\n",
    "\n",
    "# establish the order of the interpolating polynomial, N-1\n",
    "n = N - 1\n",
    "# interpolate for all the values of x in the interpolating range\n",
    "for xp in x:\n",
    "    # evaluate pn(xp)\n",
    "    yp = 0\n",
    "    # use Langrangian polynomial up to n, included\n",
    "    for j in range(0,n+1):\n",
    "        yp += yn[j] * Lagrangian(j,xn,xp)\n",
    "    # add the curren value of yp to the list of y\n",
    "    y += [yp]\n",
    "\n",
    "# convert list into array\n",
    "y = np.array(y)   \n",
    "# plot polynomial in the interpolating range\n",
    "pl.plot(x,y,c='Red')\n",
    "# plot the initial nodal info only\n",
    "pl.scatter(xn,yn,c='Blue')\n",
    "\n",
    "\n",
    "# compare against slides in class\n",
    "# plot polynomial in the interpolating range\n",
    "pl.plot(x,y,c='Red')\n",
    "\n",
    "p1 = 0.06783 * x + 0.7736\n",
    "p2 = -0.4884 * x**2 + 1.533 * x -0.2032\n",
    "p3 = -0.01212 * x**3 -0.43245 * x**2 + 1.4502 * x -0.1641\n",
    "\n",
    "pl.scatter(x,p3,c='Green')\n",
    "pl.show()"
   ]
  },
  {
   "cell_type": "code",
   "execution_count": 15,
   "metadata": {},
   "outputs": [
    {
     "ename": "NameError",
     "evalue": "name 'j' is not defined",
     "output_type": "error",
     "traceback": [
      "\u001b[1;31m---------------------------------------------------------------------------\u001b[0m",
      "\u001b[1;31mNameError\u001b[0m                                 Traceback (most recent call last)",
      "\u001b[1;32m<ipython-input-15-34a940e81dc4>\u001b[0m in \u001b[0;36m<module>\u001b[1;34m\u001b[0m\n\u001b[1;32m----> 1\u001b[1;33m \u001b[0mprint\u001b[0m\u001b[1;33m(\u001b[0m\u001b[0mLagrangian\u001b[0m\u001b[1;33m(\u001b[0m\u001b[0mj\u001b[0m\u001b[1;33m,\u001b[0m\u001b[0mxn\u001b[0m\u001b[1;33m,\u001b[0m\u001b[0mxp\u001b[0m\u001b[1;33m)\u001b[0m\u001b[1;33m)\u001b[0m\u001b[1;33m\u001b[0m\u001b[1;33m\u001b[0m\u001b[0m\n\u001b[0m",
      "\u001b[1;31mNameError\u001b[0m: name 'j' is not defined"
     ]
    }
   ],
   "source": [
    "print(Lagrangian(j,xn,xp))"
   ]
  },
  {
   "cell_type": "markdown",
   "metadata": {},
   "source": [
    "## Newton\n"
   ]
  },
  {
   "cell_type": "code",
   "execution_count": 16,
   "metadata": {},
   "outputs": [],
   "source": [
    "import numpy as np\n",
    "\n",
    "def NewtDivDiff(xn,yn):\n",
    "    # recursive form\n",
    "    \n",
    "    # determine number of points\n",
    "    N = len(xn)\n",
    "    # set the order: 1 node -> f0; 2 nodes -> f1, etc.\n",
    "    N = N - 1\n",
    "\n",
    "    if N == 0:\n",
    "        # f is the point itself\n",
    "        f = yn[0]\n",
    "    else:\n",
    "        # f is defined recursively as (slide 64):\n",
    "        # f = ( f[x0,...x(n-1)] - f[x1,...xn] ) / ( x0 - xn)\n",
    "        f = ( NewtDivDiff(xn[:-1],yn[:-1]) - NewtDivDiff(xn[1:],yn[1:]) ) / ( xn[0] - xn[-1] )\n",
    "    return f\n",
    "\n",
    "\n",
    "def NewtDivDiffIt(xn,yn):\n",
    "    # iterative form\n",
    "    \n",
    "    # determine number of points\n",
    "    N = len(xn)\n",
    "    # set the order: 1 node -> f0; 2 nodes -> f1, etc.\n",
    "    n = N - 1\n",
    "    f = np.copy(yn)\n",
    "    for j in range(0,n):\n",
    "        for i in range(0,n-j):\n",
    "            f[i] = (f[i+1]-f[i]) / (xn[i+j+1]-xn[i])\n",
    "             \n",
    "    return f[0]\n"
   ]
  },
  {
   "cell_type": "code",
   "execution_count": 17,
   "metadata": {},
   "outputs": [
    {
     "ename": "NameError",
     "evalue": "name 'func' is not defined",
     "output_type": "error",
     "traceback": [
      "\u001b[1;31m---------------------------------------------------------------------------\u001b[0m",
      "\u001b[1;31mNameError\u001b[0m                                 Traceback (most recent call last)",
      "\u001b[1;32m<ipython-input-17-90fa7e0c2d7b>\u001b[0m in \u001b[0;36m<module>\u001b[1;34m\u001b[0m\n\u001b[0;32m      6\u001b[0m \u001b[0mNx\u001b[0m \u001b[1;33m=\u001b[0m \u001b[1;36m6\u001b[0m \u001b[1;31m# number of nodes\u001b[0m\u001b[1;33m\u001b[0m\u001b[1;33m\u001b[0m\u001b[0m\n\u001b[0;32m      7\u001b[0m \u001b[0mxn\u001b[0m \u001b[1;33m=\u001b[0m \u001b[0mnp\u001b[0m\u001b[1;33m.\u001b[0m\u001b[0mlinspace\u001b[0m\u001b[1;33m(\u001b[0m\u001b[0ma\u001b[0m\u001b[1;33m,\u001b[0m\u001b[0mb\u001b[0m\u001b[1;33m,\u001b[0m\u001b[0mNx\u001b[0m\u001b[1;33m)\u001b[0m\u001b[1;33m\u001b[0m\u001b[1;33m\u001b[0m\u001b[0m\n\u001b[1;32m----> 8\u001b[1;33m \u001b[0myn\u001b[0m \u001b[1;33m=\u001b[0m \u001b[0mfunc\u001b[0m\u001b[1;33m(\u001b[0m\u001b[0mxn\u001b[0m\u001b[1;33m)\u001b[0m\u001b[1;33m\u001b[0m\u001b[1;33m\u001b[0m\u001b[0m\n\u001b[0m\u001b[0;32m      9\u001b[0m \u001b[1;31m# determine order\u001b[0m\u001b[1;33m\u001b[0m\u001b[1;33m\u001b[0m\u001b[1;33m\u001b[0m\u001b[0m\n\u001b[0;32m     10\u001b[0m \u001b[0mk\u001b[0m \u001b[1;33m=\u001b[0m \u001b[0mNx\u001b[0m \u001b[1;33m-\u001b[0m \u001b[1;36m1\u001b[0m\u001b[1;33m\u001b[0m\u001b[1;33m\u001b[0m\u001b[0m\n",
      "\u001b[1;31mNameError\u001b[0m: name 'func' is not defined"
     ]
    }
   ],
   "source": [
    "import matplotlib.pyplot as pl\n",
    "\n",
    "# main\n",
    "a = -1 # lower interval\n",
    "b = 1 # upper interval\n",
    "Nx = 6 # number of nodes\n",
    "xn = np.linspace(a,b,Nx)\n",
    "yn = func(xn)\n",
    "# determine order\n",
    "k = Nx - 1\n",
    "\n",
    "\n",
    "# set the domain of interpolation\n",
    "x = np.linspace(-1,1,50)\n",
    "y = []\n",
    "\n",
    "for xp in x:\n",
    "    # determine pn at x = xp\n",
    "    yp = yn[0]\n",
    "    for i in range(0,k):\n",
    "        prod = 1\n",
    "        for j in range(0,i+1):\n",
    "            prod *= (xp-xn[j])\n",
    "\n",
    "        yp += prod * NewtDivDiff(xn[0:i+2],yn[0:i+2])\n",
    "\n",
    "    y += [yp]\n",
    "\n",
    "# convert list into array\n",
    "y = np.array(y)   \n",
    "# plot polynomial in the interpolating range\n",
    "pl.plot(x,y,c='Red')\n",
    "# plot the initial nodal info only\n",
    "pl.scatter(xn,yn,c='Blue')\n",
    "# plot the actual function\n",
    "pl.plot(x,func(x),c='Green')\n",
    "pl.show()"
   ]
  },
  {
   "cell_type": "markdown",
   "metadata": {},
   "source": [
    "## Cubic Spline"
   ]
  },
  {
   "cell_type": "code",
   "execution_count": 19,
   "metadata": {},
   "outputs": [
    {
     "ename": "NameError",
     "evalue": "name 'func' is not defined",
     "output_type": "error",
     "traceback": [
      "\u001b[1;31m---------------------------------------------------------------------------\u001b[0m",
      "\u001b[1;31mNameError\u001b[0m                                 Traceback (most recent call last)",
      "\u001b[1;32m<ipython-input-19-a130c3115f97>\u001b[0m in \u001b[0;36m<module>\u001b[1;34m\u001b[0m\n\u001b[0;32m     11\u001b[0m \u001b[0mNx\u001b[0m \u001b[1;33m=\u001b[0m \u001b[1;36m13\u001b[0m \u001b[1;31m# number of nodes\u001b[0m\u001b[1;33m\u001b[0m\u001b[1;33m\u001b[0m\u001b[0m\n\u001b[0;32m     12\u001b[0m \u001b[0mxn\u001b[0m \u001b[1;33m=\u001b[0m \u001b[0mnp\u001b[0m\u001b[1;33m.\u001b[0m\u001b[0mlinspace\u001b[0m\u001b[1;33m(\u001b[0m\u001b[0ma\u001b[0m\u001b[1;33m,\u001b[0m\u001b[0mb\u001b[0m\u001b[1;33m,\u001b[0m\u001b[0mNx\u001b[0m\u001b[1;33m)\u001b[0m\u001b[1;33m\u001b[0m\u001b[1;33m\u001b[0m\u001b[0m\n\u001b[1;32m---> 13\u001b[1;33m \u001b[0myn\u001b[0m \u001b[1;33m=\u001b[0m \u001b[0mfunc\u001b[0m\u001b[1;33m(\u001b[0m\u001b[0mxn\u001b[0m\u001b[1;33m)\u001b[0m\u001b[1;33m\u001b[0m\u001b[1;33m\u001b[0m\u001b[0m\n\u001b[0m\u001b[0;32m     14\u001b[0m \u001b[1;33m\u001b[0m\u001b[0m\n\u001b[0;32m     15\u001b[0m \u001b[0mbclower\u001b[0m \u001b[1;33m=\u001b[0m \u001b[1;36m0.0740\u001b[0m\u001b[1;33m\u001b[0m\u001b[1;33m\u001b[0m\u001b[0m\n",
      "\u001b[1;31mNameError\u001b[0m: name 'func' is not defined"
     ]
    }
   ],
   "source": [
    "##????\n",
    "\n",
    "import numpy as np\n",
    "import matplotlib.pyplot as pl\n",
    "# spline\n",
    "\n",
    "\n",
    "# set the nodal info\n",
    "a = -1 # lower interval\n",
    "b = 1 # upper interval\n",
    "Nx = 13 # number of nodes\n",
    "xn = np.linspace(a,b,Nx)\n",
    "yn = func(xn)\n",
    "\n",
    "bclower = 0.0740\n",
    "bcupper = -0.0740\n",
    "\n",
    "# set the domain of interpolation\n",
    "x = np.linspace(a,b,50)\n",
    "y = np.ndarray(len(x))\n",
    "\n",
    "\n",
    "# determine cubic coefficients aj, bj, cj, dj\n",
    "# there need to be ns = Nx - 1 cubic splines\n",
    "ns = Nx - 1\n",
    "aj = np.ndarray(ns)\n",
    "bj = np.ndarray(ns)\n",
    "cj = np.ndarray(ns)\n",
    "dj = np.ndarray(ns)\n",
    "\n",
    "# form the matrix A (of unknown)\n",
    "A = np.zeros((Nx,Nx))\n",
    "b = np.zeros(Nx)\n",
    "\n",
    "A[0,0] = 1\n",
    "b[0] = bclower\n",
    "A[-1,-1] = 1\n",
    "b[-1] = bcupper\n",
    "for j in range(1,ns):\n",
    "    A[j,j-1] = 1 / (xn[j]-xn[j-1])\n",
    "    A[j,j] = 2 / (xn[j]-xn[j-1]) + 2 / (xn[j+1]-xn[j])\n",
    "    A[j,j+1] = 1 / (xn[j+1]-xn[j])\n",
    "    \n",
    "    b[j] = 3 * ( (yn[j]-yn[j-1]) / (xn[j]-xn[j-1])**2 + (yn[j+1]-yn[j]) / (xn[j+1]-xn[j])**2 )\n",
    "\n",
    "# invert the matrix\n",
    "#v = np.linalg.inv(A).dot(b)\n",
    "v = MyGauss(A,b)\n",
    "# determine the coefficients\n",
    "for j in range(0,ns):\n",
    "    aj[j] = yn[j]\n",
    "    bj[j] = v[j]\n",
    "    cj[j] = 3*(yn[j+1]-yn[j])/(xn[j+1]-xn[j])**2 - (v[j+1]+2*v[j])/(xn[j+1]-xn[j])\n",
    "    dj[j] = -2*(yn[j+1]-yn[j])/(xn[j+1]-xn[j])**3 + (v[j+1]+v[j])/(xn[j+1]-xn[j])**2\n",
    "    \n",
    "# interpolate with spline\n",
    "for j in range(0,ns):\n",
    "    y[(xn[j]<=x) & (x<=xn[j+1])] = aj[j] + bj[j]*(x[(xn[j]<=x) & (x<=xn[j+1])]-xn[j]) +  \\\n",
    "          cj[j]*(x[(xn[j]<=x) & (x<=xn[j+1])]-xn[j])**2 + dj[j]*(x[(xn[j]<=x) & (x<=xn[j+1])]-xn[j])**3\n",
    "    \n",
    "\n",
    "# plot polynomial in the interpolating range\n",
    "pl.plot(x,y,c='Red')\n",
    "# plot the initial nodal info only\n",
    "pl.scatter(xn,yn,c='Blue')\n",
    "# plot the actual function\n",
    "pl.plot(x,func(x),c='Green')\n",
    "pl.show()"
   ]
  },
  {
   "cell_type": "code",
   "execution_count": null,
   "metadata": {},
   "outputs": [],
   "source": []
  }
 ],
 "metadata": {
  "kernelspec": {
   "display_name": "Python 3",
   "language": "python",
   "name": "python3"
  },
  "language_info": {
   "codemirror_mode": {
    "name": "ipython",
    "version": 3
   },
   "file_extension": ".py",
   "mimetype": "text/x-python",
   "name": "python",
   "nbconvert_exporter": "python",
   "pygments_lexer": "ipython3",
   "version": "3.7.6"
  }
 },
 "nbformat": 4,
 "nbformat_minor": 4
}
