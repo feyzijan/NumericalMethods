{
 "cells": [
  {
   "cell_type": "code",
   "execution_count": 1,
   "metadata": {},
   "outputs": [],
   "source": [
    "import numpy as np\n",
    "\n",
    "def MyGauss(A,b):\n",
    "    \n",
    "    # number of equations\n",
    "    n = len(b)\n",
    "    \n",
    "    # eliminate the unknowns, from first to (n-1)th unknown, to form an upper triangular matrix\n",
    "    for i in range(0,n-1):\n",
    "        # eliminate the i-th unknown from the (i+1)th row downwards\n",
    "        # i.e. set the zeros in column i.\n",
    "        for j in range(i+1,n):\n",
    "            # eliminate on row j\n",
    "\n",
    "            # A(i,i) is the pivot coefficient\n",
    "            p = A[j,i] / A[i,i]\n",
    "        \n",
    "            # compute the new elements of row j in matrix A\n",
    "            # use slicing\n",
    "            #A[j,:] = A[j,:] - p * A[i,:]\n",
    "            # or, alternatively, loop for every cell of row j\n",
    "            for k in range(i,n):\n",
    "                A[j,k] = A[j,k] - p * A[i,k]\n",
    "\n",
    "\n",
    "            # compute the new element of row j in vector b\n",
    "            b[j] = b[j] - p * b[i]\n",
    "    \n",
    "    # verify A has been reduced to a triangular matrix\n",
    "    #print(A)\n",
    "    \n",
    "    # evauate, by back substitution the solution\n",
    "    # start from the last unknown and go upward till the first unknown\n",
    "    x = np.zeros(n)\n",
    "    for i in range(n-1,-1,-1):\n",
    "        # contribution from b (right hand side of the equation)\n",
    "        x[i] = b[i] / A[i,i]\n",
    "        # contribution from the other (already evaluated) unknowns\n",
    "        # (within the left hand side of the equation)\n",
    "        for k in range(i+1,n):\n",
    "            x[i] = x[i] - A[i,k] * x[k] / A[i,i]\n",
    "\n",
    "    return x"
   ]
  },
  {
   "cell_type": "code",
   "execution_count": 2,
   "metadata": {},
   "outputs": [
    {
     "data": {
      "text/plain": [
       "array([ -2.,  -5., -62.,  -5.])"
      ]
     },
     "execution_count": 2,
     "metadata": {},
     "output_type": "execute_result"
    }
   ],
   "source": [
    "A = np.array([[-4, 1, 0, 1],\n",
    "                [1, -4, 1, 0],\n",
    "                [0, 1, -4, 1],\n",
    "                [1 ,0, 1, -4]]\n",
    "                 ,dtype=float)\n",
    "\n",
    "\n",
    "b = np.array([-2,-44,238,-44], dtype=float)\n",
    "\n",
    "MyGauss(A,b)"
   ]
  },
  {
   "cell_type": "code",
   "execution_count": 3,
   "metadata": {},
   "outputs": [],
   "source": [
    "def MyGauss(A,b):\n",
    "    n = len(b)\n",
    "    for i in range(0,n-1):\n",
    "        for j in range(i+1,n):\n",
    "            p = A[j,i] / A[i,i]\n",
    "            for k in range(i,n):\n",
    "                A[j,k] = A[j,k] - p * A[i,k]\n",
    "                \n",
    "            b[j] = b[j] - p * b[i]\n",
    "    \n",
    "    x = np.zeros(n)\n",
    "    \n",
    "    for i in range(n-1,-1,-1):\n",
    "        x[i] = b[i] / A[i,i]\n",
    "        \n",
    "        for k in range(i+1,n):\n",
    "            x[i] = x[i] - A[i,k] * x[k] / A[i,i]\n",
    "            \n",
    "    return x"
   ]
  },
  {
   "cell_type": "code",
   "execution_count": 4,
   "metadata": {},
   "outputs": [
    {
     "data": {
      "text/plain": [
       "array([ -2.,  -5., -62.,  -5.])"
      ]
     },
     "execution_count": 4,
     "metadata": {},
     "output_type": "execute_result"
    }
   ],
   "source": [
    "A = np.array([[-4, 1, 0, 1],\n",
    "                [1, -4, 1, 0],\n",
    "                [0, 1, -4, 1],\n",
    "                [1 ,0, 1, -4]]\n",
    "                 ,dtype=float)\n",
    "\n",
    "\n",
    "b = np.array([-2,-44,238,-44], dtype=float)\n",
    "\n",
    "MyGauss(A,b)"
   ]
  },
  {
   "cell_type": "code",
   "execution_count": null,
   "metadata": {},
   "outputs": [],
   "source": []
  }
 ],
 "metadata": {
  "kernelspec": {
   "display_name": "Python 3",
   "language": "python",
   "name": "python3"
  },
  "language_info": {
   "codemirror_mode": {
    "name": "ipython",
    "version": 3
   },
   "file_extension": ".py",
   "mimetype": "text/x-python",
   "name": "python",
   "nbconvert_exporter": "python",
   "pygments_lexer": "ipython3",
   "version": "3.8.3"
  }
 },
 "nbformat": 4,
 "nbformat_minor": 4
}
