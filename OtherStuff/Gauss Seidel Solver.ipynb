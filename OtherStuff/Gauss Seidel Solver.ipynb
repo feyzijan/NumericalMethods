{
 "cells": [
  {
   "cell_type": "markdown",
   "metadata": {},
   "source": [
    "## Seidel Function\n"
   ]
  },
  {
   "cell_type": "code",
   "execution_count": 5,
   "metadata": {},
   "outputs": [
    {
     "name": "stdout",
     "output_type": "stream",
     "text": [
      "[0, 0, 0]\n",
      "[1.0, 0.8, 0.39999999999999997]\n",
      "[0.6000000000000001, 0.9599999999999997, 0.48000000000000004]\n",
      "[0.52, 0.9919999999999998, 0.49600000000000005]\n",
      "[0.504, 0.9983999999999998, 0.4992000000000001]\n",
      "[0.5008, 0.99968, 0.49984]\n",
      "[0.5001599999999999, 0.9999360000000002, 0.4999679999999999]\n",
      "[0.500032, 0.9999872, 0.4999936]\n",
      "[0.5000064, 0.9999974400000001, 0.49999871999999995]\n",
      "[0.50000128, 0.999999488, 0.4999997439999999]\n",
      "[0.500000256, 0.9999998976000001, 0.49999994880000004]\n",
      "[0.5000000512, 0.9999999795199999, 0.4999999897600001]\n",
      "[0.50000001024, 0.999999995904, 0.499999997952]\n",
      "[0.500000002048, 0.9999999991808, 0.49999999959040003]\n",
      "[0.5000000004095999, 0.9999999998361601, 0.49999999991808003]\n",
      "[0.50000000008192, 0.9999999999672321, 0.49999999998361594]\n",
      "[0.500000000016384, 0.9999999999934465, 0.49999999999672307]\n",
      "[0.5000000000032768, 0.9999999999986894, 0.4999999999993445]\n",
      "[0.5000000000006554, 0.9999999999997378, 0.49999999999986894]\n",
      "[0.500000000000131, 0.9999999999999478, 0.49999999999997374]\n",
      "[0.5000000000000262, 0.9999999999999897, 0.49999999999999467]\n",
      "[0.5000000000000052, 0.9999999999999979, 0.49999999999999895]\n",
      "[0.5000000000000011, 0.9999999999999994, 0.49999999999999983]\n",
      "[0.5000000000000002, 0.9999999999999998, 0.5000000000000001]\n",
      "[0.49999999999999994, 1.0, 0.5]\n",
      "[0.5, 1.0, 0.5]\n"
     ]
    }
   ],
   "source": [
    "\n",
    "# Defining our function as seidel which takes 3 arguments \n",
    "# as A matrix, Solution and B matrix \n",
    "   \n",
    "def seidel(a, x ,b): \n",
    "    #Finding length of a = (3)        \n",
    "    n = len(a)                    \n",
    "    # for loop for 3 times as to calculate x, y , z \n",
    "    for j in range(0, n):         \n",
    "        # temp variable d to store b[j] \n",
    "        d = b[j]                   \n",
    "          \n",
    "        # to calculate respective xi, yi, zi \n",
    "        for i in range(0, n):      \n",
    "            if(j != i): \n",
    "                d-=a[j][i] * x[i] \n",
    "        # updating the value of our solution         \n",
    "        x[j] = d / a[j][j] \n",
    "    # returning our updated solution            \n",
    "    return x     \n",
    "   \n",
    "# int(input())input as number of variable to be solved                 \n",
    "n = 3                              \n",
    "a = []                             \n",
    "b = []         \n",
    "# initial solution depending on n(here n=3)                      \n",
    "x = [0, 0, 0]                         \n",
    "a = [[4, 1, 2],[3, 5, 1],[1, 1, 3]] \n",
    "b = [4,7,3] \n",
    "print(x) \n",
    "  \n",
    "#loop run for m times depending on m the error value \n",
    "for i in range(0, 25):             \n",
    "    x = seidel(a, x, b) \n",
    "    #print each time the updated solution \n",
    "    print(x)                      "
   ]
  },
  {
   "cell_type": "code",
   "execution_count": 10,
   "metadata": {
    "scrolled": false
   },
   "outputs": [
    {
     "name": "stdout",
     "output_type": "stream",
     "text": [
      "Enter tolerable error: 0.01\n",
      "\n",
      "Count\tx\ty\tz\tt\n",
      "\n",
      "1\t0.5000\t11.1250\t-56.7188\t-3.0547\n",
      "\n",
      "100 100 100 100\n",
      "2\t2.5176\t-2.5503\t-60.9012\t-3.5959\n",
      "\n",
      "403.515625 122.92398174157304 7.374096074380166 17.717990728900258\n",
      "3\t-1.0366\t-4.4844\t-61.5201\t-4.6392\n",
      "\n",
      "141.1726023079907 75.84055798870381 1.0161473961371248 29.011913116030584\n",
      "4\t-1.7809\t-4.8252\t-61.8661\t-4.9118\n",
      "\n",
      "71.81017999289726 7.599576135681667 0.5624355204800828 5.875852413443735\n",
      "5\t-1.9342\t-4.9501\t-61.9655\t-4.9749\n",
      "\n",
      "8.610653389896276 2.587214903621397 0.1606007922349729 1.286225562008032\n",
      "6\t-1.9813\t-4.9867\t-61.9904\t-4.9929\n",
      "\n",
      "2.43008601066929 0.7391857753223511 0.040250870110916125 0.3615408207565357\n",
      "7\t-1.9949\t-4.9963\t-61.9973\t-4.9981\n",
      "\n",
      "0.6886641458600888 0.19344450632350285 0.01114400307353432 0.10290783114397367\n",
      "8\t-1.9986\t-4.9990\t-61.9993\t-4.9995\n",
      "\n",
      "0.18527957715504853 0.05306075562531584 0.0031409375333193586 0.028228175411853337\n",
      "\n",
      "Solution: x=-1.999, y=-4.999, z = -61.999 and t = -4.999 \n",
      "\n",
      "0\n"
     ]
    }
   ],
   "source": [
    "def get_change(current, previous):\n",
    "    if current == previous:\n",
    "        return 100.0\n",
    "    try:\n",
    "        return (abs((current - previous) / previous)) * 100.0\n",
    "    except ZeroDivisionError:\n",
    "        return 100\n",
    "\n",
    "get_change(10,9)\n",
    "\n",
    "# Gauss Seidel Iteration\n",
    "\n",
    "# Defining equations to be solved\n",
    "# in diagonally dominant form\n",
    "f1 = lambda x,y,z,t: (-2-y-t)/-4\n",
    "f2 = lambda x,y,z,t: (-44-x-z)/-4\n",
    "f3 = lambda x,y,z,t: (238-y-t)/-4\n",
    "f4 = lambda x,y,z,t: (-44-x-z)/-4\n",
    "\n",
    "# Initial setup\n",
    "x0 = 0\n",
    "y0 = 0\n",
    "z0 = 0\n",
    "t0 = 0\n",
    "count = 1\n",
    "\n",
    "# Reading tolerable error\n",
    "e = float(input('Enter tolerable error: '))\n",
    "\n",
    "# Implementation of Gauss Seidel Iteration\n",
    "print('\\nCount\\tx\\ty\\tz\\tt\\n')\n",
    "\n",
    "condition = True\n",
    "iterationNo = 0\n",
    "\n",
    "while condition:\n",
    "##for i in range(0,10):\n",
    "    x1 = f1(x0,y0,z0,t0)\n",
    "    y1 = f2(x1,y0,z0,t0)\n",
    "    z1 = f3(x1,y1,z0,t0)\n",
    "    t1 = f4(x1,y1,z1,t0)\n",
    "#     ##Apply Overrelaxation with 1.1\n",
    "#     rel = 1.1\n",
    "#     x1 = rel*x1 + (1-rel)*x0\n",
    "#     y1 = rel*y1 + (1-rel)*y0\n",
    "#     z1 = rel*z1 + (1-rel)*z0\n",
    "#     t1 = rel*t1 + (1-rel)*t0\n",
    "    \n",
    "    print('%d\\t%0.4f\\t%0.4f\\t%0.4f\\t%0.4f\\n' %(count, x1,y1,z1,t1))\n",
    "    e1 = get_change(x1,x0) \n",
    "    e2 = get_change(y1,y0)\n",
    "    e3 = get_change(z1,z0)\n",
    "    e4 = get_change(t1,t0)\n",
    "    print(e1,e2,e3,e4)\n",
    "    condition = e1>e and e2>e and e3>e and e4>e\n",
    "    \n",
    "    count += 1\n",
    "    x0 = x1\n",
    "    y0 = y1\n",
    "    z0 = z1\n",
    "    t0 = t1\n",
    "    \n",
    "    \n",
    "\n",
    "print('\\nSolution: x=%0.3f, y=%0.3f, z = %0.3f and t = %0.3f \\n'% (x1,y1,z1,t1))\n",
    "print(iterationNo)\n"
   ]
  },
  {
   "cell_type": "code",
   "execution_count": 1,
   "metadata": {},
   "outputs": [
    {
     "ename": "NameError",
     "evalue": "name 'np' is not defined",
     "output_type": "error",
     "traceback": [
      "\u001b[1;31m---------------------------------------------------------------------------\u001b[0m",
      "\u001b[1;31mNameError\u001b[0m                                 Traceback (most recent call last)",
      "\u001b[1;32m<ipython-input-1-6d2540505835>\u001b[0m in \u001b[0;36m<module>\u001b[1;34m\u001b[0m\n\u001b[1;32m----> 1\u001b[1;33m \u001b[0mk\u001b[0m \u001b[1;33m=\u001b[0m \u001b[0mnp\u001b[0m\u001b[1;33m.\u001b[0m\u001b[0marray\u001b[0m\u001b[1;33m(\u001b[0m\u001b[1;33m[\u001b[0m\u001b[1;36m0\u001b[0m\u001b[1;33m,\u001b[0m\u001b[1;36m1\u001b[0m\u001b[1;33m,\u001b[0m\u001b[1;36m2\u001b[0m\u001b[1;33m]\u001b[0m\u001b[1;33m,\u001b[0m \u001b[1;33m[\u001b[0m\u001b[1;36m9\u001b[0m\u001b[1;33m,\u001b[0m\u001b[1;36m5\u001b[0m\u001b[1;33m,\u001b[0m\u001b[1;36m2\u001b[0m\u001b[1;33m]\u001b[0m\u001b[1;33m)\u001b[0m\u001b[1;33m\u001b[0m\u001b[1;33m\u001b[0m\u001b[0m\n\u001b[0m",
      "\u001b[1;31mNameError\u001b[0m: name 'np' is not defined"
     ]
    }
   ],
   "source": [
    "k = np.array([0,1,2], [9,5,2])"
   ]
  },
  {
   "cell_type": "code",
   "execution_count": 19,
   "metadata": {},
   "outputs": [
    {
     "data": {
      "text/plain": [
       "11.11111111111111"
      ]
     },
     "execution_count": 19,
     "metadata": {},
     "output_type": "execute_result"
    }
   ],
   "source": []
  },
  {
   "cell_type": "code",
   "execution_count": null,
   "metadata": {},
   "outputs": [],
   "source": []
  }
 ],
 "metadata": {
  "kernelspec": {
   "display_name": "Python 3",
   "language": "python",
   "name": "python3"
  },
  "language_info": {
   "codemirror_mode": {
    "name": "ipython",
    "version": 3
   },
   "file_extension": ".py",
   "mimetype": "text/x-python",
   "name": "python",
   "nbconvert_exporter": "python",
   "pygments_lexer": "ipython3",
   "version": "3.7.6"
  }
 },
 "nbformat": 4,
 "nbformat_minor": 4
}
