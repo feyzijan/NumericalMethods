{
 "cells": [
  {
   "cell_type": "code",
   "execution_count": 1,
   "metadata": {},
   "outputs": [],
   "source": [
    "import numpy as np\n",
    "import matplotlib.pyplot as pl"
   ]
  },
  {
   "cell_type": "code",
   "execution_count": 27,
   "metadata": {},
   "outputs": [],
   "source": [
    "def myfunc(x):\n",
    "    \n",
    "    # Tasks 1,2\n",
    "    f = 2*x\n",
    "    g = 2\n",
    "    p = np.cos(3*x)\n",
    "\n",
    "    # Task 3\n",
    "    #f = x\n",
    "    #g = 1\n",
    "    #p = 5*x\n",
    "\n",
    "    # Task 4\n",
    "    # nuclear rod\n",
    "    #K = 16.75\n",
    "    #R = 0.015\n",
    "    #f = 1 / x\n",
    "    #g = 0\n",
    "    #p = -10**8*np.exp(-x/R)/(x*K)\n",
    "    \n",
    "    return (f,g,p)"
   ]
  },
  {
   "cell_type": "code",
   "execution_count": 9,
   "metadata": {},
   "outputs": [],
   "source": [
    "# Task A\n",
    "def MyGauss(A,b):\n",
    "    \n",
    "    # number of equations\n",
    "    n = len(b)\n",
    "    \n",
    "    # eliminate the unknowns, from first to (n-1)th unknown, to form an upper triangular matrix\n",
    "    for i in range(0,n-1):\n",
    "        # eliminate the i-th unknown from the (i+1)th row downwards\n",
    "        # i.e. set the zeros in column i.\n",
    "        for j in range(i+1,n):\n",
    "            # eliminate on row j\n",
    "\n",
    "            # A(i,i) is the pivot coefficient\n",
    "            p = A[j,i] / A[i,i]\n",
    "        \n",
    "            # compute the new elements of row j in matrix A\n",
    "            # use slicing\n",
    "            #A[j,:] = A[j,:] - p * A[i,:]\n",
    "            # or, alternatively, loop for every cell of row j\n",
    "            #for k in range(i,n):\n",
    "            #    A[j,k] = A[j,k] - p * A[i,k]\n",
    "            A[j,:] = A[j,:] - p * A[i,:]\n",
    "\n",
    "            # compute the new element of row j in vector b\n",
    "            b[j] = b[j] - p * b[i]\n",
    "    \n",
    "    # evauate, by back substitution the solution\n",
    "    # start from the last unknown and go upward till the first unknown\n",
    "    x = np.zeros(n)\n",
    "    for i in range(n-1,-1,-1):\n",
    "        # contribution from b (right hand side of the equation)\n",
    "        x[i] = b[i] / A[i,i]\n",
    "        # contribution from the other (already evaluated) unknowns\n",
    "        # (within the left hand side of the equation)\n",
    "        for k in range(i+1,n):\n",
    "            x[i] = x[i] - A[i,k] * x[k] / A[i,i]\n",
    "\n",
    "    return x\n",
    "\n"
   ]
  },
  {
   "cell_type": "code",
   "execution_count": 7,
   "metadata": {},
   "outputs": [],
   "source": [
    "def myodebc(a,b,ya,yb,N):\n",
    "\n",
    "\n",
    "    # define the range\n",
    "    x = np.linspace(a,b,N+1)\n",
    "    # find the interval\n",
    "    h = x[1] - x[0]\n",
    "\n",
    "\n",
    "    # build a set of algebraic equation A * y = b\n",
    "    # where A is N+1 by N+1\n",
    "    A = np.zeros((N+1,N+1))\n",
    "    b = np.zeros(N+1)\n",
    "    # set the boundary conditions\n",
    "    A[0,0] = 1\n",
    "    b[0] = ya\n",
    "    A[N,N] = 1\n",
    "    b[N] = yb\n",
    "    # set equations for the interior points\n",
    "    for i in range(1,N):\n",
    "       # evaluate the functions f, g and p at this x\n",
    "       (f, g, p) = myfunc(x[i])\n",
    "       A[i,i-1] = 1/h**2 - f / (2*h)\n",
    "       A[i,i] = g - 2 / h**2\n",
    "       A[i,i+1] = 1/h**2 + f / (2*h)\n",
    "       b[i] = p\n",
    "\n",
    "    y = MyGauss(A,b)\n",
    "\n",
    "    return (x,y)\n"
   ]
  },
  {
   "cell_type": "code",
   "execution_count": 10,
   "metadata": {},
   "outputs": [
    {
     "data": {
      "text/plain": [
       "[<matplotlib.lines.Line2D at 0x7fac0825e190>]"
      ]
     },
     "execution_count": 10,
     "metadata": {},
     "output_type": "execute_result"
    },
    {
     "data": {
      "image/png": "[encoded data removed]",
      "text/plain": [
       "<Figure size 432x288 with 1 Axes>"
      ]
     },
     "metadata": {
      "needs_background": "light"
     },
     "output_type": "display_data"
    }
   ],
   "source": [
    "# Task 1\n",
    "(x,y) = myodebc(0,np.pi,1.5,0,10)\n",
    "pl.plot(x,y,'bo')\n",
    "(x,y) = myodebc(0,np.pi,1.5,0,100)\n",
    "pl.plot(x,y,'rd')\n"
   ]
  },
  {
   "cell_type": "code",
   "execution_count": 17,
   "metadata": {},
   "outputs": [],
   "source": [
    "def Jacobi(a,b,ya,yb,N,tol):\n",
    "    \n",
    "    # define the range\n",
    "    x = np.linspace(a,b,N+1)\n",
    "    # find the interval\n",
    "    h = x[1] - x[0]\n",
    "\n",
    "    y = np.zeros(N+1)\n",
    "    yk = np.zeros(N+1)\n",
    "    \n",
    "    c = 0\n",
    "    err = 10.0 * tol\n",
    "    while err > tol and c<100000:\n",
    "    \n",
    "        # enforce bc\n",
    "        y[0] = ya\n",
    "        y[N] = yb\n",
    "        # evaluate internal points for next iteration\n",
    "        for i in range(1,N):\n",
    "            # solve for this x\n",
    "            # evaluate the functions f, g and p at this x\n",
    "            (f, g, p) = myfunc(x[i])\n",
    "            y[i] = ( -(yk[i+1]+yk[i-1])/h**2 - f*(yk[i+1]-yk[i-1])/(2*h) + p ) / (g-2/h**2)\n",
    "\n",
    "        err = np.max(np.abs(y - yk))\n",
    "        yk = np.copy(y)\n",
    "\n",
    "\n",
    "    return (x,y)\n"
   ]
  },
  {
   "cell_type": "code",
   "execution_count": 23,
   "metadata": {},
   "outputs": [
    {
     "data": {
      "text/plain": [
       "[<matplotlib.lines.Line2D at 0x7fac08633190>]"
      ]
     },
     "execution_count": 23,
     "metadata": {},
     "output_type": "execute_result"
    },
    {
     "data": {
      "image/png": "[encoded data removed]",
      "text/plain": [
       "<Figure size 432x288 with 1 Axes>"
      ]
     },
     "metadata": {
      "needs_background": "light"
     },
     "output_type": "display_data"
    }
   ],
   "source": [
    "# Task 2\n",
    "(x,y) = myodebc(0,np.pi,1.5,0,50)\n",
    "pl.plot(x,y,'bo')\n",
    "(x,y) = Jacobi(0,np.pi,1.5,0,50, 0.01)\n",
    "pl.plot(x,y,'rd')"
   ]
  },
  {
   "cell_type": "code",
   "execution_count": 24,
   "metadata": {},
   "outputs": [],
   "source": [
    "def myodebc2(a,b,bca,bcb,N,c):\n",
    "\n",
    "    # define the range\n",
    "    x = np.linspace(a,b,N+1)\n",
    "    # find the interval\n",
    "    h = x[1] - x[0]\n",
    "\n",
    "\n",
    "    # build a set of algebraic equation A * y = b\n",
    "    # where A is N+1 by N+1\n",
    "    A = np.zeros((N+1,N+1))\n",
    "    b = np.zeros(N+1)\n",
    "    # set the boundary conditions\n",
    "    # boundary a: we need the forward scheme\n",
    "    A[0,0] = c[1] - c[0]/h\n",
    "    A[0,1] = c[0]/h\n",
    "    b[0] = bca\n",
    "    \n",
    "    # boundary b: we need the backward scheme\n",
    "    A[N,N-1] = -c[2]/h\n",
    "    A[N,N] = c[2]/h + c[3]\n",
    "    b[N] = bcb\n",
    "\n",
    "    # set equations for the interior points\n",
    "    for i in range(1,N):\n",
    "       # evaluate the functions f, g and p at this x\n",
    "       (f, g, p) = myfunc(x[i])\n",
    "       A[i,i-1] = 1/h**2 - f / (2*h)\n",
    "       A[i,i] = g - 2 / h**2\n",
    "       A[i,i+1] = 1/h**2 + f / (2*h)\n",
    "       b[i] = p\n",
    "\n",
    "\n",
    "    y = np.linalg.inv(A).dot(b)\n",
    "\n",
    "    return (x,y)\n"
   ]
  },
  {
   "cell_type": "code",
   "execution_count": 25,
   "metadata": {},
   "outputs": [
    {
     "data": {
      "text/plain": [
       "[<matplotlib.lines.Line2D at 0x7fac08518e50>]"
      ]
     },
     "execution_count": 25,
     "metadata": {},
     "output_type": "execute_result"
    },
    {
     "data": {
      "image/png": "[encoded data removed]",
      "text/plain": [
       "<Figure size 432x288 with 1 Axes>"
      ]
     },
     "metadata": {
      "needs_background": "light"
     },
     "output_type": "display_data"
    }
   ],
   "source": [
    "# Task 3\n",
    "(x,y) = myodebc2(0,2,0,-1,50,[1,0,1,0])\n",
    "pl.plot(x,y,'bo')"
   ]
  },
  {
   "cell_type": "code",
   "execution_count": 28,
   "metadata": {},
   "outputs": [
    {
     "data": {
      "text/plain": [
       "[<matplotlib.lines.Line2D at 0x7fac085616d0>]"
      ]
     },
     "execution_count": 28,
     "metadata": {},
     "output_type": "execute_result"
    },
    {
     "data": {
      "image/png": "[encoded data removed]",
      "text/plain": [
       "<Figure size 432x288 with 1 Axes>"
      ]
     },
     "metadata": {
      "needs_background": "light"
     },
     "output_type": "display_data"
    }
   ],
   "source": [
    "# Task 4\n",
    "# Nuclear rod\n",
    "\n",
    "h = 6*10**4\n",
    "K = 16.75\n",
    "R = 0.015\n",
    "w = 0.003\n",
    "Tw = 473\n",
    "Tw = 490\n",
    "# 1\n",
    "# set the b.c.\n",
    "c = np.zeros(4)\n",
    "# at boundary a\n",
    "c[0] = 1\n",
    "c[1] = 0\n",
    "bca = -6.32*10**5 / K\n",
    "# at boundary b\n",
    "c[2] = 1\n",
    "c[3] = h / K\n",
    "bcb = h / K * Tw\n",
    "\n",
    "(x,y) = myodebc2(R,R+w,bca,bcb,50,c)\n",
    "pl.plot(x,y,'bo')"
   ]
  },
  {
   "cell_type": "code",
   "execution_count": null,
   "metadata": {},
   "outputs": [],
   "source": []
  }
 ],
 "metadata": {
  "kernelspec": {
   "display_name": "Python 3",
   "language": "python",
   "name": "python3"
  },
  "language_info": {
   "codemirror_mode": {
    "name": "ipython",
    "version": 3
   },
   "file_extension": ".py",
   "mimetype": "text/x-python",
   "name": "python",
   "nbconvert_exporter": "python",
   "pygments_lexer": "ipython3",
   "version": "3.7.6"
  }
 },
 "nbformat": 4,
 "nbformat_minor": 2
}
