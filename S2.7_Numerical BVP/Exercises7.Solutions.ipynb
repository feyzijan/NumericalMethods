{
 "cells": [
  {
   "cell_type": "code",
   "execution_count": 9,
   "metadata": {},
   "outputs": [],
   "source": [
    "import numpy as np\n",
    "import matplotlib.pyplot as pl"
   ]
  },
  {
   "cell_type": "code",
   "execution_count": 2,
   "metadata": {},
   "outputs": [],
   "source": [
    "def myfunc(x):\n",
    "    \n",
    "    # Tasks 1,2\n",
    "    #f = 2*x\n",
    "    #g = 2\n",
    "    #p = np.cos(3*x)\n",
    "\n",
    "    # Task 3\n",
    "    #f = x\n",
    "    #g = 1\n",
    "    #p = 5*x\n",
    "\n",
    "    # Task 4\n",
    "    # nuclear rod\n",
    "    K = 16.75\n",
    "    R = 0.015\n",
    "    f = 1 / x\n",
    "    g = 0\n",
    "    p = -10**8*np.exp(-x/R)/(x*K)\n",
    "    \n",
    "    return (f,g,p)"
   ]
  },
  {
   "cell_type": "code",
   "execution_count": 10,
   "metadata": {},
   "outputs": [],
   "source": [
    "# Task A\n",
    "def MyGauss(A,b):\n",
    "    \n",
    "    # number of equations\n",
    "    n = len(b)\n",
    "    \n",
    "    # eliminate the unknowns, from first to (n-1)th unknown, to form an upper triangular matrix\n",
    "    for i in range(0,n-1):\n",
    "        # eliminate the i-th unknown from the (i+1)th row downwards\n",
    "        # i.e. set the zeros in column i.\n",
    "        for j in range(i+1,n):\n",
    "            # eliminate on row j\n",
    "\n",
    "            # A(i,i) is the pivot coefficient\n",
    "            p = A[j,i] / A[i,i]\n",
    "        \n",
    "            # compute the new elements of row j in matrix A\n",
    "            # use slicing\n",
    "            #A[j,:] = A[j,:] - p * A[i,:]\n",
    "            # or, alternatively, loop for every cell of row j\n",
    "            #for k in range(i,n):\n",
    "            #    A[j,k] = A[j,k] - p * A[i,k]\n",
    "            A[j,:] = A[j,:] - p * A[i,:]\n",
    "\n",
    "            # compute the new element of row j in vector b\n",
    "            b[j] = b[j] - p * b[i]\n",
    "    \n",
    "    # evauate, by back substitution the solution\n",
    "    # start from the last unknown and go upward till the first unknown\n",
    "    x = np.zeros(n)\n",
    "    for i in range(n-1,-1,-1):\n",
    "        # contribution from b (right hand side of the equation)\n",
    "        x[i] = b[i] / A[i,i]\n",
    "        # contribution from the other (already evaluated) unknowns\n",
    "        # (within the left hand side of the equation)\n",
    "        for k in range(i+1,n):\n",
    "            x[i] = x[i] - A[i,k] * x[k] / A[i,i]\n",
    "\n",
    "    return x\n",
    "\n"
   ]
  },
  {
   "cell_type": "code",
   "execution_count": 11,
   "metadata": {},
   "outputs": [],
   "source": [
    "def myodebc(a,b,ya,yb,N):\n",
    "\n",
    "\n",
    "    # define the range\n",
    "    x = np.linspace(a,b,N+1)\n",
    "    # find the interval\n",
    "    h = x[1] - x[0]\n",
    "\n",
    "\n",
    "    # build a set of algebraic equation A * y = b\n",
    "    # where A is N+1 by N+1\n",
    "    A = np.zeros((N+1,N+1))\n",
    "    b = np.zeros(N+1)\n",
    "    # set the boundary conditions\n",
    "    A[0,0] = 1\n",
    "    b[0] = ya\n",
    "    A[N,N] = 1\n",
    "    b[N] = yb\n",
    "    # set equations for the interior points\n",
    "    for i in range(1,N):\n",
    "       # evaluate the functions f, g and p at this x\n",
    "       (f, g, p) = myfunc(x[i])\n",
    "       A[i,i-1] = 1/h**2 - f / (2*h)\n",
    "       A[i,i] = g - 2 / h**2\n",
    "       A[i,i+1] = 1/h**2 + f / (2*h)\n",
    "       b[i] = p\n",
    "\n",
    "    y = MyGauss(A,b)\n",
    "\n",
    "    return (x,y)\n"
   ]
  },
  {
   "cell_type": "code",
   "execution_count": 12,
   "metadata": {},
   "outputs": [
    {
     "data": {
      "text/plain": [
       "[<matplotlib.lines.Line2D at 0x191870501c8>]"
      ]
     },
     "execution_count": 12,
     "metadata": {},
     "output_type": "execute_result"
    },
    {
     "data": {
      "image/png": "[encoded data removed]",
      "text/plain": [
       "<Figure size 432x288 with 1 Axes>"
      ]
     },
     "metadata": {
      "needs_background": "light"
     },
     "output_type": "display_data"
    }
   ],
   "source": [
    "# Task 1\n",
    "(x,y) = myodebc(0,np.pi,1.5,0,10)\n",
    "pl.plot(x,y,'bo')\n",
    "(x,y) = myodebc(0,np.pi,1.5,0,100)\n",
    "pl.plot(x,y,'rd')\n"
   ]
  },
  {
   "cell_type": "code",
   "execution_count": 13,
   "metadata": {},
   "outputs": [],
   "source": [
    "def Jacobi(a,b,ya,yb,N,tol):\n",
    "    \n",
    "    # define the range\n",
    "    x = np.linspace(a,b,N+1)\n",
    "    # find the interval\n",
    "    h = x[1] - x[0]\n",
    "\n",
    "    y = np.zeros(N+1)\n",
    "    yk = np.zeros(N+1)\n",
    "    \n",
    "    c = 0\n",
    "    err = 10.0 * tol\n",
    "    while err > tol and c<100000:\n",
    "    \n",
    "        # enforce bc\n",
    "        y[0] = ya\n",
    "        y[N] = yb\n",
    "        # evaluate internal points for next iteration\n",
    "        for i in range(1,N):\n",
    "            # solve for this x\n",
    "            # evaluate the functions f, g and p at this x\n",
    "            (f, g, p) = myfunc(x[i])\n",
    "            y[i] = ( -(yk[i+1]+yk[i-1])/h**2 - f*(yk[i+1]-yk[i-1])/(2*h) + p ) / (g-2/h**2)\n",
    "\n",
    "        err = np.max(np.abs(y - yk))\n",
    "        yk = np.copy(y)\n",
    "\n",
    "\n",
    "    return (x,y)\n"
   ]
  },
  {
   "cell_type": "code",
   "execution_count": 14,
   "metadata": {},
   "outputs": [
    {
     "data": {
      "text/plain": [
       "[<matplotlib.lines.Line2D at 0x19187778ec8>]"
      ]
     },
     "execution_count": 14,
     "metadata": {},
     "output_type": "execute_result"
    },
    {
     "data": {
      "image/png": "[encoded data removed]",
      "text/plain": [
       "<Figure size 432x288 with 1 Axes>"
      ]
     },
     "metadata": {
      "needs_background": "light"
     },
     "output_type": "display_data"
    }
   ],
   "source": [
    "# Task 2\n",
    "(x,y) = myodebc(0,np.pi,1.5,0,50)\n",
    "pl.plot(x,y,'bo')\n",
    "(x,y) = Jacobi(0,np.pi,1.5,0,50, 0.01)\n",
    "pl.plot(x,y,'rd')"
   ]
  },
  {
   "cell_type": "code",
   "execution_count": 21,
   "metadata": {},
   "outputs": [],
   "source": [
    "def myodebc2(a,b,bca,bcb,N,c):\n",
    "\n",
    "    # define the range\n",
    "    x = np.linspace(a,b,N+1)\n",
    "    # find the interval\n",
    "    h = x[1] - x[0]\n",
    "\n",
    "\n",
    "    # build a set of algebraic equation A * y = b\n",
    "    # where A is N+1 by N+1\n",
    "    A = np.zeros((N+1,N+1))\n",
    "    b = np.zeros(N+1)\n",
    "    # set the boundary conditions\n",
    "    # boundary a: we need the forward scheme\n",
    "    A[0,0] = c[1] - c[0]/h\n",
    "    A[0,1] = c[0]/h\n",
    "    b[0] = bca\n",
    "    \n",
    "    # boundary b: we need the backward scheme\n",
    "    A[N,N-1] = -c[2]/h\n",
    "    A[N,N] = c[2]/h + c[3]\n",
    "    b[N] = bcb\n",
    "\n",
    "    # set equations for the interior points\n",
    "    for i in range(1,N):\n",
    "       # evaluate the functions f, g and p at this x\n",
    "       (f, g, p) = myfunc(x[i])\n",
    "       A[i,i-1] = 1/h**2 - f / (2*h)\n",
    "       A[i,i] = g - 2 / h**2\n",
    "       A[i,i+1] = 1/h**2 + f / (2*h)\n",
    "       b[i] = p\n",
    "        \n",
    "\n",
    "    \n",
    "\n",
    "\n",
    "\n",
    "    y = np.linalg.inv(A).dot(b)\n",
    "\n",
    "    return (x,y)\n"
   ]
  },
  {
   "cell_type": "code",
   "execution_count": 22,
   "metadata": {},
   "outputs": [
    {
     "data": {
      "text/plain": [
       "[<matplotlib.lines.Line2D at 0x19188b3da48>]"
      ]
     },
     "execution_count": 22,
     "metadata": {},
     "output_type": "execute_result"
    },
    {
     "data": {
      "image/png": "[encoded data removed]",
      "text/plain": [
       "<Figure size 432x288 with 1 Axes>"
      ]
     },
     "metadata": {
      "needs_background": "light"
     },
     "output_type": "display_data"
    }
   ],
   "source": [
    "# Task 3\n",
    "(x,y) = myodebc2(0,2,0,-1,50,[1,0,1,0])\n",
    "pl.plot(x,y,'bo')"
   ]
  },
  {
   "cell_type": "code",
   "execution_count": 24,
   "metadata": {},
   "outputs": [
    {
     "name": "stdout",
     "output_type": "stream",
     "text": [
      "0.015 0.018 -37731.34328358209 1694328.3582089553 50 [1.00000000e+00 0.00000000e+00 1.00000000e+00 3.58208955e+03]\n"
     ]
    },
    {
     "data": {
      "image/png": "[encoded data removed]",
      "text/plain": [
       "<Figure size 432x288 with 1 Axes>"
      ]
     },
     "metadata": {
      "needs_background": "light"
     },
     "output_type": "display_data"
    }
   ],
   "source": [
    "# Task 4\n",
    "# Nuclear rod\n",
    "\n",
    "h = 6*10**4\n",
    "K = 16.75\n",
    "R = 0.015\n",
    "w = 0.003\n",
    "Tw = 473\n",
    "#Tw = 490\n",
    "# 1\n",
    "# set the b.c.\n",
    "c = np.zeros(4)\n",
    "# at boundary a\n",
    "c[0] = 1\n",
    "c[1] = 0\n",
    "bca = -6.32*10**5 / K\n",
    "# at boundary b\n",
    "c[2] = 1\n",
    "c[3] = h / K #???????\n",
    "bcb = h / K * Tw\n",
    "\n",
    "(x,y) = myodebc2(R,R+w,bca,bcb,50,c)\n",
    "pl.plot(x,y,'bo')\n",
    "\n",
    "\n",
    "print(R,R+w,bca,bcb,50,c)"
   ]
  },
  {
   "cell_type": "markdown",
   "metadata": {},
   "source": [
    "## Different Boundary Conditions\n"
   ]
  },
  {
   "cell_type": "code",
   "execution_count": 1,
   "metadata": {},
   "outputs": [
    {
     "ename": "NameError",
     "evalue": "name 'np' is not defined",
     "output_type": "error",
     "traceback": [
      "\u001b[1;31m---------------------------------------------------------------------------\u001b[0m",
      "\u001b[1;31mNameError\u001b[0m                                 Traceback (most recent call last)",
      "\u001b[1;32m<ipython-input-1-ee80fc87758a>\u001b[0m in \u001b[0;36m<module>\u001b[1;34m\u001b[0m\n\u001b[0;32m     76\u001b[0m \u001b[0mc\u001b[0m \u001b[1;33m=\u001b[0m \u001b[1;33m[\u001b[0m\u001b[1;36m1\u001b[0m\u001b[1;33m,\u001b[0m\u001b[1;36m0\u001b[0m\u001b[1;33m,\u001b[0m\u001b[1;36m1\u001b[0m\u001b[1;33m,\u001b[0m\u001b[1;36m0\u001b[0m\u001b[1;33m]\u001b[0m\u001b[1;33m\u001b[0m\u001b[1;33m\u001b[0m\u001b[0m\n\u001b[0;32m     77\u001b[0m \u001b[1;33m\u001b[0m\u001b[0m\n\u001b[1;32m---> 78\u001b[1;33m \u001b[0my\u001b[0m\u001b[1;33m,\u001b[0m\u001b[0mx\u001b[0m \u001b[1;33m=\u001b[0m \u001b[0mModifiedmyodebc\u001b[0m\u001b[1;33m(\u001b[0m\u001b[0ma\u001b[0m\u001b[1;33m,\u001b[0m\u001b[0mb\u001b[0m\u001b[1;33m,\u001b[0m\u001b[0mya\u001b[0m\u001b[1;33m,\u001b[0m\u001b[0myb\u001b[0m\u001b[1;33m,\u001b[0m\u001b[0mN\u001b[0m\u001b[1;33m,\u001b[0m\u001b[0mc\u001b[0m\u001b[1;33m)\u001b[0m\u001b[1;33m\u001b[0m\u001b[1;33m\u001b[0m\u001b[0m\n\u001b[0m\u001b[0;32m     79\u001b[0m \u001b[1;33m\u001b[0m\u001b[0m\n\u001b[0;32m     80\u001b[0m \u001b[0mpl\u001b[0m\u001b[1;33m.\u001b[0m\u001b[0mplot\u001b[0m\u001b[1;33m(\u001b[0m\u001b[0mx\u001b[0m\u001b[1;33m,\u001b[0m\u001b[0my\u001b[0m\u001b[1;33m)\u001b[0m\u001b[1;33m\u001b[0m\u001b[1;33m\u001b[0m\u001b[0m\n",
      "\u001b[1;32m<ipython-input-1-ee80fc87758a>\u001b[0m in \u001b[0;36mModifiedmyodebc\u001b[1;34m(a, b, ya, yb, N, c)\u001b[0m\n\u001b[0;32m     13\u001b[0m \u001b[1;33m\u001b[0m\u001b[0m\n\u001b[0;32m     14\u001b[0m     \u001b[1;31m# generate xgrid\u001b[0m\u001b[1;33m\u001b[0m\u001b[1;33m\u001b[0m\u001b[1;33m\u001b[0m\u001b[0m\n\u001b[1;32m---> 15\u001b[1;33m     \u001b[0mx\u001b[0m \u001b[1;33m=\u001b[0m \u001b[0mnp\u001b[0m\u001b[1;33m.\u001b[0m\u001b[0mlinspace\u001b[0m\u001b[1;33m(\u001b[0m\u001b[0ma\u001b[0m\u001b[1;33m,\u001b[0m\u001b[0mb\u001b[0m\u001b[1;33m,\u001b[0m\u001b[0mN\u001b[0m\u001b[1;33m+\u001b[0m\u001b[1;36m1\u001b[0m\u001b[1;33m)\u001b[0m\u001b[1;33m\u001b[0m\u001b[1;33m\u001b[0m\u001b[0m\n\u001b[0m\u001b[0;32m     16\u001b[0m     \u001b[0mh\u001b[0m \u001b[1;33m=\u001b[0m \u001b[1;33m(\u001b[0m\u001b[0mb\u001b[0m\u001b[1;33m-\u001b[0m\u001b[0ma\u001b[0m\u001b[1;33m)\u001b[0m\u001b[1;33m/\u001b[0m\u001b[0mN\u001b[0m\u001b[1;33m\u001b[0m\u001b[1;33m\u001b[0m\u001b[0m\n\u001b[0;32m     17\u001b[0m \u001b[1;33m\u001b[0m\u001b[0m\n",
      "\u001b[1;31mNameError\u001b[0m: name 'np' is not defined"
     ]
    }
   ],
   "source": [
    "\"\"\"for boundary conditions with derivatives employ forward and backward scheme\n",
    "at a and b respectively\"\"\"\n",
    "## Modify myodebc to acommodate different boundary conditions\n",
    "\n",
    "\n",
    "def myfunc(x):\n",
    "    q = 5\n",
    "    return (x,1,q*x)\n",
    "\n",
    "\n",
    "def Modifiedmyodebc(a,b,ya,yb,N,c):\n",
    "    \n",
    "    \n",
    "    # generate xgrid\n",
    "    x = np.linspace(a,b,N+1)\n",
    "    h = (b-a)/N\n",
    "    \n",
    "    #generate matrix to fill\n",
    "    matrice = np.zeros((N+1,N+1))\n",
    "    matrice[0][0] = 1\n",
    "    matrice[N][N] = 1\n",
    "    \n",
    "    # generate list of constants\n",
    "    alist = np.zeros((N+1,1))\n",
    "    blist = np.zeros((N+1,1))\n",
    "    clist = np.zeros((N+1,1))\n",
    "    \n",
    "\n",
    "    # generate right hand side\n",
    "    plist = np.zeros((N+1,1)) # this hold all y values y0,y1,y2...yn\n",
    "    \n",
    "    #impose boundaries\n",
    "    plist[0] = ya\n",
    "    matrice[0][0] = c[1]- c[0]/h\n",
    "    matrice[0][1] = c[0]/h\n",
    "    \n",
    "    plist[N] = yb\n",
    "    matrice[N][N] = c[3] + c[2]/h\n",
    "    matrice[N][N-1] = -c[2]/h\n",
    "    \n",
    "    for i in range (1,N):\n",
    "        #get the values for the x functions\n",
    "        f,g,p = myfunc(x[i])\n",
    "        plist[i] = [p]\n",
    "        \n",
    "        #get values for the constants\n",
    "        alist[i] = [1/(h**2) - f/2/h]\n",
    "        blist[i] = [g-2/(h**2)]\n",
    "        clist[i] = [1/(h**2) + f/2/h]\n",
    "    \n",
    "    for i in range(1,N):\n",
    "        #add constants to matrix\n",
    "        matrice[i][i-1] = alist[i]\n",
    "        matrice[i][i]   = blist[i]\n",
    "        matrice[i][i+1] = clist[i]\n",
    "        \n",
    "    #pass on to Gauss Solver\n",
    "    \n",
    "#     for row in matrice:\n",
    "#         print(row)\n",
    "    \n",
    "\n",
    "    \n",
    "    #result = MyGauss(matrice,plist)\n",
    "    result = np.linalg.inv(matrice).dot(plist)\n",
    "    return(result,x)\n",
    "    \n",
    "    \n",
    "####    \n",
    "a = 0\n",
    "b = 2\n",
    "ya = 0\n",
    "yb = -1\n",
    "N = 50\n",
    "# c0 = c2 = 0 : dirichlet ----- c1 = c3= 0: neumeann\n",
    "c = [1,0,1,0]\n",
    "\n",
    "y,x = Modifiedmyodebc(a,b,ya,yb,N,c)\n",
    "\n",
    "pl.plot(x,y)\n",
    "pl.title(\"{} intervals\".format(N))"
   ]
  },
  {
   "cell_type": "code",
   "execution_count": null,
   "metadata": {},
   "outputs": [],
   "source": []
  }
 ],
 "metadata": {
  "kernelspec": {
   "display_name": "Python 3",
   "language": "python",
   "name": "python3"
  },
  "language_info": {
   "codemirror_mode": {
    "name": "ipython",
    "version": 3
   },
   "file_extension": ".py",
   "mimetype": "text/x-python",
   "name": "python",
   "nbconvert_exporter": "python",
   "pygments_lexer": "ipython3",
   "version": "3.7.6"
  }
 },
 "nbformat": 4,
 "nbformat_minor": 2
}
