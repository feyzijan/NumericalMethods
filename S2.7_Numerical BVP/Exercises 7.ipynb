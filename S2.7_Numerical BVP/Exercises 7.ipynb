{
 "cells": [
  {
   "cell_type": "code",
   "execution_count": 1,
   "metadata": {},
   "outputs": [],
   "source": [
    "import math\n",
    "import numpy as np\n",
    "import matplotlib.pyplot as pl"
   ]
  },
  {
   "cell_type": "markdown",
   "metadata": {},
   "source": [
    "## Task 1: Direct method"
   ]
  },
  {
   "cell_type": "code",
   "execution_count": 2,
   "metadata": {},
   "outputs": [],
   "source": [
    "def myfunc(x):\n",
    "    return (2*x,2,math.cos(3*x))\n",
    "\n",
    "def MyGauss(A,b):\n",
    "    n = len(b)\n",
    "    for i in range(0,n-1):\n",
    "        for j in range(i+1,n):\n",
    "            p = A[j,i] / A[i,i]\n",
    "            for k in range(i,n):\n",
    "                A[j,k] = A[j,k] - p * A[i,k]\n",
    "                \n",
    "            b[j] = b[j] - p * b[i]\n",
    "    \n",
    "    x = np.zeros(n)\n",
    "    \n",
    "    for i in range(n-1,-1,-1):\n",
    "        x[i] = b[i] / A[i,i]\n",
    "        \n",
    "        for k in range(i+1,n):\n",
    "            x[i] = x[i] - A[i,k] * x[k] / A[i,i]\n",
    "            \n",
    "    return x"
   ]
  },
  {
   "cell_type": "code",
   "execution_count": 3,
   "metadata": {},
   "outputs": [],
   "source": [
    "def myodebc(a,b,ya,yb,N):\n",
    "    \n",
    "    # generate xgrid\n",
    "    x = np.linspace(a,b,N+1)\n",
    "    h = (b-a)/N\n",
    "    \n",
    "    #generate matrix to fill\n",
    "    matrice = np.zeros((N+1,N+1))\n",
    "    matrice[0][0] = 1\n",
    "    matrice[N][N] = 1\n",
    "    \n",
    "    # generate list of constants\n",
    "    alist = np.zeros((N+1,1))\n",
    "    blist = np.zeros((N+1,1))\n",
    "    clist = np.zeros((N+1,1))\n",
    "    \n",
    "    # generate right hand side\n",
    "    plist = np.zeros((N+1,1))\n",
    "    plist[0] = ya\n",
    "    plist[N] = yb\n",
    "    \n",
    "    for i in range (1,N):\n",
    "        #get the values for the x functions\n",
    "        f,g,p = myfunc(x[i])\n",
    "        plist[i] = [p]\n",
    "        \n",
    "        #get values for the constants\n",
    "        alist[i] = [1/(h**2) - f/2/h]\n",
    "        blist[i] = [g-2/(h**2)]\n",
    "        clist[i] = [1/(h**2) + f/2/h]\n",
    "    \n",
    "    for i in range(1,N):\n",
    "        #add constants to matrix\n",
    "        matrice[i][i-1] = alist[i]\n",
    "        matrice[i][i]   = blist[i]\n",
    "        matrice[i][i+1] = clist[i]\n",
    "        \n",
    "    #pass on to Gauss Solver\n",
    "    \n",
    "    result = MyGauss(matrice,plist)\n",
    "#     print(x)\n",
    "#     print(result)\n",
    "    # print(matrice)\n",
    "    return(result,x)\n",
    "    \n",
    "\n",
    "#     print(x)\n",
    "#     print(\"A\")\n",
    "#     print(alist)\n",
    "#     print(\"B\")\n",
    "#     print(blist)\n",
    "#     print(\"C\")\n",
    "#     print(clist)\n",
    "#     print(\"P\")\n",
    "#     print(plist)\n",
    "        \n",
    "    \n",
    "    "
   ]
  },
  {
   "cell_type": "code",
   "execution_count": 4,
   "metadata": {},
   "outputs": [
    {
     "data": {
      "image/png": "[encoded data removed]",
      "text/plain": [
       "<Figure size 432x288 with 1 Axes>"
      ]
     },
     "metadata": {
      "needs_background": "light"
     },
     "output_type": "display_data"
    },
    {
     "data": {
      "text/plain": [
       "Text(0.5, 1.0, '100 intervals')"
      ]
     },
     "execution_count": 4,
     "metadata": {},
     "output_type": "execute_result"
    },
    {
     "data": {
      "image/png": "[encoded data removed]",
      "text/plain": [
       "<Figure size 432x288 with 1 Axes>"
      ]
     },
     "metadata": {
      "needs_background": "light"
     },
     "output_type": "display_data"
    }
   ],
   "source": [
    "a = 0\n",
    "b = math.pi\n",
    "ya = 1.5\n",
    "yb = 0\n",
    "N = 5\n",
    "\n",
    "y, x = myodebc(a,b,ya,yb,N)\n",
    "\n",
    "pl.plot(x,y)\n",
    "pl.title(\"10 intervals\")\n",
    "\n",
    "\n",
    "N = 100\n",
    "y, x = myodebc(a,b,ya,yb,N)\n",
    "\n",
    "pl.show()\n",
    "pl.plot(x,y,\"rd\")\n",
    "pl.title(\"100 intervals\")\n"
   ]
  },
  {
   "cell_type": "markdown",
   "metadata": {},
   "source": [
    "## Task 2: Iterative methods"
   ]
  },
  {
   "cell_type": "markdown",
   "metadata": {},
   "source": []
  },
  {
   "cell_type": "code",
   "execution_count": 5,
   "metadata": {},
   "outputs": [],
   "source": [
    "##Replicate Task 1 but solve with the jacobi\n",
    "\n",
    "## nOT COMPLETED YET\n",
    "\n",
    "\n",
    "def MyJacobi(a,b,ya,yb,N,e): \n",
    "    # generate xgrid\n",
    "    x = np.linspace(a,b,N+1)\n",
    "    h = (b-a)/N\n",
    "    \n",
    "    #generate matrix to fill\n",
    "    matrice = np.zeros((N+1,N+1))\n",
    "    matrice[0][0] = 1\n",
    "    matrice[N][N] = 1\n",
    "    \n",
    "    # generate list of constants\n",
    "    alist = np.zeros((N+1,1))\n",
    "    blist = np.zeros((N+1,1))\n",
    "    clist = np.zeros((N+1,1))\n",
    "    \n",
    "    # generate right hand side\n",
    "    plist = np.zeros((N+1,1))\n",
    "    plist[0] = ya\n",
    "    plist[N] = yb\n",
    "    \n",
    "    for i in range (1,N):\n",
    "        #get the values for the x functions\n",
    "        f,g,p = myfunc(x[i])\n",
    "        plist[i] = [p]\n",
    "        \n",
    "        #get values for the constants\n",
    "        alist[i] = [1/(h**2) - f/2/h]\n",
    "        blist[i] = [g-2/(h**2)]\n",
    "        clist[i] = [1/(h**2) + f/2/h]\n",
    "    \n",
    "    for i in range(1,N):\n",
    "        #add constants to matrix\n",
    "        matrice[i][i-1] = alist[i]\n",
    "        matrice[i][i]   = blist[i]\n",
    "        matrice[i][i+1] = clist[i]\n",
    "        \n",
    "    #Now the Jacobi Solver\n",
    "    # we now have a matrice: (NxN) matrix and plist: (Nx1) matrix\n",
    "    \n",
    "    sol = np.ones(len(matrice))\n",
    "    result = jacobiSolver(matrice,plist,sol,N)\n",
    "    \n",
    "    return(x, result)\n",
    "    \n",
    "    \n",
    "    \n",
    "    \n",
    "#     # initialise solution list\n",
    "#     solutions = np.ones((len(matrice),1))\n",
    "    \n",
    "#     # initiliase error(to be used later)\n",
    "#     error = e\n",
    "    \n",
    "#     # initialise condition for stopping\n",
    "#     condition = True\n",
    "#     count = 0\n",
    "\n",
    "#     for k in range(0,10):\n",
    "#         count +=1\n",
    "#         #print(count)\n",
    "#         for i in range(0,len(matrice)):\n",
    "#             temp = solutions[i][0]\n",
    "#             #print(plist[i])\n",
    "#             solutions[i][0] += (plist[i][0] / matrice[i][i])\n",
    "#             for j in range(0,len(matrice)):\n",
    "#                 if(i==j):\n",
    "#                     count +=1\n",
    "#                 else:\n",
    "#                     solutions[i][0] -= (matrice[i][j] * solutions[j][0]) /matrice[i][i]\n",
    "                \n",
    "                \n",
    "#             #print(temp-solutions[i])\n",
    "#             condition = e < (temp - solutions[i])\n",
    "                \n",
    "                \n",
    "#     #print(len(matrice))\n",
    "#     return(x,solutions)\n",
    "        \n",
    "    \n",
    "\n",
    "    "
   ]
  },
  {
   "cell_type": "code",
   "execution_count": 6,
   "metadata": {},
   "outputs": [],
   "source": [
    "#Given Solution\n",
    "def Jacobi(a,b,ya,yb,N,tol):\n",
    "    # a,b are the starting and final points\n",
    "    # define the range\n",
    "    x = np.linspace(a,b,N+1)\n",
    "    # find the interval\n",
    "    h = x[1] - x[0]\n",
    "\n",
    "    y = np.zeros(N+1)\n",
    "    yk = np.zeros(N+1)\n",
    "    \n",
    "    c = 0\n",
    "    err = 10.0 * tol\n",
    "    while err > tol and c<100000:\n",
    "        # enforce bc\n",
    "        y[0] = ya\n",
    "        y[N] = yb\n",
    "        # evaluate internal points for next iteration\n",
    "        for i in range(1,N):\n",
    "            # solve for this x\n",
    "            # evaluate the functions f, g and p at this x\n",
    "            (f, g, p) = myfunc(x[i])\n",
    "            y[i] = ( -(yk[i+1]+yk[i-1])/h**2 - f*(yk[i+1]-yk[i-1])/(2*h) + p ) / (g-2/h**2)\n",
    "\n",
    "        err = np.max(np.abs(y - yk))\n",
    "        yk = np.copy(y)\n",
    "\n",
    "\n",
    "    return (x,y)\n",
    "\n"
   ]
  },
  {
   "cell_type": "markdown",
   "metadata": {},
   "source": [
    "Jacobi visualiser\n",
    "https://www.mathworks.com/matlabcentral/mlc-downloads/downloads/d3fd06c8-d832-46a4-b187-546cb17a8065/465c4d5d-4cb8-4ce3-a959-fc12475866b9/images/screenshot.jpg"
   ]
  },
  {
   "cell_type": "code",
   "execution_count": 7,
   "metadata": {},
   "outputs": [
    {
     "data": {
      "text/plain": [
       "Text(0.5, 1.0, '50 intervals')"
      ]
     },
     "execution_count": 7,
     "metadata": {},
     "output_type": "execute_result"
    },
    {
     "data": {
      "image/png": "[encoded data removed]",
      "text/plain": [
       "<Figure size 432x288 with 1 Axes>"
      ]
     },
     "metadata": {
      "needs_background": "light"
     },
     "output_type": "display_data"
    }
   ],
   "source": [
    "a = 0\n",
    "b = math.pi\n",
    "ya = 1.5\n",
    "yb = 0\n",
    "N = 50\n",
    "e = 0.01\n",
    "\n",
    "x,y = Jacobi(a,b,ya,yb,N,e)\n",
    "\n",
    "pl.plot(x,y)\n",
    "pl.title(\"{} intervals\".format(N))"
   ]
  },
  {
   "cell_type": "markdown",
   "metadata": {},
   "source": [
    "## Task 3: Types of boundary conditions"
   ]
  },
  {
   "cell_type": "code",
   "execution_count": 17,
   "metadata": {},
   "outputs": [
    {
     "data": {
      "text/plain": [
       "Text(0.5, 1.0, '50 intervals')"
      ]
     },
     "execution_count": 17,
     "metadata": {},
     "output_type": "execute_result"
    },
    {
     "data": {
      "image/png": "[encoded data removed]",
      "text/plain": [
       "<Figure size 432x288 with 1 Axes>"
      ]
     },
     "metadata": {
      "needs_background": "light"
     },
     "output_type": "display_data"
    }
   ],
   "source": [
    "\"\"\"for boundary conditions with derivatives employ forward and backward scheme\n",
    "at a and b respectively\"\"\"\n",
    "## Modify myodebc to acommodate different boundary conditions\n",
    "\n",
    "\n",
    "def myfunc(x):\n",
    "    q = 5\n",
    "    return (x,1,q*x)\n",
    "\n",
    "\n",
    "def Modifiedmyodebc(a,b,ya,yb,N,c):\n",
    "    \n",
    "    \n",
    "    # generate xgrid\n",
    "    x = np.linspace(a,b,N+1)\n",
    "    h = (b-a)/N\n",
    "    \n",
    "    #generate matrix to fill\n",
    "    matrice = np.zeros((N+1,N+1))\n",
    "    matrice[0][0] = 1\n",
    "    matrice[N][N] = 1\n",
    "    \n",
    "    # generate list of constants\n",
    "    alist = np.zeros((N+1,1))\n",
    "    blist = np.zeros((N+1,1))\n",
    "    clist = np.zeros((N+1,1))\n",
    "    \n",
    "\n",
    "    # generate right hand side\n",
    "    plist = np.zeros((N+1,1)) # this hold all y values y0,y1,y2...yn\n",
    "    \n",
    "    #impose boundaries\n",
    "    plist[0] = ya\n",
    "    matrice[0][0] = c[1]- c[0]/h\n",
    "    matrice[0][1] = c[0]/h\n",
    "    \n",
    "    plist[N] = yb\n",
    "    matrice[N][N] = c[3] + c[2]/h\n",
    "    matrice[N][N-1] = -c[2]/h\n",
    "    \n",
    "    for i in range (1,N):\n",
    "        #get the values for the x functions\n",
    "        f,g,p = myfunc(x[i])\n",
    "        plist[i] = [p]\n",
    "        \n",
    "        #get values for the constants\n",
    "        alist[i] = [1/(h**2) - f/2/h]\n",
    "        blist[i] = [g-2/(h**2)]\n",
    "        clist[i] = [1/(h**2) + f/2/h]\n",
    "    \n",
    "    for i in range(1,N):\n",
    "        #add constants to matrix\n",
    "        matrice[i][i-1] = alist[i]\n",
    "        matrice[i][i]   = blist[i]\n",
    "        matrice[i][i+1] = clist[i]\n",
    "        \n",
    "    #pass on to Gauss Solver\n",
    "    \n",
    "#     for row in matrice:\n",
    "#         print(row)\n",
    "    \n",
    "\n",
    "    \n",
    "    #result = MyGauss(matrice,plist)\n",
    "    result = np.linalg.inv(matrice).dot(plist)\n",
    "    return(result,x)\n",
    "    \n",
    "    \n",
    "####    \n",
    "a = 0\n",
    "b = 2\n",
    "ya = 0\n",
    "yb = -1\n",
    "N = 50\n",
    "# c0 = c2 = 0 : dirichlet ----- c1 = c3= 0: neumeann\n",
    "c = [1,0,1,0]\n",
    "\n",
    "y,x = Modifiedmyodebc(a,b,ya,yb,N,c)\n",
    "\n",
    "pl.plot(x,y)\n",
    "pl.title(\"{} intervals\".format(N))"
   ]
  },
  {
   "cell_type": "code",
   "execution_count": 21,
   "metadata": {},
   "outputs": [
    {
     "name": "stdout",
     "output_type": "stream",
     "text": [
      "0.015 0.018 -37731.34328358209 1694328.3582089553 50 [1, 0, 1, 3582.089552238806]\n"
     ]
    },
    {
     "data": {
      "text/plain": [
       "Text(0.5, 1.0, '50 intervals')"
      ]
     },
     "execution_count": 21,
     "metadata": {},
     "output_type": "execute_result"
    },
    {
     "data": {
      "image/png": "[encoded data removed]",
      "text/plain": [
       "<Figure size 432x288 with 1 Axes>"
      ]
     },
     "metadata": {
      "needs_background": "light"
     },
     "output_type": "display_data"
    }
   ],
   "source": [
    "k = 16.75\n",
    "h = 6*(10**4)\n",
    "R = 0.015\n",
    "w = 0.003\n",
    "Tw = 473\n",
    "\n",
    "def myfunc(x):\n",
    "    k = 16.75\n",
    "    R = 0.015\n",
    "    p = (-10**8)/(x*k)*math.exp(-x/R)\n",
    "    return (1/x,0,p)\n",
    "\n",
    "a = R\n",
    "b = R + w\n",
    "ya = -6.32*10**5/k\n",
    "yb = h/k*(473)\n",
    "N = 50\n",
    "# c0 = c2 = 0 : dirichlet ----- c1 = c3= 0: neumeann\n",
    "c = [1,0,1,h/k]\n",
    "\n",
    "\n",
    "y,x = Modifiedmyodebc(a,b,ya,yb,N,c)\n",
    "\n",
    "\n",
    "print(a,b,ya,yb,N,c)\n",
    "\n",
    "pl.plot(x,y,\"bo\")\n",
    "pl.title(\"{} intervals\".format(N))"
   ]
  },
  {
   "cell_type": "code",
   "execution_count": 65,
   "metadata": {},
   "outputs": [],
   "source": [
    "#Task 4\n"
   ]
  },
  {
   "cell_type": "code",
   "execution_count": null,
   "metadata": {},
   "outputs": [],
   "source": []
  }
 ],
 "metadata": {
  "kernelspec": {
   "display_name": "Python 3",
   "language": "python",
   "name": "python3"
  },
  "language_info": {
   "codemirror_mode": {
    "name": "ipython",
    "version": 3
   },
   "file_extension": ".py",
   "mimetype": "text/x-python",
   "name": "python",
   "nbconvert_exporter": "python",
   "pygments_lexer": "ipython3",
   "version": "3.7.6"
  }
 },
 "nbformat": 4,
 "nbformat_minor": 4
}
