{
 "cells": [
  {
   "cell_type": "code",
   "execution_count": 1,
   "metadata": {},
   "outputs": [],
   "source": [
    "import numpy as np\n",
    "import matplotlib.pyplot as pp\n"
   ]
  },
  {
   "cell_type": "code",
   "execution_count": 2,
   "metadata": {},
   "outputs": [
    {
     "data": {
      "text/plain": [
       "array([[ 9.],\n",
       "       [-7.],\n",
       "       [-1.],\n",
       "       [ 5.]])"
      ]
     },
     "execution_count": 2,
     "metadata": {},
     "output_type": "execute_result"
    }
   ],
   "source": [
    "# Task A: Create Gaus Solver and test with given values\n",
    "\n",
    "A = np.array([[8, -2, 1, 3],\n",
    "    [1, -5, 2, 1],\n",
    "    [-1, 2, 7, 2],\n",
    "    [2, -1, 3, 8],])\n",
    "\n",
    "\n",
    "\n",
    "b = np.array([[9],\n",
    "    [-7],\n",
    "    [-1],\n",
    "    [5],])\n",
    "\n",
    "A.astype(float)\n",
    "b.astype(float)"
   ]
  },
  {
   "cell_type": "code",
   "execution_count": 3,
   "metadata": {},
   "outputs": [],
   "source": [
    "def MyGauss(Am, bv):\n",
    "    #get the dimension of the matrix\n",
    "    \n",
    "    \n",
    "    # convert the matrices to float typed matrices\n",
    "    A = np.copy(Am).astype(np.float32)\n",
    "    b = np.copy(bv).astype(np.float32)\n",
    "    n = len(A)\n",
    "    \n",
    "\n",
    "    \n",
    "    print(A)\n",
    "    print(b)\n",
    "    \n",
    "    \n",
    "    \n",
    "    \n",
    "    \n",
    "    # use pivots to eliminate Xn from the other rows\n",
    "    for i in range(0, n-1):# i goes from first column to the column before the last\n",
    "        for j in range(i+1,n):\n",
    "            ratio = A[j,i]/A[i,i]\n",
    "            print(A[j,i], A[i,i])\n",
    "            A[j] = A[j] - (ratio * A[i])\n",
    "            b[j] = b[j] - (ratio * b[i])\n",
    "            \n",
    "        \n",
    "                           \n",
    "    \n",
    "    print(\"\")\n",
    "    print(\"Final A:\") \n",
    "    print(A)\n",
    "    print(\"Final B\")\n",
    "    print(b)\n",
    "    \n",
    "    \n",
    "    x = np.zeros((n,1))\n",
    "    \n",
    "    for k in range(n-1,-1,-1): # say i start with k = 3 , i.e. 4th row\n",
    "        xv = b[k]/A[k,k] # xvalue = b[3]/A[3,3]\n",
    "        for l in range(k+1,n): # so 4 to 4\n",
    "            xv -= A[k,l]/A[k,k]* x[l] # subtract all upper x values \n",
    "        x[k] = xv\n",
    "    \n",
    "    print(\"x values are: \")\n",
    "    print(x)\n",
    "    \n",
    "\n",
    "    \n",
    "    "
   ]
  },
  {
   "cell_type": "code",
   "execution_count": 4,
   "metadata": {},
   "outputs": [
    {
     "name": "stdout",
     "output_type": "stream",
     "text": [
      "[[ 8. -2.  1.  3.]\n",
      " [ 1. -5.  2.  1.]\n",
      " [-1.  2.  7.  2.]\n",
      " [ 2. -1.  3.  8.]]\n",
      "[[ 9.]\n",
      " [-7.]\n",
      " [-1.]\n",
      " [ 5.]]\n",
      "1.0 8.0\n",
      "-1.0 8.0\n",
      "2.0 8.0\n",
      "1.75 -4.75\n",
      "-0.5 -4.75\n",
      "2.5526316 7.815789\n",
      "\n",
      "Final A:\n",
      "[[ 8.        -2.         1.         3.       ]\n",
      " [ 0.        -4.75       1.875      0.625    ]\n",
      " [ 0.         0.         7.815789   2.6052632]\n",
      " [ 0.         0.         0.         6.333333 ]]\n",
      "Final B\n",
      "[[ 9.       ]\n",
      " [-8.125    ]\n",
      " [-2.868421 ]\n",
      " [ 4.5420876]]\n",
      "x values are: \n",
      "[[ 1.32323241]\n",
      " [ 1.56565666]\n",
      " [-0.60606062]\n",
      " [ 0.71717173]]\n"
     ]
    }
   ],
   "source": [
    "MyGauss(A, b)\n",
    "\n"
   ]
  },
  {
   "cell_type": "code",
   "execution_count": 5,
   "metadata": {},
   "outputs": [
    {
     "data": {
      "text/plain": [
       "dtype('int32')"
      ]
     },
     "execution_count": 5,
     "metadata": {},
     "output_type": "execute_result"
    }
   ],
   "source": [
    "A.astype(float)\n",
    "A.dtype"
   ]
  },
  {
   "cell_type": "code",
   "execution_count": 6,
   "metadata": {},
   "outputs": [
    {
     "data": {
      "text/plain": [
       "array([[ 8., -2.,  1.,  3.],\n",
       "       [ 1., -5.,  2.,  1.],\n",
       "       [-1.,  2.,  7.,  2.],\n",
       "       [ 2., -1.,  3.,  8.]], dtype=float32)"
      ]
     },
     "execution_count": 6,
     "metadata": {},
     "output_type": "execute_result"
    }
   ],
   "source": [
    "A.astype(np.float32)"
   ]
  },
  {
   "cell_type": "code",
   "execution_count": 7,
   "metadata": {},
   "outputs": [],
   "source": [
    "for l in range(0,0):\n",
    "    print(l)"
   ]
  },
  {
   "cell_type": "code",
   "execution_count": 8,
   "metadata": {},
   "outputs": [],
   "source": [
    "#Task 2"
   ]
  },
  {
   "cell_type": "code",
   "execution_count": 9,
   "metadata": {},
   "outputs": [
    {
     "name": "stdout",
     "output_type": "stream",
     "text": [
      "[[ 0. -1. -1.  0.  0.  0.]\n",
      " [ 0.  1.  0. -1. -1.  0.]\n",
      " [ 0.  0.  1.  1.  0. -1.]\n",
      " [ 0. -1. -2. -1.  0.  0.]\n",
      " [ 0.  0.  0. -1.  2. -1.]\n",
      " [ 1.  0.  0.  0. -1. -1.]]\n",
      "[[0.]\n",
      " [0.]\n",
      " [0.]\n",
      " [0.]\n",
      " [0.]\n",
      " [0.]]\n",
      "0.0 0.0\n",
      "0.0 0.0\n",
      "0.0 0.0\n",
      "0.0 0.0\n",
      "1.0 0.0\n",
      "nan nan\n",
      "nan nan\n",
      "nan nan\n",
      "inf nan\n",
      "nan nan\n",
      "nan nan\n",
      "nan nan\n",
      "nan nan\n",
      "nan nan\n",
      "nan nan\n",
      "\n",
      "Final A:\n",
      "[[ 0. -1. -1.  0.  0.  0.]\n",
      " [nan nan nan nan nan nan]\n",
      " [nan nan nan nan nan nan]\n",
      " [nan nan nan nan nan nan]\n",
      " [nan nan nan nan nan nan]\n",
      " [nan nan nan nan nan nan]]\n",
      "Final B\n",
      "[[ 0.]\n",
      " [nan]\n",
      " [nan]\n",
      " [nan]\n",
      " [nan]\n",
      " [nan]]\n",
      "x values are: \n",
      "[[nan]\n",
      " [nan]\n",
      " [nan]\n",
      " [nan]\n",
      " [nan]\n",
      " [nan]]\n"
     ]
    },
    {
     "name": "stderr",
     "output_type": "stream",
     "text": [
      "<ipython-input-3-d8b642d7ce72>:22: RuntimeWarning: invalid value encountered in float_scalars\n",
      "  ratio = A[j,i]/A[i,i]\n",
      "<ipython-input-3-d8b642d7ce72>:22: RuntimeWarning: divide by zero encountered in float_scalars\n",
      "  ratio = A[j,i]/A[i,i]\n",
      "<ipython-input-3-d8b642d7ce72>:24: RuntimeWarning: invalid value encountered in multiply\n",
      "  A[j] = A[j] - (ratio * A[i])\n",
      "<ipython-input-3-d8b642d7ce72>:25: RuntimeWarning: invalid value encountered in multiply\n",
      "  b[j] = b[j] - (ratio * b[i])\n",
      "<ipython-input-3-d8b642d7ce72>:40: RuntimeWarning: invalid value encountered in true_divide\n",
      "  xv = b[k]/A[k,k] # xvalue = b[3]/A[3,3]\n",
      "<ipython-input-3-d8b642d7ce72>:42: RuntimeWarning: divide by zero encountered in float_scalars\n",
      "  xv -= A[k,l]/A[k,k]* x[l] # subtract all upper x values\n",
      "<ipython-input-3-d8b642d7ce72>:42: RuntimeWarning: invalid value encountered in float_scalars\n",
      "  xv -= A[k,l]/A[k,k]* x[l] # subtract all upper x values\n"
     ]
    }
   ],
   "source": [
    "#Task 3\n",
    "\n",
    "currents = np.array([[0,-1,-1,0,0,0]\n",
    "                    ,[0,1,0,-1,-1,0]\n",
    "                    ,[0,0,1,1,0,-1]\n",
    "                    ,[0,-1,-2,-1,0,0]\n",
    "                    ,[0,0,0,-1,2,-1]\n",
    "                    ,[1,0,0,0,-1,-1]])\n",
    "\n",
    "results = np.array([\n",
    "    [0],\n",
    "    [0],\n",
    "    [0],\n",
    "    [0],\n",
    "    [0],\n",
    "    [0]])\n",
    "\n",
    "MyGauss(currents,results)"
   ]
  },
  {
   "cell_type": "code",
   "execution_count": null,
   "metadata": {},
   "outputs": [],
   "source": []
  }
 ],
 "metadata": {
  "kernelspec": {
   "display_name": "Python 3",
   "language": "python",
   "name": "python3"
  },
  "language_info": {
   "codemirror_mode": {
    "name": "ipython",
    "version": 3
   },
   "file_extension": ".py",
   "mimetype": "text/x-python",
   "name": "python",
   "nbconvert_exporter": "python",
   "pygments_lexer": "ipython3",
   "version": "3.7.6"
  }
 },
 "nbformat": 4,
 "nbformat_minor": 4
}
