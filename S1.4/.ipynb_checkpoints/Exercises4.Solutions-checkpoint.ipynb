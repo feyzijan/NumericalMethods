{
 "cells": [
  {
   "cell_type": "markdown",
   "metadata": {},
   "source": [
    "# Task A"
   ]
  },
  {
   "cell_type": "code",
   "execution_count": 1,
   "metadata": {},
   "outputs": [
    {
     "name": "stdout",
     "output_type": "stream",
     "text": [
      "50.57788944723618\n",
      "98\n"
     ]
    }
   ],
   "source": [
    "# open the two files, with reading option\n",
    "fc = open('CIDs.txt','r')\n",
    "fm = open('Marks.txt','r')\n",
    "# read the data from the two files, line by line, and store them in a list\n",
    "CIDs = fc.readlines()\n",
    "Marks = fm.readlines()\n",
    "# close the files as not needed anymore\n",
    "fc.close()\n",
    "fm.close()\n",
    "# \n",
    "# initialise the sum to 0 (needed to compute the average)\n",
    "Sum = 0\n",
    "# assume the first element of the list Mark as current maximum mark\n",
    "Max = int(Marks[0])\n",
    "# traverse the list of Amrks\n",
    "for item in Marks:\n",
    "    # consider teh current element and convert it into an integer\n",
    "    # (remember: items read from files are in string format)\n",
    "    m = int(item)\n",
    "    # add the current mark to the overall sum\n",
    "    Sum = Sum + m\n",
    "    # check if the current mark is higher than the current maximum\n",
    "    if m > Max:\n",
    "        # if so, update the current maximum\n",
    "        Max = m\n",
    "#\n",
    "# compute the average\n",
    "average = Sum / len(Marks)\n",
    "# print out the results\n",
    "print(average)\n",
    "print(Max)\n"
   ]
  },
  {
   "cell_type": "markdown",
   "metadata": {},
   "source": [
    "# Task B1"
   ]
  },
  {
   "cell_type": "code",
   "execution_count": 4,
   "metadata": {},
   "outputs": [
    {
     "name": "stdout",
     "output_type": "stream",
     "text": [
      "Insert the CID: 1168\n",
      "Student 1168 scored 59\n",
      "\n"
     ]
    }
   ],
   "source": [
    "# open the two files, with reading option\n",
    "fc = open('CIDs.txt','r')\n",
    "fm = open('Marks.txt','r')\n",
    "# read the data from the two files, line by line, and store them in a list\n",
    "CIDs = fc.readlines()\n",
    "Marks = fm.readlines()\n",
    "# close the files as not needed anymore\n",
    "fc.close()\n",
    "fm.close()\n",
    "# \n",
    "# enquire the user to input the CID of the student to be found\n",
    "student = int(input('Insert the CID: '))\n",
    "# assume the student has not been found\n",
    "found = False\n",
    "# initialise the counter to traverse the list\n",
    "j = 0\n",
    "# keep searching if not found and we haven't reached the end of  the list\n",
    "while not found and j < len(CIDs):\n",
    "    # check the student againts the current student in the list\n",
    "    if student == int(CIDs[j]):\n",
    "        # student found\n",
    "        # update the flag\n",
    "        found = True\n",
    "        # record the position of the student in the list\n",
    "        pos = j\n",
    "    # increment the counter, to examine next element\n",
    "    j = j + 1\n",
    "#\n",
    "if found:\n",
    "    # student found: print its score\n",
    "    m = CIDs[pos]\n",
    "    print('Student '+str(student)+' scored '+Marks[pos])\n",
    "else:\n",
    "    # student not found\n",
    "    print('Student '+str(student)+' is not present in the list')"
   ]
  },
  {
   "cell_type": "markdown",
   "metadata": {},
   "source": [
    "# Task B2"
   ]
  },
  {
   "cell_type": "code",
   "execution_count": 8,
   "metadata": {},
   "outputs": [
    {
     "name": "stdout",
     "output_type": "stream",
     "text": [
      "['2704\\n', '6814\\n', '8193\\n', '8502\\n', '6934\\n', '1411\\n', '6419\\n', '6110\\n']\n"
     ]
    }
   ],
   "source": [
    "# open the two files, with reading option\n",
    "fc = open('CIDs.txt','r')\n",
    "fm = open('Marks.txt','r')\n",
    "# read the data from the two files, line by line, and store them in a list\n",
    "CIDs = fc.readlines()\n",
    "Marks = fm.readlines()\n",
    "# close the files as not needed anymore\n",
    "fc.close()\n",
    "fm.close()\n",
    "# find the maximum mark\n",
    "Max = int(Marks[0])\n",
    "for item in Marks:\n",
    "    m = int(item)\n",
    "    if m > Max:\n",
    "        Max = m\n",
    "# create a list of student with such mark\n",
    "lbest = []\n",
    "R = range(0,len(Marks))\n",
    "for i in R:\n",
    "    # traverse all the marks\n",
    "    if int(Marks[i]) == Max:\n",
    "        # this mark is the highest, record in the list the CID of the student who achieved it\n",
    "        lbest = lbest + [CIDs[i]]\n",
    "# print the list of best students\n",
    "print(lbest)\n",
    "# save the list in a file\n",
    "fb = open('Best.txt','w')\n",
    "for student in lbest:\n",
    "    fb.write(student)\n",
    "fb.close()"
   ]
  },
  {
   "cell_type": "markdown",
   "metadata": {},
   "source": [
    "# Task C"
   ]
  },
  {
   "cell_type": "code",
   "execution_count": 12,
   "metadata": {},
   "outputs": [
    {
     "data": {
      "image/png": "[encoded data removed]",
      "text/plain": [
       "<Figure size 432x288 with 1 Axes>"
      ]
     },
     "metadata": {
      "needs_background": "light"
     },
     "output_type": "display_data"
    }
   ],
   "source": [
    "#\n",
    "import matplotlib.pyplot as pl\n",
    "# set a list of colours, to be used when plotting different curves on the same graph\n",
    "Col = ['Red','Blue','Green','Cyan']\n",
    "# set the dx step\n",
    "dx = 0.01\n",
    "# define the range of N\n",
    "RN = range(2,15,4)\n",
    "# iterate for every N, i.e. N = 2, 6, 10, 14\n",
    "for N in RN:\n",
    "    # set the range of i, from 0 to N (terms to be added in the series)\n",
    "    Ri = range(0,N+1)\n",
    "    # initialise the list of x and y values\n",
    "    x = []\n",
    "    y = []\n",
    "    # traverse the range of x starting from the lower boundary\n",
    "    xc = -0.8\n",
    "    while xc <= 0.8:\n",
    "        # iterate along the range of x, until reaching the upper boundary\n",
    "        # evaluate y(x) for the current x\n",
    "        # initialise the sum\n",
    "        yc = 0\n",
    "        # traverse all the terms i of the series\n",
    "        for i in Ri:\n",
    "            # add the current term x**i\n",
    "            yc = yc + xc**i\n",
    "        # store the current evaluated x and y in the lists\n",
    "        x = x + [xc]\n",
    "        y = y + [yc]\n",
    "        # update the value of x\n",
    "        xc = xc + dx\n",
    "    # plot y(x) vs x, for the current N, using everytome a different colour\n",
    "    pl.scatter(x,y,s=2,c=Col[N//4])\n",
    "# evaluate and plot the analytical y(x)\n",
    "for val in x:\n",
    "    yex = 1 / (1-val)\n",
    "    pl.scatter(val,yex,s=4,c='Black')"
   ]
  },
  {
   "cell_type": "markdown",
   "metadata": {},
   "source": [
    "# Task D"
   ]
  },
  {
   "cell_type": "code",
   "execution_count": 1,
   "metadata": {},
   "outputs": [
    {
     "name": "stdout",
     "output_type": "stream",
     "text": [
      "Gimme a number between [-1,1] boundary excluded: 0.5\n",
      "Gimme Q: 6\n",
      "Terms: 19\n",
      "1.9999961853027344\n",
      "2.0\n",
      "3.814697265625e-06\n"
     ]
    }
   ],
   "source": [
    "# insert a value of x and accept it only if within requested boundaries\n",
    "x = 2\n",
    "while not ( -1 < x < 1):\n",
    "    x = input('Gimme a number between [-1,1] boundary excluded: ')\n",
    "    # convert into a number, as inputted values are String only\n",
    "    x = float(x)\n",
    "# insert Q            \n",
    "Q = input('Gimme Q: ') \n",
    "Q = float(Q)\n",
    "# \n",
    "# set the counter for the terms\n",
    "i = 0\n",
    "# set the sum\n",
    "Sum = 0\n",
    "# keep iterating and adding terms of the series until the accuracy is larger than the desired one\n",
    "# i.e. |y(n+1) - y(n)| > 10^(-Q)\n",
    "# note that |y(n+1) - y(n)| = |x^(n+1)|\n",
    "while abs(x**(i+1)) > 10**(-Q):\n",
    "    # add another term\n",
    "    Sum = Sum + x**i\n",
    "    # update the counter for the terms\n",
    "    i = i + 1\n",
    "print('Terms: '+str(i)) \n",
    "# compute the exact value\n",
    "yexact = 1 / (1-x);\n",
    "error = yexact - Sum;\n",
    "print(Sum)\n",
    "print(yexact)\n",
    "print(error)"
   ]
  },
  {
   "cell_type": "code",
   "execution_count": null,
   "metadata": {},
   "outputs": [],
   "source": []
  }
 ],
 "metadata": {
  "kernelspec": {
   "display_name": "Python 3",
   "language": "python",
   "name": "python3"
  },
  "language_info": {
   "codemirror_mode": {
    "name": "ipython",
    "version": 3
   },
   "file_extension": ".py",
   "mimetype": "text/x-python",
   "name": "python",
   "nbconvert_exporter": "python",
   "pygments_lexer": "ipython3",
   "version": "3.7.4"
  }
 },
 "nbformat": 4,
 "nbformat_minor": 2
}
