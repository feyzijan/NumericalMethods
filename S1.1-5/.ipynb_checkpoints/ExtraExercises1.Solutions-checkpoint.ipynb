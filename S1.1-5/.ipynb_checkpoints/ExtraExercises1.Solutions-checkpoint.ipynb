{
 "cells": [
  {
   "cell_type": "markdown",
   "metadata": {},
   "source": [
    "# Execise 1"
   ]
  },
  {
   "cell_type": "code",
   "execution_count": null,
   "metadata": {},
   "outputs": [],
   "source": [
    "import math as mt\n",
    "import matplotlib.pyplot as pl\n",
    "\n",
    "# Input the value of N\n",
    "N = input('Gimme N: ')\n",
    "# convert N into an Integer, as it is inputted as String by default\n",
    "N = int(N)\n",
    "# Create a range for i in the series, from 1 to N with odd values only\n",
    "Ri = range(1,N+1,2)\n",
    "\n",
    "# Create the range for x = [0:4pi] in steps of 0.01\n",
    "# You can do it without using numpy!!!\n",
    "dx = 0.01\n",
    "# Find how many points in the x range\n",
    "Nx = int( (2*mt.pi - 0) / dx ) + 1\n",
    "Rx = range(0,Nx)\n",
    "# Create the x range in the list x\n",
    "x = []\n",
    "for i in Rx:\n",
    "    x += [ 0 + i*dx ]\n",
    "    \n",
    "# Evaluate sin(x) in the given range\n",
    "# Store the values of sin(x) in the list y\n",
    "y = []\n",
    "for xp in x:\n",
    "    # evaluate sin(x) with the series at this point xp\n",
    "    #  yp = sin(xp) = series ...\n",
    "    yp = 0\n",
    "    # add terms as defined in the range Ri (i.e. odd values of i from 1 to N )\n",
    "    for i in Ri:\n",
    "        # before adding the new term,\n",
    "        # we need to evaluate i! , i.e. the factorial of i\n",
    "        Rf = range(1,i+1)\n",
    "        facti = 1\n",
    "        for f in Rf:\n",
    "            facti *= f\n",
    "        #     \n",
    "        # add one more term of the expansion    \n",
    "        yp += (-1)**(i//2) * xp**i / facti\n",
    "    #     \n",
    "    # the value yp for this xp is ready: append it to the list y\n",
    "    y += [yp]\n",
    "# \n",
    "#  plot the computed sin(x), i.e. y(x) vs x\n",
    "pl.scatter(x,y)\n"
   ]
  },
  {
   "cell_type": "markdown",
   "metadata": {},
   "source": [
    "# Exercise 2"
   ]
  },
  {
   "cell_type": "code",
   "execution_count": 6,
   "metadata": {},
   "outputs": [
    {
     "data": {
      "text/plain": [
       "<matplotlib.collections.PathCollection at 0x11ebffeb8>"
      ]
     },
     "execution_count": 6,
     "metadata": {},
     "output_type": "execute_result"
    },
    {
     "data": {
      "image/png": "[encoded data removed]",
      "text/plain": [
       "<Figure size 432x288 with 1 Axes>"
      ]
     },
     "metadata": {
      "needs_background": "light"
     },
     "output_type": "display_data"
    }
   ],
   "source": [
    "import math as mt\n",
    "import matplotlib.pyplot as pl\n",
    "# read the file\n",
    "b = open('Bell.txt','r')\n",
    "temp = b.readlines()\n",
    "b.close()\n",
    "# convert data into float and form a list\n",
    "f = []\n",
    "for line in temp:\n",
    "    f += [float(line)]\n",
    "    \n",
    "# create the x range\n",
    "Nx = len(f)\n",
    "dx = 0.01\n",
    "Rx = range(0,Nx)\n",
    "x = []\n",
    "for i in Rx:\n",
    "    x += [-4 + i*dx]\n",
    "\n",
    "pl.scatter(x,f,c='Orange')\n",
    "\n",
    "# compute the derivative for all the points from second to second last\n",
    "# i.e. exlude first and last points\n",
    "Rdx = range(1,Nx-1)\n",
    "df = []\n",
    "for i in Rdx:\n",
    "    # for this xi point, apply the formula\n",
    "    df += [(f[i+1]-f[i-1])/(2*dx)]\n",
    "# plot computed derivative  \n",
    "# restrict the x axis to second to second last points\n",
    "pl.scatter(x[1:Nx-1],df,marker='o',c='Red')\n",
    "\n",
    "# evaluate analytical derivative (this can be done for all points)  \n",
    "dfexact = []\n",
    "for xp in x:\n",
    "    dfexact += [-xp*mt.exp(-xp**2/2)]\n",
    " # plot analytical derivative      \n",
    "pl.scatter(x,dfexact,marker='+',c='Blue')"
   ]
  },
  {
   "cell_type": "markdown",
   "metadata": {},
   "source": [
    "# Exercise 3"
   ]
  },
  {
   "cell_type": "code",
   "execution_count": null,
   "metadata": {},
   "outputs": [],
   "source": [
    "import math as mt\n",
    "import random as rd\n",
    "import matplotlib.pyplot as pl\n",
    "\n",
    "# set the number of moves\n",
    "N = 200\n",
    "\n",
    "# plot the bounding circle\n",
    "Rtheta = range(0,360)\n",
    "for theta in Rtheta:\n",
    "    thetar = theta * mt.pi / 180\n",
    "    pl.scatter(mt.cos(thetar),mt.sin(thetar),s=3,c='b')\n",
    "pl.axes().set_aspect('equal')   \n",
    "# generate a random point in the given domain and plot it\n",
    "r = rd.random()\n",
    "theta = rd.random()*2*mt.pi\n",
    "x = r * mt.cos(theta)\n",
    "y = r * mt.sin(theta)\n",
    "pl.scatter(x,y)\n",
    "\n",
    "# move the point N times\n",
    "Rn = range(1,N+1)\n",
    "for i in Rn:\n",
    "    # store teh current position as previous one\n",
    "    # this is needed as we want to plot the move from a to b as a line\n",
    "    xp = x\n",
    "    yp = y\n",
    "    # compute the size of the move, dx, dy\n",
    "    dx = rd.random()*0.4-0.2\n",
    "    dy = rd.random()*0.4-0.2\n",
    "    # do th emove: update the coordinates of the ant\n",
    "    x += dx\n",
    "    y += dy\n",
    "    # check if the ant goes outside the boundary\n",
    "    if (x**2+y**2)>1:\n",
    "        # if so, bring it back where it was\n",
    "        x -= dx\n",
    "        y -= dy \n",
    "    # plot current position\n",
    "    pl.plot([xp,x],[yp,y],c='Red')\n"
   ]
  },
  {
   "cell_type": "markdown",
   "metadata": {},
   "source": [
    "# Exercise 4"
   ]
  },
  {
   "cell_type": "code",
   "execution_count": null,
   "metadata": {},
   "outputs": [],
   "source": [
    "import math as mt\n",
    "import matplotlib.pyplot as pl\n",
    "# read the file\n",
    "b = open('Min1.txt','r')\n",
    "temp = b.readlines()\n",
    "b.close()\n",
    "# convert data into float and form a list\n",
    "f = []\n",
    "for line in temp:\n",
    "    f += [float(line)]\n",
    "\n",
    "# create the x range\n",
    "Nx = len(f)\n",
    "dx = 0.01\n",
    "Rx = range(0,Nx)\n",
    "x = []\n",
    "for i in Rx:\n",
    "    x += [-4 + i*dx]\n",
    "\n",
    "# plot f(x) vs x    \n",
    "pl.scatter(x,f)\n",
    "\n",
    "# find the minimum value and store info in tuple (xmin,ymin)\n",
    "Min = (x[0],f[0])\n",
    "Ry = range(0,len(f))\n",
    "for i in Ry:\n",
    "    if f[i] < Min[1]:\n",
    "        Min = (x[i],f[i])\n",
    "#\n",
    "print('Min at x = '+str(Min[0])+' is y = '+str(Min[1]))\n",
    "\n",
    "# Compute the derivative. \n",
    "# Note how below I have literally copied and pasted part of Exercise 2: Computing is very much like this!!\n",
    "\n",
    "# compute the derivative for all the points from second to second last\n",
    "# i.e. exlude first and last points\n",
    "Rdx = range(1,Nx-1)\n",
    "df = []\n",
    "for i in Rdx:\n",
    "    # for this xi point, apply the formula\n",
    "    df += [(f[i+1]-f[i-1])/(2*dx)]\n",
    "# plot computed derivative  \n",
    "# restrict the x axis to second to second last points\n",
    "pl.scatter(x[1:Nx-1],df,marker='o',c='Red')\n",
    "pl.grid()"
   ]
  },
  {
   "cell_type": "markdown",
   "metadata": {},
   "source": [
    "# Exercise 5"
   ]
  },
  {
   "cell_type": "code",
   "execution_count": null,
   "metadata": {},
   "outputs": [],
   "source": [
    "import math as mt\n",
    "import matplotlib.pyplot as pl\n",
    "# read the file\n",
    "b = open('Min2.txt','r')\n",
    "temp = b.readlines()\n",
    "b.close()\n",
    "# convert data into float and form a list\n",
    "f = []\n",
    "for line in temp:\n",
    "    f += [float(line)]\n",
    "\n",
    "# create the x range\n",
    "Nx = len(f)\n",
    "dx = 0.01\n",
    "Rx = range(0,Nx)\n",
    "x = []\n",
    "for i in Rx:\n",
    "    x += [-4 + i*dx]\n",
    "    \n",
    "# plot f(x) vs x    \n",
    "pl.scatter(x,f)\n",
    "\n",
    "# find the all the minimum values and store them in the list of tuples (xmin, ymin)\n",
    "Ry = range(1,len(f)-1)\n",
    "Minima = []\n",
    "\n",
    "for i in Ry:\n",
    "    if f[i-1] > f[i] and  f[i] < f[i+1]:\n",
    "        Minima += [(x[i],f[i])]\n",
    "\n",
    "for item in Minima:\n",
    "    print('Min at x = ',str(item[0])+' with value y = '+str(item[1]))\n",
    "    \n",
    "# compute the derivative for all the points from second to second last\n",
    "# i.e. exlude first and last points\n",
    "Rdx = range(1,Nx-1)\n",
    "df = []\n",
    "for i in Rdx:\n",
    "    # for this xi point, apply the formula\n",
    "    df += [(f[i+1]-f[i-1])/(2*dx)]\n",
    "# plot computed derivative  \n",
    "# restrict the x axis to second to second last points\n",
    "pl.scatter(x[1:Nx-1],df,s=2,marker='o',c='Red')\n",
    "pl.grid()"
   ]
  },
  {
   "cell_type": "markdown",
   "metadata": {},
   "source": [
    "# Exercise 6"
   ]
  },
  {
   "cell_type": "code",
   "execution_count": null,
   "metadata": {},
   "outputs": [],
   "source": [
    "# input the text from the keyboard\n",
    "text = input('gimme a text (no white spaces, no punctuation): ')\n",
    "N = len(text)\n",
    "# assume it is palindrome\n",
    "pal = True\n",
    "# scroll each element of the text up to the middle point\n",
    "# stop cheking immediately when the symmetry is violated\n",
    "i = 0\n",
    "# pay attention at how you define the index of the mid-point;\n",
    "# reflect on it by considering an example with odd number of elements in the list and\n",
    "# a case with even number\n",
    "while pal and i < (N-1)//2:\n",
    "    # compare the character i, coming from the left, with the homologous at position -1-i coming from the right\n",
    "    if text[i] != text[-1-i]:\n",
    "        pal = False;\n",
    "    i += 1\n",
    "if pal:\n",
    "    print('It is palindrome')\n",
    "else:\n",
    "    print('It is not palindrome')"
   ]
  },
  {
   "cell_type": "markdown",
   "metadata": {},
   "source": [
    "# Exercise 7"
   ]
  },
  {
   "cell_type": "code",
   "execution_count": 3,
   "metadata": {},
   "outputs": [
    {
     "name": "stdout",
     "output_type": "stream",
     "text": [
      "(1, 16.200000000000003, 39.3, 23.099999999999994)\n",
      "(2, 48.2, 46.1, -2.1000000000000014)\n",
      "(3, 44.4, 65.4, 21.000000000000007)\n",
      "(4, 64.49999999999999, 46.400000000000006, -18.09999999999998)\n",
      "(5, 7.699999999999999, 97.39999999999999, 89.69999999999999)\n",
      "(6, 80.0, 55.8, -24.200000000000003)\n",
      "(7, 75.2, 35.8, -39.400000000000006)\n",
      "(8, 30.400000000000002, 67.2, 36.8)\n",
      "(9, 28.7, 48.5, 19.8)\n",
      "(10, 36.39999999999999, 70.2, 33.80000000000001)\n",
      "(11, 34.8, 13.9, -20.9)\n",
      "(12, 68.10000000000001, 9.5, -58.60000000000001)\n"
     ]
    }
   ],
   "source": [
    "# read all the lines of the file\n",
    "f = open('Budget.txt','r')\n",
    "b = f.readlines()\n",
    "f.close()\n",
    "\n",
    "\n",
    "# process the lines and compose the list of tuples\n",
    "budget = []\n",
    "# i is used to scroll the index of the list b\n",
    "i = 0\n",
    "# repeat for every month\n",
    "Rm = range(1,13)\n",
    "for m in Rm:\n",
    "    # register this month\n",
    "    month = int(b[i])\n",
    "    i += 1\n",
    "    # register num of expenses\n",
    "    N = int(b[i])\n",
    "    i += 1\n",
    "    RN = range(1,N+1)\n",
    "    # sum all the expenses\n",
    "    Ex = 0\n",
    "    for n in RN:\n",
    "        Ex += float(b[i])\n",
    "        i += 1\n",
    "    # register num of incomes\n",
    "    N = int(b[i])\n",
    "    i += 1\n",
    "    RN = range(1,N+1)\n",
    "    # sum all the incomes\n",
    "    In = 0\n",
    "    for n in RN:\n",
    "        In += float(b[i]) \n",
    "        i += 1\n",
    "    # store in a tuple, with savings for this month\n",
    "    budget += [(month,Ex,In,In-Ex)]\n",
    "\n",
    "# print list and save savings in file\n",
    "f = open('Savings.txt','w')\n",
    "for item in budget:\n",
    "    print(item)\n",
    "    f.write(str(item[3])[:5]+'\\n')\n",
    "f.close()\n"
   ]
  },
  {
   "cell_type": "markdown",
   "metadata": {},
   "source": [
    "# Exercise 8"
   ]
  },
  {
   "cell_type": "code",
   "execution_count": null,
   "metadata": {},
   "outputs": [],
   "source": [
    "import math as mt\n",
    "import matplotlib.pyplot as pl\n",
    "\n",
    "# set the number of points\n",
    "N = 10000\n",
    "# set the parameters\n",
    "a = 0.4\n",
    "b = 1.3\n",
    "c = 0.9\n",
    "# first point\n",
    "x = [0];\n",
    "y = [2];\n",
    "\n",
    "# calculate any subsequent point\n",
    "Rn = range(1,N)\n",
    "for i in Rn:\n",
    "    # establish the value of k\n",
    "    if x[i-1]<0:\n",
    "        k = -1\n",
    "    elif x[i-1] == 0:\n",
    "        k = 0\n",
    "    else:\n",
    "        k = 1\n",
    "    # evaluate x and y at this iteration i\n",
    "    x += [y[i-1] - k*abs(b*x[i-1]-c)**0.5]\n",
    "    y += [a - x[i-1]];\n",
    "\n",
    "# plot all the points\n",
    "pl.scatter(x,y,s=2,c='b')"
   ]
  },
  {
   "cell_type": "code",
   "execution_count": null,
   "metadata": {},
   "outputs": [],
   "source": [
    "# bonus task\n",
    "# extract the odd and even points\n",
    "# slice x and y in steps of 2\n",
    "# starting from 0 for the even points\n",
    "xeven = x[0:N+1:2]\n",
    "yeven = y[0:N+1:2]\n",
    "# starting from 1 for the even points\n",
    "xodd = x[1:N+1:2]\n",
    "yodd = y[1:N+1:2]\n",
    "#\n",
    "pl.scatter(xodd,yodd,s=2,c='r')\n",
    "pl.scatter(xeven,yeven,s=2,c='b')"
   ]
  },
  {
   "cell_type": "code",
   "execution_count": null,
   "metadata": {},
   "outputs": [],
   "source": []
  }
 ],
 "metadata": {
  "kernelspec": {
   "display_name": "Python 3",
   "language": "python",
   "name": "python3"
  },
  "language_info": {
   "codemirror_mode": {
    "name": "ipython",
    "version": 3
   },
   "file_extension": ".py",
   "mimetype": "text/x-python",
   "name": "python",
   "nbconvert_exporter": "python",
   "pygments_lexer": "ipython3",
   "version": "3.7.4"
  }
 },
 "nbformat": 4,
 "nbformat_minor": 2
}
