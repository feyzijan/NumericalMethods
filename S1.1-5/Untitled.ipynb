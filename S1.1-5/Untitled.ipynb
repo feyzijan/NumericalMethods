{
 "cells": [
  {
   "cell_type": "code",
   "execution_count": 6,
   "metadata": {},
   "outputs": [
    {
     "name": "stdout",
     "output_type": "stream",
     "text": [
      "Give me N3\n"
     ]
    },
    {
     "data": {
      "text/plain": [
       "<matplotlib.collections.PathCollection at 0x2c04e31d808>"
      ]
     },
     "execution_count": 6,
     "metadata": {},
     "output_type": "execute_result"
    },
    {
     "data": {
      "image/png": "[encoded data removed]",
      "text/plain": [
       "<Figure size 432x288 with 1 Axes>"
      ]
     },
     "metadata": {
      "needs_background": "light"
     },
     "output_type": "display_data"
    }
   ],
   "source": [
    "import math as mt\n",
    "import matplotlib.pyplot as pl\n",
    "\n",
    "# Task 1: Expand sinx where 0<x<2p with taylor series with step 0.01 for a given N\n",
    "\n",
    "\n",
    "N = int(input('Give me N'))\n",
    "\n",
    "dx = 0.01\n",
    "xp= []\n",
    "yp= []\n",
    "x = 0\n",
    "y = 0\n",
    "\n",
    "Rn = range(1,N,2)\n",
    "\n",
    "while x <= (mt.pi)*2:\n",
    "    for i in Rn:\n",
    "        y = (((-1)**int(i/2))*(x**i)/(mt.factorial(i)))\n",
    "        xp = xp +[x]\n",
    "        yp = yp + [y]\n",
    "    x = x + dx\n",
    "\n",
    "\n",
    "pl.scatter(xp,yp,s=2, c = Col[N//4])\n",
    "\n",
    "\n"
   ]
  },
  {
   "cell_type": "code",
   "execution_count": 3,
   "metadata": {},
   "outputs": [
    {
     "data": {
      "image/png": "[encoded data removed]",
      "text/plain": [
       "<Figure size 432x288 with 1 Axes>"
      ]
     },
     "metadata": {
      "needs_background": "light"
     },
     "output_type": "display_data"
    }
   ],
   "source": [
    "import matplotlib.pyplot as pl\n",
    "\n",
    "Col = ['Red' , 'Blue' , 'Green' , 'Cyan']\n",
    "dx = 0.01\n",
    "RN = range(2,15,4)\n",
    "\n",
    "# Iterate for every N\n",
    "for N in RN:\n",
    "    # that is for N = 2,6,10,14\n",
    "    # etting the range of i , from 0 to N\n",
    "\n",
    "    Ri = range (0,N+1)\n",
    "\n",
    "    x =[]\n",
    "    y =[]\n",
    "    # Traverse the range of x\n",
    "    xc = -0.8\n",
    "    while xc <= -0.08:\n",
    "        # itereate until you reach the upper boundary of x\n",
    "        #evaluate y for current x\n",
    "        # initalise the sum\n",
    "        yc = 0\n",
    "        for i in Ri:\n",
    "            yc = yc + xc**i\n",
    "\n",
    "        # store the current evaluated x and y values\n",
    "        x = x + [xc]\n",
    "        y = y + [yc]\n",
    "\n",
    "        # update the value of x\n",
    "        xc = xc + dx\n",
    "\n",
    "        pl.scatter(x,y,s=2, c = Col[N//4])"
   ]
  },
  {
   "cell_type": "code",
   "execution_count": null,
   "metadata": {},
   "outputs": [],
   "source": []
  }
 ],
 "metadata": {
  "kernelspec": {
   "display_name": "Python 3",
   "language": "python",
   "name": "python3"
  },
  "language_info": {
   "codemirror_mode": {
    "name": "ipython",
    "version": 3
   },
   "file_extension": ".py",
   "mimetype": "text/x-python",
   "name": "python",
   "nbconvert_exporter": "python",
   "pygments_lexer": "ipython3",
   "version": "3.7.4"
  }
 },
 "nbformat": 4,
 "nbformat_minor": 2
}
