{
 "cells": [
  {
   "cell_type": "markdown",
   "metadata": {},
   "source": [
    "Includes Bisection and Newton-Rhapson root finding methods "
   ]
  },
  {
   "cell_type": "code",
   "execution_count": 2,
   "metadata": {},
   "outputs": [],
   "source": [
    "import numpy as np\n",
    "import math as mt\n",
    "import matplotlib.pyplot as pl\n",
    "from mpl_toolkits import mplot3d\n",
    "import random as rn"
   ]
  },
  {
   "cell_type": "markdown",
   "metadata": {},
   "source": [
    "## Bisection method\n",
    "- Given interval [a,b], and a specified accuracy epsilon, determines root of the equation f(x) = 0"
   ]
  },
  {
   "cell_type": "code",
   "execution_count": 1,
   "metadata": {},
   "outputs": [],
   "source": [
    "# Change this to whatever function you wish to use\n",
    "def func(x):\n",
    "    y = x**2 + (x-2)**3 - 4\n",
    "    return y"
   ]
  },
  {
   "cell_type": "code",
   "execution_count": 3,
   "metadata": {},
   "outputs": [],
   "source": [
    "def mybisection(a,b,eps):\n",
    "    iterno = 0\n",
    "    \n",
    "    while abs(a-b)>eps: # while difference smaller than error\n",
    "        iterno +=1\n",
    "    \n",
    "        xm = (a + b) / 2 # midpoint\n",
    "        print(\"At x = {} y = {}\".format(a,func(a)))\n",
    "        print(\"At x = {} y = {}\".format(xm,func(xm)))\n",
    "        print(\"At x = {} y = {}\".format(b,func(b)))\n",
    "    \n",
    "    # establish in which subinterval the solution lies\n",
    "        # compute f(a) * f(xm)\n",
    "        ff = func(a) * func(xm)\n",
    "        if ff < 0: \n",
    "            # the solution lies in the left interval -  make xm the upper bracket\n",
    "            print(\"Solution is in left interval\")\n",
    "            b = xm\n",
    "        else:\n",
    "            # the solution lies in the right interval -  make xm the lower bracket\n",
    "            print(\"Solution is in right interval\")\n",
    "            a = xm\n",
    "        print(\"-----------------\")\n",
    "            \n",
    "    # the true solution is bracketed within the latest interval [a,b]\n",
    "    # we can approximate it with the midpoint\n",
    "    sol = (a + b) / 2\n",
    "    \n",
    "    return sol"
   ]
  },
  {
   "cell_type": "markdown",
   "metadata": {},
   "source": [
    "##### Run Bisection method with custom params"
   ]
  },
  {
   "cell_type": "code",
   "execution_count": 4,
   "metadata": {},
   "outputs": [
    {
     "name": "stdout",
     "output_type": "stream",
     "text": [
      "At x = -4 y = -204\n",
      "At x = 2.0 y = 0.0\n",
      "At x = 8 y = 276\n",
      "Solution is in right interval\n",
      "-----------------\n",
      "At x = 2.0 y = 0.0\n",
      "At x = 5.0 y = 48.0\n",
      "At x = 8 y = 276\n",
      "Solution is in right interval\n",
      "-----------------\n",
      "At x = 5.0 y = 48.0\n",
      "At x = 6.5 y = 129.375\n",
      "At x = 8 y = 276\n",
      "Solution is in right interval\n",
      "-----------------\n",
      "At x = 6.5 y = 129.375\n",
      "At x = 7.25 y = 193.265625\n",
      "At x = 8 y = 276\n",
      "Solution is in right interval\n",
      "-----------------\n",
      "At x = 7.25 y = 193.265625\n",
      "At x = 7.625 y = 232.119140625\n",
      "At x = 8 y = 276\n",
      "Solution is in right interval\n",
      "-----------------\n",
      "At x = 7.625 y = 232.119140625\n",
      "At x = 7.8125 y = 253.411376953125\n",
      "At x = 8 y = 276\n",
      "Solution is in right interval\n",
      "-----------------\n",
      "At x = 7.8125 y = 253.411376953125\n",
      "At x = 7.90625 y = 264.5411682128906\n",
      "At x = 8 y = 276\n",
      "Solution is in right interval\n",
      "-----------------\n",
      "solution is 7.953125\n"
     ]
    },
    {
     "data": {
      "image/png": "[encoded data removed]",
      "text/plain": [
       "<Figure size 640x480 with 1 Axes>"
      ]
     },
     "metadata": {},
     "output_type": "display_data"
    }
   ],
   "source": [
    "# Change x range\n",
    "x = np.linspace(-5,10,100)\n",
    "y = func(x)\n",
    "pl.plot(x,y)\n",
    "pl.grid()\n",
    "\n",
    "# Change starting parameters\n",
    "xl = -4\n",
    "xu = 8\n",
    "error = 0.1\n",
    "\n",
    "\n",
    "sol = mybisection(xl,xu,error)\n",
    "print(\"solution is {}\".format(sol))"
   ]
  },
  {
   "cell_type": "markdown",
   "metadata": {},
   "source": [
    "## 2.Bisection method with discrete function\n",
    "- When f(x) is available in a discrete form use Lagrangian interpolation to find the root"
   ]
  },
  {
   "cell_type": "code",
   "execution_count": 5,
   "metadata": {},
   "outputs": [],
   "source": [
    "def Lagrangian(j,xn,xp):\n",
    "    n = len(xn) # number of nodes - so order of poly. is n-1\n",
    "    \n",
    "    L = 1 # intial value of polynomial\n",
    "    \n",
    "    for k in range(0,n):\n",
    "        if k != j:\n",
    "            L *= (xp-xn[k]) / (xn[j]-xn[k])\n",
    "    return L"
   ]
  },
  {
   "cell_type": "code",
   "execution_count": 8,
   "metadata": {},
   "outputs": [],
   "source": [
    "# evaluate f(x) at xp by knowing the points xn, yn\n",
    "        \n",
    "def funcint(xp,xn,yn):\n",
    "    n = len(xn) - 1\n",
    "    yp = 0\n",
    "    # use Langrangian polynomial up to n, included\n",
    "    for j in range(0,n+1):\n",
    "        yp += yn[j] * Lagrangian(j,xn,xp)\n",
    "    return yp"
   ]
  },
  {
   "cell_type": "code",
   "execution_count": 9,
   "metadata": {},
   "outputs": [],
   "source": [
    "def mydiscretebisection(a,b,eps,xn,yn):\n",
    "    iterno = 0\n",
    "    \n",
    "    while abs(a-b)>eps: # while difference smaller than error\n",
    "        iterno +=1\n",
    "    \n",
    "        xm = (a + b) / 2 # midpoint\n",
    "        print(\"Iteration no {}\".format(iterno))\n",
    "        print(\"At x = {} y = {}\".format(a,func(a)))\n",
    "        print(\"At x = {} y = {}\".format(xm,func(xm)))\n",
    "        print(\"At x = {} y = {}\".format(b,func(b)))\n",
    "    \n",
    "    # establish in which subinterval the solution lies\n",
    "        # compute f(a) * f(xm)\n",
    "        ff = funcint(a,xn,yn) * funcint(xm,xn,yn)\n",
    "        if ff < 0: \n",
    "            # the solution lies in the left interval -  make xm the upper bracket\n",
    "            print(\"Solution is in left interval\")\n",
    "            b = xm\n",
    "        else:\n",
    "            # the solution lies in the right interval -  make xm the lower bracket\n",
    "            print(\"Solution is in right interval\")\n",
    "            a = xm\n",
    "        print(\"-----------------\")\n",
    "            \n",
    "    # the true solution is bracketed within the latest interval [a,b]\n",
    "    # we can approximate it with the midpoint\n",
    "    sol = (a + b) / 2\n",
    "    \n",
    "    return sol"
   ]
  },
  {
   "cell_type": "markdown",
   "metadata": {},
   "source": [
    "##### Test function"
   ]
  },
  {
   "cell_type": "code",
   "execution_count": null,
   "metadata": {},
   "outputs": [],
   "source": []
  },
  {
   "cell_type": "code",
   "execution_count": 11,
   "metadata": {},
   "outputs": [
    {
     "name": "stdout",
     "output_type": "stream",
     "text": [
      "Iteration no 1\n",
      "At x = -5 y = -322\n",
      "At x = 1.5 y = -1.875\n",
      "At x = 8 y = 276\n",
      "Solution is in right interval\n",
      "-----------------\n",
      "Iteration no 2\n",
      "At x = 1.5 y = -1.875\n",
      "At x = 4.75 y = 39.359375\n",
      "At x = 8 y = 276\n",
      "Solution is in left interval\n",
      "-----------------\n",
      "Iteration no 3\n",
      "At x = 1.5 y = -1.875\n",
      "At x = 3.125 y = 7.189453125\n",
      "At x = 4.75 y = 39.359375\n",
      "Solution is in left interval\n",
      "-----------------\n",
      "Iteration no 4\n",
      "At x = 1.5 y = -1.875\n",
      "At x = 2.3125 y = 1.378173828125\n",
      "At x = 3.125 y = 7.189453125\n",
      "Solution is in left interval\n",
      "-----------------\n",
      "Iteration no 5\n",
      "At x = 1.5 y = -1.875\n",
      "At x = 1.90625 y = -0.367034912109375\n",
      "At x = 2.3125 y = 1.378173828125\n",
      "Solution is in right interval\n",
      "-----------------\n",
      "Iteration no 6\n",
      "At x = 1.90625 y = -0.367034912109375\n",
      "At x = 2.109375 y = 0.4507713317871094\n",
      "At x = 2.3125 y = 1.378173828125\n",
      "Solution is in left interval\n",
      "-----------------\n",
      "Iteration no 7\n",
      "At x = 1.90625 y = -0.367034912109375\n",
      "At x = 2.0078125 y = 0.0313115119934082\n",
      "At x = 2.109375 y = 0.4507713317871094\n",
      "Solution is in left interval\n",
      "-----------------\n",
      "Iteration no 8\n",
      "At x = 1.90625 y = -0.367034912109375\n",
      "At x = 1.95703125 y = -0.17010802030563354\n",
      "At x = 2.0078125 y = 0.0313115119934082\n",
      "Solution is in right interval\n",
      "-----------------\n",
      "Iteration no 9\n",
      "At x = 1.95703125 y = -0.17010802030563354\n",
      "At x = 1.982421875 y = -0.07000894099473953\n",
      "At x = 2.0078125 y = 0.0313115119934082\n",
      "Solution is in right interval\n",
      "-----------------\n",
      "Iteration no 10\n",
      "At x = 1.982421875 y = -0.07000894099473953\n",
      "At x = 1.9951171875 y = -0.01950752455741167\n",
      "At x = 2.0078125 y = 0.0313115119934082\n",
      "Solution is in right interval\n",
      "-----------------\n",
      "Iteration no 11\n",
      "At x = 1.9951171875 y = -0.01950752455741167\n",
      "At x = 2.00146484375 y = 0.005861523910425603\n",
      "At x = 2.0078125 y = 0.0313115119934082\n",
      "Solution is in left interval\n",
      "-----------------\n",
      "Iteration no 12\n",
      "At x = 1.9951171875 y = -0.01950752455741167\n",
      "At x = 1.998291015625 y = -0.006833021863712929\n",
      "At x = 2.00146484375 y = 0.005861523910425603\n",
      "Solution is in right interval\n",
      "-----------------\n",
      "Iteration no 13\n",
      "At x = 1.998291015625 y = -0.006833021863712929\n",
      "At x = 1.9998779296875 y = -0.00048826635065779556\n",
      "At x = 2.00146484375 y = 0.005861523910425603\n",
      "Solution is in right interval\n",
      "-----------------\n",
      "Iteration no 14\n",
      "At x = 1.9998779296875 y = -0.00048826635065779556\n",
      "At x = 2.00067138671875 y = 0.002685997937760476\n",
      "At x = 2.00146484375 y = 0.005861523910425603\n",
      "Solution is in left interval\n",
      "-----------------\n",
      "2.000274658203125\n"
     ]
    },
    {
     "data": {
      "image/png": "[encoded data removed]",
      "text/plain": [
       "<Figure size 640x480 with 1 Axes>"
      ]
     },
     "metadata": {},
     "output_type": "display_data"
    }
   ],
   "source": [
    "# read the files\n",
    "f = open('x.txt','r')\n",
    "v = f.readlines()\n",
    "xn = np.ndarray(len(v))\n",
    "i = 0\n",
    "for value in v:\n",
    "    xn[i] = float(v[i])\n",
    "    i += 1\n",
    "f.close()\n",
    "f = open('fx.txt','r')\n",
    "v = f.readlines()\n",
    "yn = np.ndarray(len(v))\n",
    "i = 0\n",
    "for value in v:\n",
    "    yn[i] = float(v[i])\n",
    "    i += 1\n",
    "f.close()\n",
    "# plot the values\n",
    "\n",
    "\n",
    "\n",
    "pl.scatter(xn,yn)\n",
    "pl.grid()\n",
    "\n",
    "\n",
    "sol = mydiscretebisection(-5,8,0.001,xn,yn)\n",
    "print(sol)\n"
   ]
  },
  {
   "cell_type": "code",
   "execution_count": 12,
   "metadata": {},
   "outputs": [],
   "source": [
    "# interim: making the set of values for Task B\n",
    "x = np.linspace(-10,10,5)\n",
    "y = x**2 + (x-2)**3 - 4\n",
    "\n",
    "f = open('x.txt','w')\n",
    "for value in x:\n",
    "    f.write(str(value)+'\\n')\n",
    "f.close()\n",
    "f = open('fx.txt','w')\n",
    "for value in y:\n",
    "    f.write(str(value)+'\\n')\n",
    "f.close()"
   ]
  },
  {
   "cell_type": "markdown",
   "metadata": {},
   "source": [
    " ## 3.Newton-Raphson method "
   ]
  },
  {
   "cell_type": "code",
   "execution_count": 9,
   "metadata": {},
   "outputs": [],
   "source": [
    "def func(x):\n",
    "    y = x**2 + (x-2)**3 - 4\n",
    "    return y\n",
    "\n",
    "# Newton-Raphson method\n",
    "def myNewton(x0,eps,dx):\n",
    "    xn = x0\n",
    "    xp = 10 * xn\n",
    "    iterno = 0\n",
    "    while abs(xn-xp)>eps:\n",
    "        iterno +=1\n",
    "        print(\"Iteration no {}\".format(iterno))\n",
    "        xp = xn\n",
    "        fxn = func(xn)\n",
    "        fxndx = func(xn+dx)\n",
    "        dfxn = (fxndx - fxn)/dx\n",
    "        xn = xp - fxn/dfxn\n",
    "        print(\"Xp = {}, fx = {}, dfx = {} \".format(xp,fxn,dfxn))\n",
    "        print(\"new point xn = {}\".format(xn))\n",
    "        print(\"-----------------\")\n",
    "        \n",
    "    return xn\n",
    "\n"
   ]
  },
  {
   "cell_type": "code",
   "execution_count": 32,
   "metadata": {},
   "outputs": [
    {
     "name": "stdout",
     "output_type": "stream",
     "text": [
      "Iteration no 1\n",
      "Xp = 1, fx = -4, dfx = 4.810000000000003 \n",
      "new point xn = 1.8316008316008312\n",
      "-----------------\n",
      "Iteration no 2\n",
      "Xp = 1.8316008316008312, fx = -0.6500139044344868, dfx = 3.807756752434508 \n",
      "new point xn = 2.0023086647676682\n",
      "-----------------\n",
      "Iteration no 3\n",
      "Xp = 2.0023086647676682, fx = 0.009240001308711498, dfx = 4.115325918764663 \n",
      "new point xn = 2.000063398781181\n",
      "-----------------\n",
      "2.000063398781181\n"
     ]
    }
   ],
   "source": [
    "xi = 1\n",
    "e = 0.01\n",
    "dx = 0.1\n",
    "\n",
    "sol = myNewton(xi,e,dx)\n",
    "print(sol)"
   ]
  },
  {
   "cell_type": "markdown",
   "metadata": {},
   "source": [
    "# Task D Newton Rhapson Non Linear Eqn"
   ]
  },
  {
   "cell_type": "code",
   "execution_count": 55,
   "metadata": {},
   "outputs": [],
   "source": [
    "#DEFINE functions\n",
    "u = lambda x,y: x**2 +1 -y\n",
    "v = lambda x,y: 2* mt.cos(x) - y"
   ]
  },
  {
   "cell_type": "code",
   "execution_count": 60,
   "metadata": {},
   "outputs": [],
   "source": [
    "#DEFINE derivatives\n",
    "dux = lambda x,y: 9\n",
    "duy = lambda x,y: 1\n",
    "\n",
    "dvx = lambda x,y: 1\n",
    "dvy = lambda x,y: 1"
   ]
  },
  {
   "cell_type": "code",
   "execution_count": 61,
   "metadata": {},
   "outputs": [],
   "source": [
    "#DEFINE starting points\n",
    "xn0 = 1\n",
    "yn0 = 5\n",
    "e = 0.1"
   ]
  },
  {
   "cell_type": "code",
   "execution_count": 64,
   "metadata": {},
   "outputs": [],
   "source": [
    "def newtoneqn(xn0,yn0,e):\n",
    "    \n",
    "    iterno = 0\n",
    "    condition = True\n",
    "    \n",
    "    while (condition):\n",
    "        iterno += 1\n",
    "        \n",
    "        xn1 = xn0 - (dvy(xn0,yn0) * u(xn0,yn0) - duy(xn0,yn0) * v(xn0,yn0)) / ( (dux(xn0,yn0)*dvy(xn0,yn0)) - (duy(xn0,yn0) * dvx(xn0,yn0)))\n",
    "        yn1 = yn0 - (-dvx(xn0,yn0) * u(xn0,yn0) + dux(xn0,yn0) * v(xn0,yn0)) / ( (dux(xn0,yn0)*dvy(xn0,yn0)) - (duy(xn0,yn0) * dvx(xn0,yn0)))\n",
    "        \n",
    "        condition = ((abs(xn1-xn0) >= e) and  (abs(yn1-yn0) > e))\n",
    "        print(\"Iteration : {} x = {}, y = {} \".format(iterno,xn1,yn1))\n",
    "        xn0 = xn1\n",
    "        yn0 = yn1\n"
   ]
  },
  {
   "cell_type": "code",
   "execution_count": 65,
   "metadata": {},
   "outputs": [
    {
     "name": "stdout",
     "output_type": "stream",
     "text": [
      "Iteration : 1 x = 0.8850755764670349, y = 9.034319811796685 \n",
      "Iteration : 2 x = 0.8204634819395646, y = 16.866789698282147 \n"
     ]
    }
   ],
   "source": [
    "newtoneqn(xn0,yn0,e)"
   ]
  }
 ],
 "metadata": {
  "kernelspec": {
   "display_name": "Python 3.8.13 ('base')",
   "language": "python",
   "name": "python3"
  },
  "language_info": {
   "codemirror_mode": {
    "name": "ipython",
    "version": 3
   },
   "file_extension": ".py",
   "mimetype": "text/x-python",
   "name": "python",
   "nbconvert_exporter": "python",
   "pygments_lexer": "ipython3",
   "version": "3.8.13"
  },
  "vscode": {
   "interpreter": {
    "hash": "ad2bdc8ecc057115af97d19610ffacc2b4e99fae6737bb82f5d7fb13d2f2c186"
   }
  }
 },
 "nbformat": 4,
 "nbformat_minor": 4
}
