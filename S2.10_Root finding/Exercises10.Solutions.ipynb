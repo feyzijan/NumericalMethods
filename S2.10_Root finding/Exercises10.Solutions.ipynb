{
 "cells": [
  {
   "cell_type": "code",
   "execution_count": 1,
   "metadata": {},
   "outputs": [],
   "source": [
    "import numpy as np\n",
    "import math as mt\n",
    "import matplotlib.pyplot as pl\n",
    "from mpl_toolkits import mplot3d\n",
    "import random as rn"
   ]
  },
  {
   "cell_type": "markdown",
   "metadata": {},
   "source": [
    "# Task A"
   ]
  },
  {
   "cell_type": "code",
   "execution_count": 14,
   "metadata": {},
   "outputs": [],
   "source": [
    "def func(x):\n",
    "    y = x**2 + (x-2)**3 - 4\n",
    "    return y"
   ]
  },
  {
   "cell_type": "code",
   "execution_count": null,
   "metadata": {},
   "outputs": [],
   "source": [
    "def mybisection(a,b,eps):\n",
    "    # repeat the split of teh interval until the bracketing intervla becomes smaller than the accuracy\n",
    "    while abs(a-b)>eps:\n",
    "        # calculate the mid point\n",
    "        xm = (a + b) / 2\n",
    "        # establish in which subinterval the solution lies\n",
    "        # compute f(a) * f(xm)\n",
    "        ff = func(a) * func(xm)\n",
    "        if ff < 0: \n",
    "            # the solution lies in the left interval\n",
    "            # set the upper bracket as xm\n",
    "            b = xm\n",
    "        else:\n",
    "            # the solution lies in the right interval\n",
    "            # set the lower bracket as xm\n",
    "            a = xm\n",
    "            \n",
    "    # the true solution is bracketed within the latest interval [a,b]\n",
    "    # we can approximate it with the midpoint\n",
    "    sol = (a + b) / 2\n",
    "    \n",
    "    return sol"
   ]
  },
  {
   "cell_type": "code",
   "execution_count": null,
   "metadata": {},
   "outputs": [],
   "source": [
    "x = np.linspace(-5,10,100)\n",
    "y = x**2 + (x-2)**3 - 4\n",
    "pl.plot(x,y)\n",
    "pl.grid()\n",
    "\n",
    "\n",
    "sol = mybisection(-5,8,0.001)\n",
    "print(sol)"
   ]
  },
  {
   "cell_type": "markdown",
   "metadata": {},
   "source": [
    "# Task B"
   ]
  },
  {
   "cell_type": "code",
   "execution_count": 2,
   "metadata": {},
   "outputs": [],
   "source": [
    "# Langrangian polynomial\n",
    "# compute the Lagrangian polynomials j, given nodes xn at a given point xp\n",
    "def Lagrangian(j,xn,xp):\n",
    "    # establish the number of nodes\n",
    "    n = len(xn)\n",
    "    # the order of the polynomial will then be n-1\n",
    "    \n",
    "    # set the initial value of the polynomial to 1\n",
    "    L = 1\n",
    "    # range of k is from 0 to n-1 (the order of the polynomial)\n",
    "    for k in range(0,n):\n",
    "        # exclude the case k == j\n",
    "        if k != j:\n",
    "            L *= (xp-xn[k]) / (xn[j]-xn[k])\n",
    "    return L"
   ]
  },
  {
   "cell_type": "code",
   "execution_count": 3,
   "metadata": {},
   "outputs": [],
   "source": [
    "def funcint(xp,xn,yn):\n",
    "    # Lagrangian interpolation\n",
    "    # evaluate f(x) at xp by knowing the points xn, yn\n",
    "    n = len(xn) - 1\n",
    "    yp = 0\n",
    "    # use Langrangian polynomial up to n, included\n",
    "    for j in range(0,n+1):\n",
    "        yp += yn[j] * Lagrangian(j,xn,xp)\n",
    "    return yp"
   ]
  },
  {
   "cell_type": "code",
   "execution_count": 4,
   "metadata": {},
   "outputs": [],
   "source": [
    "def mybisectiondiscrete(a,b,eps,xn,yn):\n",
    "    # repeat the split of teh interval until the bracketing intervla becomes smaller than the accuracy\n",
    "    while abs(a-b)>eps:\n",
    "        # calculate the mid point\n",
    "        xm = (a + b) / 2\n",
    "        # establish in which subinterval the solution lies\n",
    "        # compute f(a) * f(xm)\n",
    "        ff = funcint(a,xn,yn) * funcint(xm,xn,yn)\n",
    "        if ff < 0: \n",
    "            # the solution lies in the left interval\n",
    "            # set the upper bracket as xm\n",
    "            b = xm\n",
    "        else:\n",
    "            # the solution lies in the right interval\n",
    "            # set the lower bracket as xm\n",
    "            a = xm\n",
    "            \n",
    "    # the true solution is bracketed within the latest interval [a,b]\n",
    "    # we can approximate it with the midpoint\n",
    "    sol = (a + b) / 2\n",
    "    \n",
    "    return sol"
   ]
  },
  {
   "cell_type": "code",
   "execution_count": 11,
   "metadata": {},
   "outputs": [
    {
     "name": "stdout",
     "output_type": "stream",
     "text": [
      "2.000274658203125\n"
     ]
    },
    {
     "data": {
      "image/png": "[encoded data removed]",
      "text/plain": [
       "<Figure size 432x288 with 1 Axes>"
      ]
     },
     "metadata": {
      "needs_background": "light"
     },
     "output_type": "display_data"
    }
   ],
   "source": [
    "# read the files\n",
    "f = open('x.txt','r')\n",
    "v = f.readlines()\n",
    "xn = np.ndarray(len(v))\n",
    "i = 0\n",
    "for value in v:\n",
    "    xn[i] = float(v[i])\n",
    "    i += 1\n",
    "f.close()\n",
    "f = open('fx.txt','r')\n",
    "v = f.readlines()\n",
    "yn = np.ndarray(len(v))\n",
    "i = 0\n",
    "for value in v:\n",
    "    yn[i] = float(v[i])\n",
    "    i += 1\n",
    "f.close()\n",
    "# plot the values\n",
    "pl.scatter(xn,yn)\n",
    "pl.grid()\n",
    "\n",
    "\n",
    "sol = mybisectiondiscrete(-5,8,0.001,xn,yn)\n",
    "print(sol)\n",
    "\n"
   ]
  },
  {
   "cell_type": "code",
   "execution_count": 9,
   "metadata": {},
   "outputs": [],
   "source": [
    "# interim: making the set of values for Task B\n",
    "x = np.linspace(-10,10,5)\n",
    "y = x**2 + (x-2)**3 - 4\n",
    "\n",
    "f = open('x.txt','w')\n",
    "for value in x:\n",
    "    f.write(str(value)+'\\n')\n",
    "f.close()\n",
    "f = open('fx.txt','w')\n",
    "for value in y:\n",
    "    f.write(str(value)+'\\n')\n",
    "f.close()"
   ]
  },
  {
   "cell_type": "markdown",
   "metadata": {},
   "source": [
    "# Task C: Newton Rhapson Method"
   ]
  },
  {
   "cell_type": "code",
   "execution_count": 21,
   "metadata": {},
   "outputs": [],
   "source": [
    "# Newton-Raphson method\n",
    "def myNewton(x0,eps):\n",
    "    dx = 0.1\n",
    "    xn = x0\n",
    "    xp = 10 * xn\n",
    "    while abs(xn-xp)>eps:\n",
    "        xp = xn\n",
    "        fxn = func(xn)\n",
    "        fxndx = func(xn+dx)\n",
    "        dfxn = (fxndx - fxn)/dx\n",
    "        xn = xp - fxn/dfxn\n",
    "    return xn\n",
    "\n",
    "\n"
   ]
  },
  {
   "cell_type": "code",
   "execution_count": 22,
   "metadata": {},
   "outputs": [
    {
     "name": "stdout",
     "output_type": "stream",
     "text": [
      "2.000063398781181\n"
     ]
    }
   ],
   "source": [
    "sol = myNewton(1,0.01)\n",
    "print(sol)"
   ]
  },
  {
   "cell_type": "markdown",
   "metadata": {},
   "source": [
    "# Task D Newton Rhapson Non Linear Eqn"
   ]
  },
  {
   "cell_type": "code",
   "execution_count": null,
   "metadata": {},
   "outputs": [],
   "source": [
    "#define functions\n",
    "u = lambda x,y: x**2 +1 -y\n",
    "v = lambda x,y: 2*math.cos(x) - y\n",
    "\n",
    "#define derivatives\n",
    "\n",
    "\n",
    "#starting points\n",
    "x = 1\n",
    "y = 5\n",
    "\n",
    "\n",
    "\n"
   ]
  }
 ],
 "metadata": {
  "kernelspec": {
   "display_name": "Python 3",
   "language": "python",
   "name": "python3"
  },
  "language_info": {
   "codemirror_mode": {
    "name": "ipython",
    "version": 3
   },
   "file_extension": ".py",
   "mimetype": "text/x-python",
   "name": "python",
   "nbconvert_exporter": "python",
   "pygments_lexer": "ipython3",
   "version": "3.8.3"
  }
 },
 "nbformat": 4,
 "nbformat_minor": 2
}
