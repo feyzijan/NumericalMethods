{
 "cells": [
  {
   "cell_type": "code",
   "execution_count": 54,
   "metadata": {},
   "outputs": [],
   "source": [
    "import matplotlib.pyplot as pl\n",
    "import numpy as np\n",
    "import math "
   ]
  },
  {
   "cell_type": "code",
   "execution_count": 29,
   "metadata": {},
   "outputs": [],
   "source": [
    "##ysol = lambda t: 1- t**2 + math.exp(-(t**2)) \n",
    "##Implement a Forward Euler Scheme\n",
    "\n",
    "def FwEuler(t0,y0,h,tf):\n",
    "    f1 = lambda y,t: (-2*y*t -2*(t**3)) \n",
    "\n",
    "    ylist = []\n",
    "    tlist = []\n",
    "    condition = True\n",
    "    while condition:\n",
    "        ylist = ylist + [round(y0,3)]\n",
    "        tlist = tlist +[round(t0,3)]\n",
    "        \n",
    "        x = f1(y0,t0)\n",
    "        y1 = y0 + h*x\n",
    "        \n",
    "        y0 = y1\n",
    "        t0 += h\n",
    "        \n",
    "        condition = t0 < tf\n",
    "        \n",
    "    print(\"y:\")\n",
    "    print(ylist)\n",
    "    print(\"t\")\n",
    "    print(tlist)\n",
    "        \n",
    "    \n",
    "    "
   ]
  },
  {
   "cell_type": "code",
   "execution_count": 31,
   "metadata": {
    "scrolled": true
   },
   "outputs": [
    {
     "name": "stdout",
     "output_type": "stream",
     "text": [
      "y:\n",
      "[10, 10.0, 9.8, 9.406, 8.836, 8.117, 7.28, 6.363, 5.404, 4.437, 3.492]\n",
      "t\n",
      "[0, 0.1, 0.2, 0.3, 0.4, 0.5, 0.6, 0.7, 0.8, 0.9, 1.0]\n"
     ]
    }
   ],
   "source": [
    "FwEuler(0,10,0.1,1)\n"
   ]
  },
  {
   "cell_type": "code",
   "execution_count": 38,
   "metadata": {},
   "outputs": [],
   "source": [
    "## RK4 Method\n",
    "\n",
    "def RK4(t0,y0,h,tf):\n",
    "    f1 = lambda y,t: (-2*y*t -2*(t**3)) \n",
    "    \n",
    "    ylist = []\n",
    "    tlist = []\n",
    "    \n",
    "    condition = True\n",
    "    while condition:\n",
    "        ylist = ylist + [round(y0,3)]\n",
    "        tlist = tlist +[round(t0,3)]\n",
    "        \n",
    "        k1 = h*f1(y0,t0)\n",
    "        k2 = h*f1((y0+k1),(t0+h))\n",
    "        k3 = h*f1((y0+k2/2),(t0+h/2))\n",
    "        k4 = h*f1((y0+k3),(t0+h))\n",
    "        \n",
    "        y1 = y0 + (k1 + 2*(k2) + 2*(k3) + k4)\n",
    "        \n",
    "        y0 = y1\n",
    "        t0 += h\n",
    "        \n",
    "        condition = t0 < tf\n",
    "        \n",
    "    print(\"y:\")\n",
    "    print(ylist)\n",
    "    print(\"t\")\n",
    "    print(tlist)\n",
    "        \n",
    "        \n",
    "        \n",
    "        \n",
    "        \n",
    "        \n",
    "    \n",
    "\n",
    "\n"
   ]
  },
  {
   "cell_type": "code",
   "execution_count": 39,
   "metadata": {},
   "outputs": [
    {
     "name": "stdout",
     "output_type": "stream",
     "text": [
      "y:\n",
      "[10, 9.203, 7.393, 5.082, 2.89, 1.249, 0.253, -0.264, -0.541, -0.745, -0.951]\n",
      "t\n",
      "[0, 0.1, 0.2, 0.3, 0.4, 0.5, 0.6, 0.7, 0.8, 0.9, 1.0]\n"
     ]
    }
   ],
   "source": [
    "RK4(0,10,0.1,1)\n"
   ]
  },
  {
   "cell_type": "markdown",
   "metadata": {},
   "source": [
    "## Backward Euler for THE SPECIFIC ODE"
   ]
  },
  {
   "cell_type": "code",
   "execution_count": 50,
   "metadata": {},
   "outputs": [],
   "source": [
    "def BwEuler(t0,y0,h,tf):\n",
    "    f1 = lambda y,t: (-2*y*t -2*(t**3)) \n",
    "    fs = lambda y,t: ((y-2*(t**3))/(1+2*t))\n",
    "\n",
    "    ylist = []\n",
    "    tlist = []\n",
    "    condition = True\n",
    "    while condition:\n",
    "        ylist = ylist + [round(y0,3)]\n",
    "        tlist = tlist +[round(t0,3)]\n",
    "        \n",
    "        t0 += h\n",
    "        y1 = fs(y0,t0)\n",
    "        \n",
    "        y0 = y1\n",
    "        \n",
    "        condition = t0 < tf\n",
    "        \n",
    "    print(\"y:\")\n",
    "    print(ylist)\n",
    "    print(\"t\")\n",
    "    print(tlist)"
   ]
  },
  {
   "cell_type": "code",
   "execution_count": 51,
   "metadata": {},
   "outputs": [
    {
     "name": "stdout",
     "output_type": "stream",
     "text": [
      "y:\n",
      "[10, 8.332, 5.94, 3.679, 1.973, 0.861, 0.195, -0.205, -0.473, -0.689, -0.896]\n",
      "t\n",
      "[0, 0.1, 0.2, 0.3, 0.4, 0.5, 0.6, 0.7, 0.8, 0.9, 1.0]\n"
     ]
    }
   ],
   "source": [
    "BwEuler(0,10,0.1,1)"
   ]
  },
  {
   "cell_type": "markdown",
   "metadata": {},
   "source": [
    "#Task C: System of ODEs, with explicit methods"
   ]
  },
  {
   "cell_type": "code",
   "execution_count": 83,
   "metadata": {},
   "outputs": [],
   "source": [
    "##Solved for the Predator prey problem\n",
    "def FwEulerTwo(Vector,t0,tf,h):\n",
    "    \n",
    "    f1 = lambda ya,yb,t: (-2*ya*yb -2*(t**3))\n",
    "    f2 = lambda ya,yb,t: (-2*yb*t -2*(t**2)) \n",
    "\n",
    "    ya0 = Vector[0][0]\n",
    "    yb0 = Vector[1][0]\n",
    "    print(type(ya0))\n",
    "                          \n",
    "    yalist = []\n",
    "    yblist = []\n",
    "    tlist = []\n",
    "                          \n",
    "    \n",
    "                \n",
    "    condition = True\n",
    "    while condition:\n",
    "        yalist = yalist + [round(ya0,3)]\n",
    "        yblist = yblist + [round(yb0,3)]\n",
    "        tlist = tlist +[round(t0,3)]\n",
    "        \n",
    "        \n",
    "        ya1 = ya0 + h * f1(ya0,yb0,t0)\n",
    "        yb1 = yb0 + h * f2(ya0,yb0,t0)\n",
    "                        \n",
    "        ya0 = ya1\n",
    "        yb0 = yb1\n",
    "        t0 += h\n",
    "        \n",
    "        condition = t0 < tf\n",
    "        \n",
    "    print(\"ya and yb\")\n",
    "    print(np.array((yalist,yblist)))\n",
    "    print(\"t\")\n",
    "    print(tlist)\n",
    "    \n",
    "    \n",
    "    "
   ]
  },
  {
   "cell_type": "code",
   "execution_count": 84,
   "metadata": {},
   "outputs": [
    {
     "name": "stdout",
     "output_type": "stream",
     "text": [
      "<class 'int'>\n",
      "ya and yb\n",
      "[[ 9.000e+00  9.000e-01  9.000e-02  9.000e-03  1.000e-03 -1.000e-03\n",
      "  -2.000e-03 -3.000e-03 -5.000e-03 -7.000e-03 -1.100e-02 -1.600e-02\n",
      "  -2.200e-02 -3.000e-02 -4.000e-02 -5.200e-02 -6.800e-02 -8.800e-02\n",
      "  -1.130e-01 -1.430e-01]\n",
      " [ 9.000e+00  9.000e+00  8.955e+00  8.864e+00  8.729e+00  8.550e+00\n",
      "   8.330e+00  8.071e+00  7.777e+00  7.450e+00  7.094e+00  6.714e+00\n",
      "   6.315e+00  5.900e+00  5.474e+00  5.042e+00  4.608e+00  4.175e+00\n",
      "   3.748e+00  3.330e+00]]\n",
      "t\n",
      "[0, 0.05, 0.1, 0.15, 0.2, 0.25, 0.3, 0.35, 0.4, 0.45, 0.5, 0.55, 0.6, 0.65, 0.7, 0.75, 0.8, 0.85, 0.9, 0.95]\n"
     ]
    }
   ],
   "source": [
    "Vector =[[9],[9]]\n",
    "\n",
    "FwEulerTwo(Vector,0,1,0.05)"
   ]
  },
  {
   "cell_type": "code",
   "execution_count": null,
   "metadata": {},
   "outputs": [],
   "source": []
  },
  {
   "cell_type": "code",
   "execution_count": null,
   "metadata": {},
   "outputs": [],
   "source": []
  }
 ],
 "metadata": {
  "kernelspec": {
   "display_name": "Python 3",
   "language": "python",
   "name": "python3"
  },
  "language_info": {
   "codemirror_mode": {
    "name": "ipython",
    "version": 3
   },
   "file_extension": ".py",
   "mimetype": "text/x-python",
   "name": "python",
   "nbconvert_exporter": "python",
   "pygments_lexer": "ipython3",
   "version": "3.7.6"
  }
 },
 "nbformat": 4,
 "nbformat_minor": 4
}
