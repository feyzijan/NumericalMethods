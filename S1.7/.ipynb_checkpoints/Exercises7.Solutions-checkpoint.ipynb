{
 "cells": [
  {
   "cell_type": "markdown",
   "metadata": {},
   "source": [
    "# Task 1"
   ]
  },
  {
   "cell_type": "code",
   "execution_count": null,
   "metadata": {},
   "outputs": [],
   "source": [
    "import matplotlib.pyplot as pl\n",
    "\n",
    "def Fibonacci(n):\n",
    "    if n == 1 or n == 2:\n",
    "        # exit condition\n",
    "        f = 1\n",
    "    else:\n",
    "        # recursive formula\n",
    "        f = Fibonacci(n-1) + Fibonacci(n-2)\n",
    "    return f\n",
    "\n",
    "# main\n",
    "N = 19\n",
    "for i in range(1,N+1):\n",
    "    f = Fibonacci(i)\n",
    "    print(f)\n"
   ]
  },
  {
   "cell_type": "markdown",
   "metadata": {},
   "source": [
    "# Task 2"
   ]
  },
  {
   "cell_type": "code",
   "execution_count": 1,
   "metadata": {},
   "outputs": [
    {
     "name": "stdout",
     "output_type": "stream",
     "text": [
      "[24, 67, 81]\n",
      "[10, 3, 28]\n",
      "[63, 55, 17]\n",
      "\n",
      "[24, 17, 81]\n",
      "[10, 3, 28]\n",
      "[63, 55, 67]\n",
      "\n",
      "[24, 17, 63]\n",
      "[10, 3, 28]\n",
      "[81, 55, 67]\n",
      "\n",
      "[24, 17, 63]\n",
      "[10, 52, 28]\n",
      "[81, 55, 67]\n",
      "\n",
      "52\n",
      "\n",
      "[3, 5, 7]\n",
      "[2, 4, 6]\n"
     ]
    }
   ],
   "source": [
    "# 1\n",
    "A = [[24,67,81],[10,3,28],[63,55,17]]\n",
    "for row in A:\n",
    "    print(row)\n",
    "# 2\n",
    "print('')\n",
    "(A[0][1], A[2][2]) = (A[2][2],A[0][1])\n",
    "for row in A:\n",
    "    print(row)\n",
    "# 2\n",
    "print('')\n",
    "(A[0][2], A[2][0]) = (A[2][0],A[0][2])\n",
    "for row in A:\n",
    "    print(row)  \n",
    "# 2\n",
    "print('')\n",
    "A[1][1] = A[0][0] + A[1][2]\n",
    "for row in A:\n",
    "    print(row)\n",
    "print('')\n",
    "print(A[1][1])\n",
    "# 3\n",
    "print('') \n",
    "B = [[3,5,7],[2,4,6]]\n",
    "for row in B:\n",
    "    print(row) "
   ]
  },
  {
   "cell_type": "markdown",
   "metadata": {},
   "source": [
    "# Task 3"
   ]
  },
  {
   "cell_type": "code",
   "execution_count": null,
   "metadata": {},
   "outputs": [],
   "source": [
    "N = int(input('N:  '))\n",
    "RN = range(0,N)\n",
    "A = [] # initialise the matrix as a list\n",
    "for i in RN:\n",
    "    # form i-th row\n",
    "    row = [] # initialise i-th row as a list\n",
    "    for j in RN:\n",
    "        # add j-th column into i-th row\n",
    "        if j == i or j == N-i-1:\n",
    "            row += [1]\n",
    "        else:\n",
    "            row += [0]\n",
    "    # add row i-th to the matrix A\n",
    "    A += [row]\n",
    "\n",
    "for row in A:\n",
    "    print(row) "
   ]
  },
  {
   "cell_type": "markdown",
   "metadata": {},
   "source": [
    "# Task 4"
   ]
  },
  {
   "cell_type": "code",
   "execution_count": null,
   "metadata": {},
   "outputs": [],
   "source": [
    "def ReadMatrix(filename,N):\n",
    "    # thsi function read data from a file called filename and\n",
    "    # put these in a matix of sixe N x N\n",
    "    # it does assume that the number of data/lien in the file is correct and equal to N*N\n",
    "    f = open(filename,'r')\n",
    "    # read all the lines in a temp list\n",
    "    temp = f.readlines()\n",
    "    f.close()\n",
    "    \n",
    "    # for the matrix NxN\n",
    "    RN = range(0,N)\n",
    "    Mat = [] # initialise the matrix\n",
    "    c = 0 # count the line scrolling in the temp list\n",
    "    for i in RN:\n",
    "        # form row i-th\n",
    "        row = [] # intialise row i-th\n",
    "        for j in RN:\n",
    "            # insert column j in row i\n",
    "            row += [int(temp[c].rstrip())]\n",
    "            c += 1 # increment the counter for the lines of temp, as we progress along\n",
    "        Mat += [row]\n",
    "    return Mat # IMPORTANT!!!!!!!!!!!!!!!!! Return the matrix to the main caller\n",
    "\n",
    "\n",
    "# main\n",
    "N = 60\n",
    "# read files and obtain associated matrix\n",
    "A = ReadMatrix('MatA.txt',N)\n",
    "B = ReadMatrix('MatB.txt',N)\n",
    "#for row in A:\n",
    "#    print(row)\n",
    "#print('')\n",
    "#for row in B:\n",
    "#    print(row) \n",
    "\n",
    "# compute C = A + B\n",
    "C = [] # initialise C\n",
    "RN = range(0,N)\n",
    "for i in RN:\n",
    "    # compute row i\n",
    "    row = [] # initialise row i\n",
    "    for j in RN:\n",
    "        # compute column j in row i\n",
    "        row += [A[i][j] + B[i][j]]\n",
    "    # add row i to matrix C\n",
    "    C += [row]\n",
    "print('')\n",
    "for row in C:\n",
    "    print(row)   \n"
   ]
  },
  {
   "cell_type": "code",
   "execution_count": null,
   "metadata": {},
   "outputs": [],
   "source": []
  },
  {
   "cell_type": "code",
   "execution_count": null,
   "metadata": {},
   "outputs": [],
   "source": []
  }
 ],
 "metadata": {
  "kernelspec": {
   "display_name": "Python 3",
   "language": "python",
   "name": "python3"
  },
  "language_info": {
   "codemirror_mode": {
    "name": "ipython",
    "version": 3
   },
   "file_extension": ".py",
   "mimetype": "text/x-python",
   "name": "python",
   "nbconvert_exporter": "python",
   "pygments_lexer": "ipython3",
   "version": "3.7.6"
  }
 },
 "nbformat": 4,
 "nbformat_minor": 2
}
