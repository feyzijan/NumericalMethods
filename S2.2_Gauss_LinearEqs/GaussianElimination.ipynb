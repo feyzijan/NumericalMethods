{
 "cells": [
  {
   "cell_type": "code",
   "execution_count": 3,
   "metadata": {},
   "outputs": [],
   "source": [
    "import numpy as np\n",
    "import matpltotlib.pypltot as pltt"
   ]
  },
  {
   "cell_type": "markdown",
   "metadata": {},
   "source": [
    "# Task A: Create Gaus Solver and test with given values\n",
    "![](2022-11-04-21-41-39.png)\n",
    "![](2022-11-04-21-41-52.png)"
   ]
  },
  {
   "cell_type": "code",
   "execution_count": 4,
   "metadata": {},
   "outputs": [
    {
     "data": {
      "text/plain": [
       "array([[ 9.],\n",
       "       [-7.],\n",
       "       [-1.],\n",
       "       [ 5.]])"
      ]
     },
     "execution_count": 4,
     "metadata": {},
     "output_type": "execute_result"
    }
   ],
   "source": [
    "A = np.array([[8, -2, 1, 3],\n",
    "    [1, -5, 2, 1],\n",
    "    [-1, 2, 7, 2],\n",
    "    [2, -1, 3, 8],])\n",
    "\n",
    "\n",
    "\n",
    "b = np.array([[9],\n",
    "    [-7],\n",
    "    [-1],\n",
    "    [5],])\n",
    "\n",
    "A.astype(float)\n",
    "b.astype(float)"
   ]
  },
  {
   "cell_type": "code",
   "execution_count": 5,
   "metadata": {},
   "outputs": [],
   "source": [
    "def MyGauss(Am, bv):\n",
    "    #get the dimension of the matrix\n",
    "    \n",
    "    \n",
    "    # convert the matrices to float typed matrices\n",
    "    A = np.copy(Am).astype(np.float32)\n",
    "    b = np.copy(bv).astype(np.float32)\n",
    "    n = len(A)\n",
    "    \n",
    "    print(A)\n",
    "    print(b)\n",
    "    \n",
    "    # use pivots to eliminate Xn from the other rows\n",
    "    for i in range(0, n-1):# i goes from first column to the column before the last\n",
    "        for j in range(i+1,n):\n",
    "            ratio = A[j,i]/A[i,i]\n",
    "            print(A[j,i], A[i,i])\n",
    "            A[j] = A[j] - (ratio * A[i])\n",
    "            b[j] = b[j] - (ratio * b[i])\n",
    "                                   \n",
    "    \n",
    "    print(\"\")\n",
    "    print(\"Final A:\") \n",
    "    print(A)\n",
    "    print(\"Final B\")\n",
    "    print(b)\n",
    "    \n",
    "    \n",
    "    x = np.zeros((n,1))\n",
    "    \n",
    "    for k in range(n-1,-1,-1): # say i start with k = 3 , i.e. 4th row\n",
    "        xv = b[k]/A[k,k] # xvalue = b[3]/A[3,3]\n",
    "        for l in range(k+1,n): # so 4 to 4\n",
    "            xv -= A[k,l]/A[k,k]* x[l] # subtract all upltter x values \n",
    "        x[k] = xv\n",
    "    \n",
    "    print(\"x values are: \")\n",
    "    print(x)\n",
    "    "
   ]
  },
  {
   "cell_type": "code",
   "execution_count": 6,
   "metadata": {},
   "outputs": [
    {
     "name": "stdout",
     "output_type": "stream",
     "text": [
      "[[ 8. -2.  1.  3.]\n",
      " [ 1. -5.  2.  1.]\n",
      " [-1.  2.  7.  2.]\n",
      " [ 2. -1.  3.  8.]]\n",
      "[[ 9.]\n",
      " [-7.]\n",
      " [-1.]\n",
      " [ 5.]]\n",
      "1.0 8.0\n",
      "-1.0 8.0\n",
      "2.0 8.0\n",
      "1.75 -4.75\n",
      "-0.5 -4.75\n",
      "2.5526316 7.815789\n",
      "\n",
      "Final A:\n",
      "[[ 8.        -2.         1.         3.       ]\n",
      " [ 0.        -4.75       1.875      0.625    ]\n",
      " [ 0.         0.         7.815789   2.6052632]\n",
      " [ 0.         0.         0.         6.333333 ]]\n",
      "Final B\n",
      "[[ 9.       ]\n",
      " [-8.125    ]\n",
      " [-2.868421 ]\n",
      " [ 4.5420876]]\n",
      "x values are: \n",
      "[[ 1.32323241]\n",
      " [ 1.56565666]\n",
      " [-0.60606062]\n",
      " [ 0.71717173]]\n"
     ]
    }
   ],
   "source": [
    "MyGauss(A, b)"
   ]
  },
  {
   "cell_type": "code",
   "execution_count": 7,
   "metadata": {},
   "outputs": [
    {
     "data": {
      "text/plain": [
       "dtype('int32')"
      ]
     },
     "execution_count": 7,
     "metadata": {},
     "output_type": "execute_result"
    }
   ],
   "source": [
    "A.astype(float)\n",
    "A.dtype"
   ]
  },
  {
   "cell_type": "code",
   "execution_count": 8,
   "metadata": {},
   "outputs": [
    {
     "data": {
      "text/plain": [
       "array([[ 8., -2.,  1.,  3.],\n",
       "       [ 1., -5.,  2.,  1.],\n",
       "       [-1.,  2.,  7.,  2.],\n",
       "       [ 2., -1.,  3.,  8.]], dtype=float32)"
      ]
     },
     "execution_count": 8,
     "metadata": {},
     "output_type": "execute_result"
    }
   ],
   "source": [
    "A.astype(np.float32)"
   ]
  },
  {
   "cell_type": "code",
   "execution_count": 9,
   "metadata": {},
   "outputs": [],
   "source": [
    "for l in range(0,0):\n",
    "    print(l)"
   ]
  },
  {
   "cell_type": "markdown",
   "metadata": {},
   "source": [
    "# Task 2\n",
    "![](2022-11-04-21-43-02.png)\n",
    "![](2022-11-04-21-43-11.png)"
   ]
  },
  {
   "cell_type": "code",
   "execution_count": 15,
   "metadata": {},
   "outputs": [
    {
     "name": "stdout",
     "output_type": "stream",
     "text": [
      "[[4. 3.]\n",
      " [8. 6.]]\n",
      "[2. 1.]\n",
      "8.0 4.0\n",
      "\n",
      "Final A:\n",
      "[[4. 3.]\n",
      " [0. 0.]]\n",
      "Final B\n",
      "[ 2. -3.]\n",
      "x values are: \n",
      "[[ inf]\n",
      " [-inf]]\n",
      "None\n",
      "0.0\n"
     ]
    },
    {
     "name": "stderr",
     "output_type": "stream",
     "text": [
      "C:\\Users\\feyzi\\AppData\\Local\\Temp\\ipykernel_22088\\1744512055.py:32: RuntimeWarning: divide by zero encountered in float_scalars\n",
      "  xv = b[k]/A[k,k] # xvalue = b[3]/A[3,3]\n"
     ]
    },
    {
     "data": {
      "image/png": "[encoded data removed]",
      "text/plain": [
       "<Figure size 640x480 with 1 Axes>"
      ]
     },
     "metadata": {},
     "output_type": "display_data"
    }
   ],
   "source": [
    "# Task 2.1\n",
    "A = np.array([[4,3],[8,6]])\n",
    "b = np.array([2,1])\n",
    "\n",
    "xp = np.arange(-5,5,0.1)\n",
    "y1 = b[0]/A[0,1]-A[0,0]/A[0,1]*xp\n",
    "y2 = b[1]/A[1,1]-A[1,0]/A[1,1]*xp\n",
    "\n",
    "plt.plot(xp,y1,'r')\n",
    "plt.plot(xp,y2,'b')\n",
    "\n",
    "x = MyGauss(A,b)\n",
    "print(x)\n",
    "\n",
    "det = np.linalg.det(A)\n",
    "print(det)"
   ]
  },
  {
   "cell_type": "code",
   "execution_count": 16,
   "metadata": {},
   "outputs": [
    {
     "data": {
      "image/png": "[encoded data removed]",
      "text/plain": [
       "<Figure size 640x480 with 1 Axes>"
      ]
     },
     "metadata": {},
     "output_type": "display_data"
    },
    {
     "name": "stdout",
     "output_type": "stream",
     "text": [
      "[[ 400. -201.]\n",
      " [-800.  401.]]\n",
      "[ 200. -200.]\n",
      "-800.0 400.0\n",
      "\n",
      "Final A:\n",
      "[[ 400. -201.]\n",
      " [   0.   -1.]]\n",
      "Final B\n",
      "[200. 200.]\n",
      "x values are: \n",
      "[[ -99.99999952]\n",
      " [-200.        ]]\n",
      "None\n",
      "-399.9999999999999\n",
      "[[ 401. -201.]\n",
      " [-800.  401.]]\n",
      "[ 200. -200.]\n",
      "-800.0 401.0\n",
      "\n",
      "Final A:\n",
      "[[ 4.0100000e+02 -2.0100000e+02]\n",
      " [ 0.0000000e+00  2.4719238e-03]]\n",
      "Final B\n",
      "[200.     199.0025]\n",
      "x values are: \n",
      "[[40353.43281126]\n",
      " [80505.109375  ]]\n",
      "None\n",
      "0.9999999999990905\n"
     ]
    },
    {
     "data": {
      "image/png": "[encoded data removed]",
      "text/plain": [
       "<Figure size 640x480 with 1 Axes>"
      ]
     },
     "metadata": {},
     "output_type": "display_data"
    }
   ],
   "source": [
    "# Task 2.2\n",
    "A = np.array([[400,-201],[-800,401]])\n",
    "b = np.array([200,-200])\n",
    "xp = np.arange(-100.5,-99.5,0.1)\n",
    "y1 = b[0]/A[0,1]-A[0,0]/A[0,1]*xp\n",
    "y2 = b[1]/A[1,1]-A[1,0]/A[1,1]*xp\n",
    "\n",
    "plt.plot(xp,y1,'r')\n",
    "plt.plot(xp,y2,'b')\n",
    "plt.show()\n",
    "x = MyGauss(A,b)\n",
    "print(x)\n",
    "\n",
    "det = np.linalg.det(A)\n",
    "print(det)\n",
    "\n",
    "\n",
    "\n",
    "A = np.array([[401,-201],[-800,401]])\n",
    "b = np.array([200,-200])\n",
    "xp = np.arange(-100.5,-99.5,0.1)\n",
    "y1 = b[0]/A[0,1]-A[0,0]/A[0,1]*xp\n",
    "y2 = b[1]/A[1,1]-A[1,0]/A[1,1]*xp\n",
    "\n",
    "plt.plot(xp,y1,'r')\n",
    "plt.plot(xp,y2,'b')\n",
    "\n",
    "x = MyGauss(A,b)\n",
    "print(x)\n",
    "\n",
    "det = np.linalg.det(A)\n",
    "print(det)"
   ]
  },
  {
   "cell_type": "markdown",
   "metadata": {},
   "source": [
    "# Task 3\n",
    "![](2022-11-04-21-43-35.png)"
   ]
  },
  {
   "cell_type": "code",
   "execution_count": 10,
   "metadata": {},
   "outputs": [
    {
     "name": "stdout",
     "output_type": "stream",
     "text": [
      "[[ 0. -1. -1.  0.  0.  0.]\n",
      " [ 0.  1.  0. -1. -1.  0.]\n",
      " [ 0.  0.  1.  1.  0. -1.]\n",
      " [ 0. -1. -2. -1.  0.  0.]\n",
      " [ 0.  0.  0. -1.  2. -1.]\n",
      " [ 1.  0.  0.  0. -1. -1.]]\n",
      "[[0.]\n",
      " [0.]\n",
      " [0.]\n",
      " [0.]\n",
      " [0.]\n",
      " [0.]]\n",
      "0.0 0.0\n",
      "0.0 0.0\n",
      "0.0 0.0\n",
      "0.0 0.0\n",
      "1.0 0.0\n",
      "nan nan\n",
      "nan nan\n",
      "nan nan\n",
      "inf nan\n",
      "nan nan\n",
      "nan nan\n",
      "nan nan\n",
      "nan nan\n",
      "nan nan\n",
      "nan nan\n",
      "\n",
      "Final A:\n",
      "[[ 0. -1. -1.  0.  0.  0.]\n",
      " [nan nan nan nan nan nan]\n",
      " [nan nan nan nan nan nan]\n",
      " [nan nan nan nan nan nan]\n",
      " [nan nan nan nan nan nan]\n",
      " [nan nan nan nan nan nan]]\n",
      "Final B\n",
      "[[ 0.]\n",
      " [nan]\n",
      " [nan]\n",
      " [nan]\n",
      " [nan]\n",
      " [nan]]\n",
      "x values are: \n",
      "[[nan]\n",
      " [nan]\n",
      " [nan]\n",
      " [nan]\n",
      " [nan]\n",
      " [nan]]\n"
     ]
    },
    {
     "name": "stderr",
     "output_type": "stream",
     "text": [
      "C:\\Users\\feyzi\\AppData\\Local\\Temp\\ipykernel_22088\\1744512055.py:16: RuntimeWarning: invalid value encountered in float_scalars\n",
      "  ratio = A[j,i]/A[i,i]\n",
      "C:\\Users\\feyzi\\AppData\\Local\\Temp\\ipykernel_22088\\1744512055.py:16: RuntimeWarning: divide by zero encountered in float_scalars\n",
      "  ratio = A[j,i]/A[i,i]\n",
      "C:\\Users\\feyzi\\AppData\\Local\\Temp\\ipykernel_22088\\1744512055.py:18: RuntimeWarning: invalid value encountered in multiply\n",
      "  A[j] = A[j] - (ratio * A[i])\n",
      "C:\\Users\\feyzi\\AppData\\Local\\Temp\\ipykernel_22088\\1744512055.py:19: RuntimeWarning: invalid value encountered in multiply\n",
      "  b[j] = b[j] - (ratio * b[i])\n",
      "C:\\Users\\feyzi\\AppData\\Local\\Temp\\ipykernel_22088\\1744512055.py:32: RuntimeWarning: invalid value encountered in true_divide\n",
      "  xv = b[k]/A[k,k] # xvalue = b[3]/A[3,3]\n",
      "C:\\Users\\feyzi\\AppData\\Local\\Temp\\ipykernel_22088\\1744512055.py:34: RuntimeWarning: divide by zero encountered in float_scalars\n",
      "  xv -= A[k,l]/A[k,k]* x[l] # subtract all uplter x values\n",
      "C:\\Users\\feyzi\\AppData\\Local\\Temp\\ipykernel_22088\\1744512055.py:34: RuntimeWarning: invalid value encountered in float_scalars\n",
      "  xv -= A[k,l]/A[k,k]* x[l] # subtract all uplter x values\n"
     ]
    }
   ],
   "source": [
    "currents = np.array([[0,-1,-1,0,0,0]\n",
    "                    ,[0,1,0,-1,-1,0]\n",
    "                    ,[0,0,1,1,0,-1]\n",
    "                    ,[0,-1,-2,-1,0,0]\n",
    "                    ,[0,0,0,-1,2,-1]\n",
    "                    ,[1,0,0,0,-1,-1]])\n",
    "\n",
    "results = np.array([\n",
    "    [0],\n",
    "    [0],\n",
    "    [0],\n",
    "    [0],\n",
    "    [0],\n",
    "    [0]])\n",
    "\n",
    "MyGauss(currents,results)"
   ]
  }
 ],
 "metadata": {
  "kernelspec": {
   "display_name": "Python 3.8.13 ('base')",
   "language": "python",
   "name": "python3"
  },
  "language_info": {
   "codemirror_mode": {
    "name": "ipython",
    "version": 3
   },
   "file_extension": ".py",
   "mimetype": "text/x-python",
   "name": "python",
   "nbconvert_exporter": "python",
   "pygments_lexer": "ipython3",
   "version": "3.8.13"
  },
  "vscode": {
   "interpreter": {
    "hash": "ad2bdc8ecc057115af97d19610ffacc2b4e99fae6737bb82f5d7fb13d2f2c186"
   }
  }
 },
 "nbformat": 4,
 "nbformat_minor": 4
}
