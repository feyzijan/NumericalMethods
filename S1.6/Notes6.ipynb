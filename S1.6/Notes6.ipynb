{
 "cells": [
  {
   "cell_type": "markdown",
   "metadata": {},
   "source": [
    "# Functions"
   ]
  },
  {
   "cell_type": "markdown",
   "metadata": {},
   "source": [
    "Every script coded so far has been written into one single piece of code, with a continuous and some times long, sequence of instructions."
   ]
  },
  {
   "cell_type": "markdown",
   "metadata": {},
   "source": [
    "Time is now mature to start coding as grown up.\n",
    "\n",
    "First of all, we should depart from coding into the notebook, and use other environments, such as Spider, and, most importantly, start writing a single file for every specific problem and/or task.\n",
    "\n",
    "By doing so we start thinking as structuring all our codes as independent pieces, each devoted to solve a specific problem and with a specific functionality.\n",
    "\n",
    "Examples of such similar specialised codes are the mathematical functions that we have already encountered and used. Beyond each of these functions there is a piece of code, written by someone else, devoted to perform the specific function they represent only.\n",
    "\n",
    "By doing so, we are able to subdivide complex problems and large codes, into smaller and more approachable sub-problems. We can then focus, separately and independently, on each of these sub-problems, with lesser difficulties.\n",
    "This approach is also known as Top-Down; i.e. starting from a large problem, to subdivide it into smaller problems, and keep doing so into sub-sub-problems, until these become enough simple to be solved with high accuracy.\n",
    "\n",
    "\n",
    "(For a more comprehensive discussion about this approach and helpful analogies, refer to my Panopto recording of Session 6).\n"
   ]
  },
  {
   "cell_type": "markdown",
   "metadata": {},
   "source": [
    "In Computing, these sub-problems can be implemented with single pieces of codes known as Functions.\n",
    "\n",
    "Every Function is devoted to solve only one specific task, and nothing else. \n",
    "For example, we can have a function that computes the factorial of a number, or a function that sort a list of values, or a function that search for a value in a list, or a function that computes the exponential of a number (this function is available in the math module alrady, but we are going to write one ourself to show our pride!!)\n"
   ]
  },
  {
   "cell_type": "markdown",
   "metadata": {},
   "source": [
    "## Defining a function"
   ]
  },
  {
   "cell_type": "markdown",
   "metadata": {},
   "source": [
    "First of all, before defining any function, we need to christen it with a name, in the same way as we christen variables with identifiers. It is god practice to choose meaningful names for the functions.\n",
    "\n",
    "Let's define and write a function that counts the number of elements in a list (that would be the equivalent of the function you know already len().\n",
    "\n",
    "To stay meaningful, we could choose the name Count for such function."
   ]
  },
  {
   "cell_type": "code",
   "execution_count": null,
   "metadata": {},
   "outputs": [],
   "source": [
    "def Count():\n",
    "   # all the instructions witten in here (the body of the function), will be performed by teh function only "
   ]
  },
  {
   "cell_type": "markdown",
   "metadata": {},
   "source": [
    "Def defines the context of a function: every instruction embedded in it will be executed by the function only and limited to it. The assignment a = 2 is part of func1 only, whilst b = 3 belongs to func2 only.\n",
    "After all the instruction is a function have been completed, the funtion has finished its job."
   ]
  },
  {
   "cell_type": "code",
   "execution_count": null,
   "metadata": {},
   "outputs": [],
   "source": [
    "def func1():\n",
    "    # all the instructions written in here belong to func1 only\n",
    "    a = 2\n",
    "    \n",
    "def func2():\n",
    "    # all the instructions written in here belong to func2 only\n",
    "    b = 3\n",
    "    \n",
    "def func3():\n",
    "    # all the instructions written in here belong to func3 only\n",
    "    a = 4\n",
    "    if a == 4:\n",
    "        print('Obviously it was 4')\n",
    "    c = 5"
   ]
  },
  {
   "cell_type": "markdown",
   "metadata": {},
   "source": [
    "The following functions prints out 5 times each some Xmas greetings:"
   ]
  },
  {
   "cell_type": "code",
   "execution_count": null,
   "metadata": {},
   "outputs": [],
   "source": [
    "def Xmas():\n",
    "    for i in range(1,6):\n",
    "        print('Happy Xmas')\n",
    "        \n",
    "def NewYear():\n",
    "    for i in range(1,6):\n",
    "        print('Happy New Year') "
   ]
  },
  {
   "cell_type": "markdown",
   "metadata": {},
   "source": [
    "## Invoking a function "
   ]
  },
  {
   "cell_type": "markdown",
   "metadata": {},
   "source": [
    "Every function is a stand alone entity, that remains in stand by until it is invoked.\n",
    "To invoke a function, i.e. to activate and execute it, we need to call it. (Invoking a function is also known as calling a function).\n",
    "Often we call functions from a script, that would be our main script."
   ]
  },
  {
   "cell_type": "code",
   "execution_count": null,
   "metadata": {},
   "outputs": [],
   "source": [
    "def Xmas():\n",
    "    for i in range(1,6):\n",
    "        print('Happy Xmas')\n",
    "        \n",
    "def NewYear():\n",
    "    for i in range(1,6):\n",
    "        print('Happy New Year') \n",
    "\n",
    "# main script\n",
    "# Print out greeting, according to the date\n",
    "date = int(input('Gimme a date:'))\n",
    "if date == 25:\n",
    "    # we need to print Xmas greetings, hence we invoke teh function Xmas, that would do so:\n",
    "    print('I happen before Xmas')\n",
    "    Xmas()\n",
    "    print('I happen after Xmas')\n",
    "elif date == 31:\n",
    "    # we need to print New Years greetings, hence we invoke teh function Xmas, that would do so:\n",
    "    print('I happen before NewYear')\n",
    "    NewYear()\n",
    "    print('I happen after NewYear')\n",
    "else:\n",
    "    print('Sorry. No greetings')\n"
   ]
  },
  {
   "cell_type": "markdown",
   "metadata": {},
   "source": [
    "Few comments:\n",
    "\n",
    "1) Any function, when invoked, needs to have been already defined before. I.e., Xmas() and NewYear() need to be written before the main script, where they are invoked.\n",
    "\n",
    "2) A function is invoked by writing its name/identifier at the point of the script where we wish the function should start performing.\n",
    "\n",
    "3) When a function is called, the script hands over the control of the flow to the function. All the statements within the function are performed, and only when the function has finished, the control of the flow is handed back to the main script. Observe the sequence of printed messages and where they are stated in the script.\n",
    "\n",
    "4) Once the control of the flow is handed back to the main script, the sequence continues immediately after the point where the function is invoked"
   ]
  },
  {
   "cell_type": "markdown",
   "metadata": {},
   "source": [
    "Functions do not have to be invoked necessarily from main scripts only, but can indeed be called st point within other functions: try to follow the sequence of events in this example:"
   ]
  },
  {
   "cell_type": "code",
   "execution_count": null,
   "metadata": {},
   "outputs": [],
   "source": [
    "def func1():\n",
    "    print('Coffe')\n",
    "    \n",
    "def func2():\n",
    "    func1()\n",
    "    print('Breakfast')\n",
    "    func1()\n",
    "    print('Lunch')\n",
    "    \n",
    "def func3():\n",
    "    print('Monday')\n",
    "    func2()\n",
    "    print('Tuesday')\n",
    "    func2()\n",
    "    print('Toilet')\n",
    "    func1()\n",
    "    \n",
    "def func4():\n",
    "    print('Saturday')\n",
    "    func1()\n",
    "    print('Sunday')\n",
    "    func2()\n",
    "    \n",
    "# main\n",
    "print('Calendar:')\n",
    "func3()\n",
    "func4()\n",
    "func1()"
   ]
  },
  {
   "cell_type": "markdown",
   "metadata": {},
   "source": [
    "## Scope of variables "
   ]
  },
  {
   "cell_type": "markdown",
   "metadata": {},
   "source": [
    "As seen, functions can be considered stand alone, independent pieces of code: whatever happens in a function stays within the function. This is true even for variables: every variable used within a function remains private within the function and ceases to exist after the function is completed.\n",
    "\n",
    "Variables within a function are said to be private variables.\n",
    "Variables with same name in different functions, remain private within each function. Their values is valid and accessible only within the function. Once the function terminates, their private values disappear."
   ]
  },
  {
   "cell_type": "code",
   "execution_count": null,
   "metadata": {},
   "outputs": [],
   "source": [
    "def MondayNight():\n",
    "    HannaPartner = 'Tony'\n",
    "    print('Hanna sleeps with '+HannaPartner)\n",
    "    \n",
    "def TuesdayNight():\n",
    "    PaulPartner = 'Josie'\n",
    "    print('Paul sleeps with '+PaulPartner)   \n",
    "    HannaPartner = 'Robert'\n",
    "    print('Hanna sleeps with '+HannaPartner)   \n",
    "def WedNight():\n",
    "    HannaPartner = 'Janguo'\n",
    "    print('Hanna sleeps with '+HannaPartner)  \n",
    "    \n",
    "def ThursdayNight():\n",
    "    PaulPartner = 'Charlotte'\n",
    "    print('Paul sleeps with '+PaulPartner) \n",
    "    HannaPartner = 'Dennis'\n",
    "    print('Hanna sleeps with '+HannaPartner) \n",
    "    \n",
    "    \n",
    "# main\n",
    "HannaPartner = 'Paul'\n",
    "PaulPartner = 'Hannah'\n",
    "print('Week-end:')\n",
    "print(HannaPartner+' sleeps with '+PaulPartner)\n",
    "print('Week-days:')\n",
    "MondayNight()\n",
    "TuesdayNight()\n",
    "WedNight()\n",
    "ThursdayNight()\n",
    "print('Week-end:')\n",
    "print(HannaPartner+' sleeps with '+PaulPartner)\n",
    "print('Whatever naughty happened in week days, stayed private')\n"
   ]
  },
  {
   "cell_type": "markdown",
   "metadata": {},
   "source": [
    "## Arguments of a function"
   ]
  },
  {
   "cell_type": "markdown",
   "metadata": {},
   "source": [
    "Until now we have been examining functions that did not require any data from the caller. However, how it is often the case, functions need to receive some values or data from the caller, so they can analyse and/or compute these data.\n",
    "For example, the function sin() would need to know at which angle we wish to find the sine value or, if we wish to compute the power of a number, we would need to tell the dedicated function the base and the exponent."
   ]
  },
  {
   "cell_type": "markdown",
   "metadata": {},
   "source": [
    "### Input arguments"
   ]
  },
  {
   "cell_type": "markdown",
   "metadata": {},
   "source": [
    "Every time a function needs some values these are called input arguments"
   ]
  },
  {
   "cell_type": "code",
   "execution_count": null,
   "metadata": {},
   "outputs": [],
   "source": [
    "def Power(base,exponent):\n",
    "    # the variables base and exponent are input arguments to the function Power\n",
    "    p = base ** exponent\n",
    "    print(p)\n",
    "    \n",
    "def Find(Students,Name):\n",
    "    # the variables Students and Name are input arguments to the function Find\n",
    "    Found = False\n",
    "    i = 0\n",
    "    while (not Found) and i < len(Students):\n",
    "        if Students[i] == Name:\n",
    "            print(Name+' is in the list')\n",
    "            Found = True\n",
    "        else:\n",
    "            i += 1\n"
   ]
  },
  {
   "cell_type": "markdown",
   "metadata": {},
   "source": [
    "Variable arguments, same as other variables in functions are Private. They cease to exist once the function is completed. Any use outside the function will result in an error."
   ]
  },
  {
   "cell_type": "code",
   "execution_count": null,
   "metadata": {},
   "outputs": [],
   "source": [
    "def Power(base,exponent):\n",
    "    # the variables base and exponent are input arguments to the function Power\n",
    "    p = base ** exponent\n",
    "    print(p)\n",
    "#   \n",
    "Power(2,3)\n",
    "# the variable base was private to Power. It doesn't exist here and its use will cause an error\n",
    "print(base)"
   ]
  },
  {
   "cell_type": "markdown",
   "metadata": {},
   "source": [
    "Values are passed from the caller to the function, through the arguments, when the function is invoked.\n",
    "The position of the values in the caller must match the position of the arguments in the function:"
   ]
  },
  {
   "cell_type": "code",
   "execution_count": null,
   "metadata": {},
   "outputs": [],
   "source": [
    "a = 3\n",
    "b = 2\n",
    "Power(a,b)\n",
    "Power(b,a)\n",
    "Power(b,b)"
   ]
  },
  {
   "cell_type": "markdown",
   "metadata": {},
   "source": [
    "Since variables in functions are private, we could also use variables with same names in the caller main script:"
   ]
  },
  {
   "cell_type": "code",
   "execution_count": null,
   "metadata": {},
   "outputs": [],
   "source": [
    "def Power(base,exponent):\n",
    "    # the variables base and exponent are input arguments to the function Power\n",
    "    p = base ** exponent\n",
    "    print(p)\n",
    "\n",
    "    \n",
    "# the variables here in the caller are different from the variables in Power, even if they bear the same names\n",
    "base = 3\n",
    "exponent = 2\n",
    "Power(base,exponent)\n",
    "Power(exponent,base)\n",
    "Power(exponent,exponent)\n",
    "base += 2\n",
    "Power(base,exponent)\n",
    "p = 8\n",
    "Power(p,exponent)"
   ]
  },
  {
   "cell_type": "markdown",
   "metadata": {},
   "source": [
    "It is important that the exact number and type of arguments requested by a function are passed when calling it:"
   ]
  },
  {
   "cell_type": "code",
   "execution_count": null,
   "metadata": {},
   "outputs": [],
   "source": [
    "def Power(base,exponent):\n",
    "    # the variables base and exponent are input arguments to the function Power\n",
    "    p = base ** exponent\n",
    "    print(p)\n",
    "    \n",
    "base = 3\n",
    "exponent = 2\n",
    "# this will generate an error, as we are passing only one value whilst two are requested\n",
    "Power(base)\n",
    "base = [2,3,4]\n",
    "# this will generate an error, as we are passing a list of numbers and a single number, whilst two single numbers are \n",
    "# requested\n",
    "exponent = 2\n",
    "Power(base,exponent)"
   ]
  },
  {
   "cell_type": "markdown",
   "metadata": {},
   "source": [
    "### Output or returning arguments "
   ]
  },
  {
   "cell_type": "markdown",
   "metadata": {},
   "source": [
    "Until now, all the functions we have seen as examples, perform some taks within themselves, i.e. they compute some maths and print out the results  or just print out some results based on conditions.\n",
    "\n",
    "None of the functions above provide back to the caller some result or some values.\n",
    "However, in the same way as function may need some values as input from the caller, they are able to provide back to the caller some other values in return.\n",
    "\n",
    "Hence, in teh same way as a function can have input arguments, it may have output arguments as well.\n",
    "\n",
    "The function Power, for instance, can provide back the result, without printing it.\n",
    "\n",
    "By doing so, the value of variable p, after being computed, is given back to the caller for any subsequent use within the main script.\n",
    "The variable p is an output argument for the function Power, in the same way as the variables base and exponent are input arguments."
   ]
  },
  {
   "cell_type": "code",
   "execution_count": null,
   "metadata": {},
   "outputs": [],
   "source": [
    "def Power(base,exponent):\n",
    "    # the variables base and exponent are input arguments to the function Power\n",
    "    p = base ** exponent\n",
    "    return p"
   ]
  },
  {
   "cell_type": "markdown",
   "metadata": {},
   "source": [
    "In presence of an output argument it is essential for the caller to be able to receive back some values from the invoked function. This act of receiving can be implemented by assigning the output value from the function to a local variable within the caller:"
   ]
  },
  {
   "cell_type": "code",
   "execution_count": null,
   "metadata": {},
   "outputs": [],
   "source": [
    "def Power(base,exponent):\n",
    "    # the variables base and exponent are input arguments to the function Power\n",
    "    p = base ** exponent\n",
    "    return p\n",
    "\n",
    "# main script\n",
    "base = 2\n",
    "exponent = 4\n",
    "res = Power(base,exponent)\n",
    "print(res)"
   ]
  },
  {
   "cell_type": "markdown",
   "metadata": {},
   "source": [
    "The variable res receives the outcome from function Power.\n",
    "The function Power is firstly invoked, the two values of the two variables base and exponent are passed as input arguments. The function computes the power into variable p. At the end of the function, the value of variable p is passed back to the main script, as contemporarily the function ceases to exist. When the return statement is invoked, it will result in the immediate exit and end of the function. The function will imemdiately estinguishes.\n",
    "As the function estinguishes, the value of p is received by and into variable res.\n",
    "Variable res is private within the main script, and will contain the value given to it from p."
   ]
  },
  {
   "cell_type": "markdown",
   "metadata": {},
   "source": [
    "Note that we could have used as receiving variable a variable named p as well.\n",
    "Variable p in the main is different from variable p in the function. Each is private to its part of the code."
   ]
  },
  {
   "cell_type": "code",
   "execution_count": null,
   "metadata": {},
   "outputs": [],
   "source": [
    "def Power(base,exponent):\n",
    "    # the variables base and exponent are input arguments to the function Power\n",
    "    p = base ** exponent\n",
    "    return p\n",
    "\n",
    "# main script\n",
    "base = 2\n",
    "exponent = 4\n",
    "p = Power(base,exponent)\n",
    "print(p)"
   ]
  },
  {
   "cell_type": "markdown",
   "metadata": {},
   "source": [
    "If a function needs to return more than one variable, the output arguments can be put in the form of a tuple, as we cannot have two return statements in succession (the firt return will estinguish the function immediately and impede for teh second return to happen)."
   ]
  },
  {
   "cell_type": "code",
   "execution_count": null,
   "metadata": {},
   "outputs": [],
   "source": [
    "def SumAndPower(a,b):\n",
    "    Sum = a + b\n",
    "    Power = a ** b\n",
    "    return Sum  # this will stop the function immediately and return the value of Sum\n",
    "    return Power  # this will never happen\n",
    "\n",
    "# main script\n",
    "a = 2\n",
    "b = 4\n",
    "s = SumAndPower(a,b)\n",
    "print(s)"
   ]
  },
  {
   "cell_type": "markdown",
   "metadata": {},
   "source": [
    "By using a tuple we can pass back both variables Sum and Power at the same time.\n",
    "\n",
    "Of course, if a function is passing back a tuple as output arguments, the caller must be ready to receive them in form of a tuple too."
   ]
  },
  {
   "cell_type": "code",
   "execution_count": null,
   "metadata": {},
   "outputs": [],
   "source": [
    "def SumAndPower(a,b):\n",
    "    Sum = a + b\n",
    "    Power = a ** b\n",
    "    return (Sum,Power)  # this will stop the function immediately and return the values of Sum and Power as a tuple\n",
    "\n",
    "# main script\n",
    "a = 2\n",
    "b = 4\n",
    "(s,p) = SumAndPower(a,b)  # we need a tuple (s,p) to receive the tuple from the function\n",
    "print(s,p)"
   ]
  },
  {
   "cell_type": "markdown",
   "metadata": {},
   "source": [
    "### Lists as arguments "
   ]
  },
  {
   "cell_type": "markdown",
   "metadata": {},
   "source": [
    "A special attention is needed when passing lists as arguments. Since lists are referenced, by changing the value of a list in the function any change is reflected into the caller.\n",
    "\n",
    "List a is passed as argument to variable add10. List L receives the reference to list a, hence it is still referring to the same list. Now there are two identifiers, a in main and L in fucntion add2, both poiting to the same physical list. Both the pointers a and L are privates to their part of code, but the actual list is teh same.\n",
    "\n",
    "The function add10 alters the content of the list addresses by L. By doing so, the physical list is altered with new values (plus ten). The content of L, i.e. the reference to the list is passed back to the main into variable b. Variable L ends its course as the functione estinguishes.\n",
    "\n",
    "Variable b points to a list with values altered. But that same list was also pointed by variable a. Hence, printing a and b will give the same output.\n"
   ]
  },
  {
   "cell_type": "code",
   "execution_count": 1,
   "metadata": {},
   "outputs": [
    {
     "name": "stdout",
     "output_type": "stream",
     "text": [
      "[1, 2, 3, 4, 5, 6, 7, 8, 9, 10]\n",
      "[11, 12, 13, 14, 15, 16, 17, 18, 19, 20]\n",
      "[11, 12, 13, 14, 15, 16, 17, 18, 19, 20]\n"
     ]
    }
   ],
   "source": [
    "def add10(L):\n",
    "    for i in range(0,len(L)):\n",
    "        L[i] += 10\n",
    "    return L   \n",
    "\n",
    "# main\n",
    "a = [1,2,3,4,5,6,7,8,9,10]\n",
    "print(a)\n",
    "b = add10(a)\n",
    "print(b)\n",
    "print(a)"
   ]
  },
  {
   "cell_type": "markdown",
   "metadata": {},
   "source": [
    "Another example.\n",
    "Function add20 adds 20 to a list of numbers and doesn't return anything. Nevertheless, since the argument is a list, any change made to it in the function is reflected into the main script too.\n"
   ]
  },
  {
   "cell_type": "code",
   "execution_count": 1,
   "metadata": {},
   "outputs": [
    {
     "name": "stdout",
     "output_type": "stream",
     "text": [
      "[1, 2, 3, 4, 5, 6, 7, 8, 9, 10]\n",
      "[11, 12, 13, 14, 15, 16, 17, 18, 19, 20]\n"
     ]
    }
   ],
   "source": [
    "def add20(x):\n",
    "    for i in range(0,len(x)):\n",
    "        x[i] += 10 \n",
    "\n",
    "# main\n",
    "a = [1,2,3,4,5,6,7,8,9,10]\n",
    "print(a)\n",
    "add20(a)\n",
    "print(a)"
   ]
  },
  {
   "cell_type": "code",
   "execution_count": 2,
   "metadata": {},
   "outputs": [
    {
     "name": "stdout",
     "output_type": "stream",
     "text": [
      "[1, 2, 3, 4, 5, 6, 7, 8, 9, 10]\n",
      "[11, 12, 13, 14, 15, 16, 17, 18, 19, 20]\n"
     ]
    }
   ],
   "source": [
    "def add20(x):\n",
    "    for i in range(0,len(x)):\n",
    "        x[i] += 10 \n",
    "\n",
    "# main\n",
    "x = [1,2,3,4,5,6,7,8,9,10]\n",
    "print(x)\n",
    "add20(x)\n",
    "print(x)"
   ]
  },
  {
   "cell_type": "markdown",
   "metadata": {},
   "source": [
    "As a general good practice, it is safer to keep separated variables within the functions from variables within the main script or the caller.\n",
    "\n",
    "To do so in presence of lists, it is better, within the function, to create any returning list as new lists.\n",
    "\n",
    "List a is passed to the function through argument inp. (a and inp are pointing to the same list, each privately from main and from function)\n",
    "\n",
    "A new list out is created, adding 10 to any value of inp. (out points to the new list, which is physically different from the inputted list)\n",
    "\n",
    "The value of out is returned to the main into variable b. Variables inp and out estinguish. \n",
    "\n",
    "Variable b points to the new list, whilst variable a points to the initiali list, which remained unaltered."
   ]
  },
  {
   "cell_type": "code",
   "execution_count": 5,
   "metadata": {},
   "outputs": [
    {
     "name": "stdout",
     "output_type": "stream",
     "text": [
      "[1, 2, 3, 4, 5, 6, 7, 8, 9, 10]\n",
      "[11, 12, 13, 14, 15, 16, 17, 18, 19, 20]\n",
      "[1, 2, 3, 4, 5, 6, 7, 8, 9, 10]\n"
     ]
    }
   ],
   "source": [
    "def add10(inp):\n",
    "    out = []\n",
    "    for i in range(0,len(inp)):\n",
    "        out += [inp[i] + 10]\n",
    "    return out  \n",
    "\n",
    "# main\n",
    "a = [1,2,3,4,5,6,7,8,9,10]\n",
    "print(a)\n",
    "b = add10(a)\n",
    "print(b)\n",
    "print(a)"
   ]
  },
  {
   "cell_type": "code",
   "execution_count": null,
   "metadata": {},
   "outputs": [],
   "source": []
  }
 ],
 "metadata": {
  "kernelspec": {
   "display_name": "Python 3",
   "language": "python",
   "name": "python3"
  },
  "language_info": {
   "codemirror_mode": {
    "name": "ipython",
    "version": 3
   },
   "file_extension": ".py",
   "mimetype": "text/x-python",
   "name": "python",
   "nbconvert_exporter": "python",
   "pygments_lexer": "ipython3",
   "version": "3.7.4"
  }
 },
 "nbformat": 4,
 "nbformat_minor": 2
}
