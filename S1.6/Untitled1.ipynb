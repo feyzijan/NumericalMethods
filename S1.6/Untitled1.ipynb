{
 "cells": [
  {
   "cell_type": "code",
   "execution_count": 45,
   "metadata": {},
   "outputs": [
    {
     "name": "stdout",
     "output_type": "stream",
     "text": [
      " Give me the shooting angle in radians: 1\n",
      " Give me the shooting velocity: 4\n",
      "Target hit\n"
     ]
    },
    {
     "data": {
      "image/png": "[encoded data removed]",
      "text/plain": [
       "<Figure size 432x288 with 1 Axes>"
      ]
     },
     "metadata": {
      "needs_background": "light"
     },
     "output_type": "display_data"
    }
   ],
   "source": [
    "import matplotlib.pyplot as pl\n",
    "import math as mt\n",
    "\n",
    "##Task: Shoot a projectile with a given angle and speed and see if it hits the target circle\n",
    "\n",
    "ao = float(input(' Give me the shooting angle in radians: '))\n",
    "vo = float(input(' Give me the shooting velocity: '))\n",
    "\n",
    "xt = 0.5\n",
    "yt = 0.5\n",
    "R = 0.02\n",
    "\n",
    "    \n",
    "def Shootbullet (ao,vo,xt,yt,R):\n",
    "    # Function must return the x and y trajectory of the bullet as a list\n",
    "    # Function must also return boolean to say whether the target was hit\n",
    "    x = []\n",
    "    y = []\n",
    "    yp = 0\n",
    "    xp = 0\n",
    "    dx = 0.01\n",
    "\n",
    "    \n",
    "\n",
    "\n",
    "    while xp <= 1:\n",
    "        yp = xp*mt.tan(ao) - 9.81*(xp**2)/2/(vo**2)/((mt.cos(ao))**2)\n",
    "        x = x +[xp]\n",
    "        y = y +[yp]\n",
    "        if ((yt - R) <= yp) and (yp <= (yt + R)) and ((xt-R)<= xp) and (xp<= (xt+R)):\n",
    "            pl.plot(x,y,linewidth='1')\n",
    "            pl.axis([0, 1, 0, 1])\n",
    "            return(True)\n",
    "        xp += dx\n",
    "    pl.plot(x,y,linewidth='1')\n",
    "    pl.axis([0, 1, 0, 1])\n",
    "    return (False)\n",
    "\n",
    "\n",
    "circle1 = pl.Circle((xt, yt), R, color='r',  fill= False)\n",
    "fig, ax = pl.subplots()\n",
    "ax.add_artist(circle1)\n",
    "\n",
    "\n",
    "result = Shootbullet(ao,vo,xt,yt,R)\n",
    "if (result == True):\n",
    "    print('Target hit')\n",
    "else:\n",
    "    print('Target not hit')\n",
    "    \n",
    "    \n",
    "\n",
    "\n"
   ]
  },
  {
   "cell_type": "markdown",
   "metadata": {},
   "source": []
  },
  {
   "cell_type": "markdown",
   "metadata": {},
   "source": []
  },
  {
   "cell_type": "code",
   "execution_count": null,
   "metadata": {},
   "outputs": [],
   "source": []
  }
 ],
 "metadata": {
  "kernelspec": {
   "display_name": "Python 3",
   "language": "python",
   "name": "python3"
  },
  "language_info": {
   "codemirror_mode": {
    "name": "ipython",
    "version": 3
   },
   "file_extension": ".py",
   "mimetype": "text/x-python",
   "name": "python",
   "nbconvert_exporter": "python",
   "pygments_lexer": "ipython3",
   "version": "3.7.4"
  }
 },
 "nbformat": 4,
 "nbformat_minor": 2
}
