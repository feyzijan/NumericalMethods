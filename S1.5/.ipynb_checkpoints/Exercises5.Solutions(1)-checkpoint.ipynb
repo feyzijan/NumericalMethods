{
 "cells": [
  {
   "cell_type": "markdown",
   "metadata": {},
   "source": [
    "# Task A"
   ]
  },
  {
   "cell_type": "code",
   "execution_count": null,
   "metadata": {},
   "outputs": [],
   "source": [
    "# read files\n",
    "f = open('Names.txt','r')\n",
    "Names = f.readlines()\n",
    "g = open('Groups.txt','r')\n",
    "Group = g.readlines()\n",
    "h = open('Marks.txt','r')\n",
    "Marks = h.readlines()\n",
    "f.close()\n",
    "g.close()\n",
    "h.close()\n",
    "# set the range to traverse the files\n",
    "R = range(0,len(Names))\n",
    "# initialise the list\n",
    "Students = []\n",
    "for i in R:\n",
    "    # add to the list a tuple made of a line from each of the three files\n",
    "    Students = Students + [(Names[i].rstrip(),Group[i].rstrip(),int(Marks[i]))]\n",
    "#\n",
    "# print out the list\n",
    "for student in Students:\n",
    "    print(student)\n",
    "    "
   ]
  },
  {
   "cell_type": "markdown",
   "metadata": {},
   "source": [
    "# Task B"
   ]
  },
  {
   "cell_type": "code",
   "execution_count": null,
   "metadata": {},
   "outputs": [],
   "source": [
    "# after having read the files (see Task A)\n",
    "# set the range to traverse the files\n",
    "N = len(Students)\n",
    "R = range(0,N)\n",
    "for i in R:\n",
    "    # check for any larger value on the right of position i\n",
    "    Rright = range(i+1,N)\n",
    "    for j in Rright:\n",
    "        if Students[j][2] > Students[i][2]:\n",
    "            # there is a value in position j larger than value in position i\n",
    "            # swap j with i\n",
    "            # we can swap with tuples:\n",
    "            (Students[j] , Students[i]) = (Students[i] , Students[j])\n",
    "            # or, if the above line makes you sleepless, swap the traditional way with a temp variable:\n",
    "            #temp = Students[j]\n",
    "            #Students[j] = Students[i]\n",
    "            #Students[i] = temp\n",
    "# \n",
    "print(Students[40])\n",
    "# print out the list\n",
    "#for student in Students:\n",
    "#    print(student)\n"
   ]
  },
  {
   "cell_type": "markdown",
   "metadata": {},
   "source": [
    "# Task C"
   ]
  },
  {
   "cell_type": "code",
   "execution_count": null,
   "metadata": {},
   "outputs": [],
   "source": [
    "import matplotlib.pyplot as pl\n",
    "# after having read the files (see Task A)\n",
    "# set the range to traverse the files\n",
    "Ns = len(Students)\n",
    "# initialise the list that will contain the statistics\n",
    "Stat = []\n",
    "# examine all the marks, from 100 to 1, in reverse order\n",
    "for mark in range(100,0,-1):\n",
    "    # find which student had got this mark\n",
    "    # initialise the counting\n",
    "    count = 0\n",
    "    # initialise the list of students with this mark\n",
    "    LS = []\n",
    "    # examine all the students in list Students\n",
    "    for i in range(0,Ns):\n",
    "        # check the mark of this student\n",
    "        if Students[i][2] == mark:\n",
    "            # this student has the mark examined\n",
    "            # increment the counting\n",
    "            count = count + 1\n",
    "            # add his name to the list\n",
    "            LS = LS + [Students[i][0]]\n",
    "    # if this mark occurred add it to the list Stat\n",
    "    # an element of the list is made of a tuple: (mark,occurrence,list of students with this mark)\n",
    "    if count > 0:\n",
    "        Stat = Stat + [(mark,count,LS)]\n",
    "\n",
    "# print out the statistics       \n",
    "for item in Stat:\n",
    "    print('Mark '+str(item[0])+' occurs '+str(item[1])+' times. List of students: ')\n",
    "    for student in item[2]:\n",
    "        print(student)\n",
    "    print('\\n')\n",
    "# plot the statistics in a bar chart\n",
    "for item in Stat:\n",
    "    pl.bar(item[0],item[1])"
   ]
  },
  {
   "cell_type": "code",
   "execution_count": null,
   "metadata": {},
   "outputs": [],
   "source": []
  }
 ],
 "metadata": {
  "kernelspec": {
   "display_name": "Python 3",
   "language": "python",
   "name": "python3"
  },
  "language_info": {
   "codemirror_mode": {
    "name": "ipython",
    "version": 3
   },
   "file_extension": ".py",
   "mimetype": "text/x-python",
   "name": "python",
   "nbconvert_exporter": "python",
   "pygments_lexer": "ipython3",
   "version": "3.7.4"
  }
 },
 "nbformat": 4,
 "nbformat_minor": 2
}
